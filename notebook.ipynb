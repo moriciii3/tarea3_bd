{
  "cells": [
    {
      "cell_type": "markdown",
      "metadata": {},
      "source": [
        "# Tarea 3 MongoDB, arXiv\n",
        "##### Integrantes:\n",
        "Bruno Morici, ROL: 202373555-8,\n",
        "Martin Aranda, ROL: 202373021-1"
      ]
    },
    {
      "cell_type": "markdown",
      "metadata": {
        "id": "OLP_JWcpkpxb"
      },
      "source": [
        "## Primera Etapa\n",
        "Instalación de dependencias"
      ]
    },
    {
      "cell_type": "code",
      "execution_count": 6,
      "metadata": {
        "colab": {
          "base_uri": "https://localhost:8080/"
        },
        "id": "CjQ3LC2IKV5T",
        "outputId": "49b89894-2894-495c-8130-73fbc4804ab7"
      },
      "outputs": [
        {
          "name": "stdout",
          "output_type": "stream",
          "text": [
            "Requirement already satisfied: pymongo in c:\\users\\bruno\\appdata\\local\\programs\\python\\python311\\lib\\site-packages (4.13.0)\n",
            "Requirement already satisfied: dnspython<3.0.0,>=1.16.0 in c:\\users\\bruno\\appdata\\local\\programs\\python\\python311\\lib\\site-packages (from pymongo) (2.7.0)\n"
          ]
        },
        {
          "name": "stderr",
          "output_type": "stream",
          "text": [
            "\n",
            "[notice] A new release of pip is available: 24.3.1 -> 25.1.1\n",
            "[notice] To update, run: python.exe -m pip install --upgrade pip\n"
          ]
        },
        {
          "name": "stdout",
          "output_type": "stream",
          "text": [
            "Requirement already satisfied: tqdm in c:\\users\\bruno\\appdata\\local\\programs\\python\\python311\\lib\\site-packages (4.67.1)\n",
            "Requirement already satisfied: colorama in c:\\users\\bruno\\appdata\\local\\programs\\python\\python311\\lib\\site-packages (from tqdm) (0.4.6)\n"
          ]
        },
        {
          "name": "stderr",
          "output_type": "stream",
          "text": [
            "\n",
            "[notice] A new release of pip is available: 24.3.1 -> 25.1.1\n",
            "[notice] To update, run: python.exe -m pip install --upgrade pip\n"
          ]
        }
      ],
      "source": [
        "# Instalamos dependencias\n",
        "!pip install pymongo\n",
        "!pip install tqdm"
      ]
    },
    {
      "cell_type": "markdown",
      "metadata": {},
      "source": [
        "## Segunda Etapa\n",
        "Conexión a la BD \"arxiv_db\" y creación de colección \"articles\""
      ]
    },
    {
      "cell_type": "code",
      "execution_count": 8,
      "metadata": {},
      "outputs": [
        {
          "name": "stdout",
          "output_type": "stream",
          "text": [
            "✅ Conexión exitosa\n",
            "Primario: ('mongo3', 27017)\n"
          ]
        }
      ],
      "source": [
        "from pymongo import MongoClient\n",
        "\n",
        "# Conexión a Replica Set con preferencia al primario\n",
        "client = MongoClient(\"mongodb://mongo1:27017,mongo2:27017,mongo3:27017/?replicaSet=rs0\")\n",
        "\n",
        "db = client[\"arxiv_db\"]\n",
        "collection = db[\"articles\"]\n",
        "\n",
        "try:\n",
        "    server_info = client.server_info()\n",
        "    print(\"✅ Conexión exitosa\")\n",
        "    print(f\"Primario: {client.primary}\") # El cliente retorna un primario mal detectado, es normal, pero las escrituras se realizan sobre mongo1\n",
        "except Exception as e:\n",
        "    print(f\"❌ Error de conexión: {e}\")"
      ]
    },
    {
      "cell_type": "markdown",
      "metadata": {},
      "source": [
        "## Tercera Etapa\n",
        "Procesamiento del dataset hacia la BD (ejecutar una sola vez, luego los datos quedan en la BD)"
      ]
    },
    {
      "cell_type": "markdown",
      "metadata": {},
      "source": [
        "Observación: El dataset tiene un JSON en cada línea, no es una lista de JSON's. Recorremos cada JSON, lo parseamos y guardamos en una lista de data (demora unos 6 minutos)"
      ]
    },
    {
      "cell_type": "code",
      "execution_count": null,
      "metadata": {
        "colab": {
          "base_uri": "https://localhost:8080/",
          "height": 356
        },
        "id": "GU00dCWikwRA",
        "outputId": "7a5a8ae0-4d89-4ede-9fe9-3383a567aca6"
      },
      "outputs": [
        {
          "name": "stdout",
          "output_type": "stream",
          "text": [
            "Iniciando carga de datos a MongoDB...\n"
          ]
        },
        {
          "name": "stderr",
          "output_type": "stream",
          "text": [
            "Cargando datos: 100%|██████████| 2744489/2744489 [28:58<00:00, 1578.86it/s] \n"
          ]
        },
        {
          "name": "stdout",
          "output_type": "stream",
          "text": [
            "\n",
            "Total de documentos insertados: 2744489\n",
            "\n",
            "Resumen de la base de datos:\n",
            "- Colección: articles\n"
          ]
        },
        {
          "ename": "_OperationCancelled",
          "evalue": "operation cancelled",
          "output_type": "error",
          "traceback": [
            "\u001b[31m---------------------------------------------------------------------------\u001b[39m",
            "\u001b[31m_OperationCancelled\u001b[39m                       Traceback (most recent call last)",
            "\u001b[36mCell\u001b[39m\u001b[36m \u001b[39m\u001b[32mIn[8]\u001b[39m\u001b[32m, line 39\u001b[39m\n\u001b[32m     37\u001b[39m \u001b[38;5;28mprint\u001b[39m(\u001b[33m\"\u001b[39m\u001b[38;5;130;01m\\n\u001b[39;00m\u001b[33mResumen de la base de datos:\u001b[39m\u001b[33m\"\u001b[39m)\n\u001b[32m     38\u001b[39m \u001b[38;5;28mprint\u001b[39m(\u001b[33mf\u001b[39m\u001b[33m\"\u001b[39m\u001b[33m- Colección: \u001b[39m\u001b[38;5;132;01m{\u001b[39;00mcollection.name\u001b[38;5;132;01m}\u001b[39;00m\u001b[33m\"\u001b[39m)\n\u001b[32m---> \u001b[39m\u001b[32m39\u001b[39m \u001b[38;5;28mprint\u001b[39m(\u001b[33mf\u001b[39m\u001b[33m\"\u001b[39m\u001b[33m- Documentos totales: \u001b[39m\u001b[38;5;132;01m{\u001b[39;00m\u001b[43mcollection\u001b[49m\u001b[43m.\u001b[49m\u001b[43mcount_documents\u001b[49m\u001b[43m(\u001b[49m\u001b[43m{\u001b[49m\u001b[43m}\u001b[49m\u001b[43m)\u001b[49m\u001b[38;5;132;01m}\u001b[39;00m\u001b[33m\"\u001b[39m)\n\u001b[32m     40\u001b[39m \u001b[38;5;28mprint\u001b[39m(\u001b[33mf\u001b[39m\u001b[33m\"\u001b[39m\u001b[33m- Ejemplo de documento: \u001b[39m\u001b[38;5;132;01m{\u001b[39;00mcollection.find_one()\u001b[38;5;132;01m}\u001b[39;00m\u001b[33m\"\u001b[39m)\n",
            "\u001b[36mFile \u001b[39m\u001b[32mc:\\Users\\Bruno\\AppData\\Local\\Programs\\Python\\Python311\\Lib\\site-packages\\pymongo\\synchronous\\collection.py:2154\u001b[39m, in \u001b[36mCollection.count_documents\u001b[39m\u001b[34m(self, filter, session, comment, **kwargs)\u001b[39m\n\u001b[32m   2151\u001b[39m         \u001b[38;5;28;01mreturn\u001b[39;00m \u001b[32m0\u001b[39m\n\u001b[32m   2152\u001b[39m     \u001b[38;5;28;01mreturn\u001b[39;00m result[\u001b[33m\"\u001b[39m\u001b[33mn\u001b[39m\u001b[33m\"\u001b[39m]\n\u001b[32m-> \u001b[39m\u001b[32m2154\u001b[39m \u001b[38;5;28;01mreturn\u001b[39;00m \u001b[38;5;28;43mself\u001b[39;49m\u001b[43m.\u001b[49m\u001b[43m_retryable_non_cursor_read\u001b[49m\u001b[43m(\u001b[49m\u001b[43m_cmd\u001b[49m\u001b[43m,\u001b[49m\u001b[43m \u001b[49m\u001b[43msession\u001b[49m\u001b[43m,\u001b[49m\u001b[43m \u001b[49m\u001b[43m_Op\u001b[49m\u001b[43m.\u001b[49m\u001b[43mCOUNT\u001b[49m\u001b[43m)\u001b[49m\n",
            "\u001b[36mFile \u001b[39m\u001b[32mc:\\Users\\Bruno\\AppData\\Local\\Programs\\Python\\Python311\\Lib\\site-packages\\pymongo\\synchronous\\collection.py:2168\u001b[39m, in \u001b[36mCollection._retryable_non_cursor_read\u001b[39m\u001b[34m(self, func, session, operation)\u001b[39m\n\u001b[32m   2166\u001b[39m client = \u001b[38;5;28mself\u001b[39m._database.client\n\u001b[32m   2167\u001b[39m \u001b[38;5;28;01mwith\u001b[39;00m client._tmp_session(session) \u001b[38;5;28;01mas\u001b[39;00m s:\n\u001b[32m-> \u001b[39m\u001b[32m2168\u001b[39m     \u001b[38;5;28;01mreturn\u001b[39;00m \u001b[43mclient\u001b[49m\u001b[43m.\u001b[49m\u001b[43m_retryable_read\u001b[49m\u001b[43m(\u001b[49m\u001b[43mfunc\u001b[49m\u001b[43m,\u001b[49m\u001b[43m \u001b[49m\u001b[38;5;28;43mself\u001b[39;49m\u001b[43m.\u001b[49m\u001b[43m_read_preference_for\u001b[49m\u001b[43m(\u001b[49m\u001b[43ms\u001b[49m\u001b[43m)\u001b[49m\u001b[43m,\u001b[49m\u001b[43m \u001b[49m\u001b[43ms\u001b[49m\u001b[43m,\u001b[49m\u001b[43m \u001b[49m\u001b[43moperation\u001b[49m\u001b[43m)\u001b[49m\n",
            "\u001b[36mFile \u001b[39m\u001b[32mc:\\Users\\Bruno\\AppData\\Local\\Programs\\Python\\Python311\\Lib\\site-packages\\pymongo\\synchronous\\mongo_client.py:2026\u001b[39m, in \u001b[36mMongoClient._retryable_read\u001b[39m\u001b[34m(self, func, read_pref, session, operation, address, retryable, operation_id)\u001b[39m\n\u001b[32m   2021\u001b[39m \u001b[38;5;66;03m# Ensure that the client supports retrying on reads and there is no session in\u001b[39;00m\n\u001b[32m   2022\u001b[39m \u001b[38;5;66;03m# transaction, otherwise, we will not support retry behavior for this call.\u001b[39;00m\n\u001b[32m   2023\u001b[39m retryable = \u001b[38;5;28mbool\u001b[39m(\n\u001b[32m   2024\u001b[39m     retryable \u001b[38;5;129;01mand\u001b[39;00m \u001b[38;5;28mself\u001b[39m.options.retry_reads \u001b[38;5;129;01mand\u001b[39;00m \u001b[38;5;129;01mnot\u001b[39;00m (session \u001b[38;5;129;01mand\u001b[39;00m session.in_transaction)\n\u001b[32m   2025\u001b[39m )\n\u001b[32m-> \u001b[39m\u001b[32m2026\u001b[39m \u001b[38;5;28;01mreturn\u001b[39;00m \u001b[38;5;28;43mself\u001b[39;49m\u001b[43m.\u001b[49m\u001b[43m_retry_internal\u001b[49m\u001b[43m(\u001b[49m\n\u001b[32m   2027\u001b[39m \u001b[43m    \u001b[49m\u001b[43mfunc\u001b[49m\u001b[43m,\u001b[49m\n\u001b[32m   2028\u001b[39m \u001b[43m    \u001b[49m\u001b[43msession\u001b[49m\u001b[43m,\u001b[49m\n\u001b[32m   2029\u001b[39m \u001b[43m    \u001b[49m\u001b[38;5;28;43;01mNone\u001b[39;49;00m\u001b[43m,\u001b[49m\n\u001b[32m   2030\u001b[39m \u001b[43m    \u001b[49m\u001b[43moperation\u001b[49m\u001b[43m,\u001b[49m\n\u001b[32m   2031\u001b[39m \u001b[43m    \u001b[49m\u001b[43mis_read\u001b[49m\u001b[43m=\u001b[49m\u001b[38;5;28;43;01mTrue\u001b[39;49;00m\u001b[43m,\u001b[49m\n\u001b[32m   2032\u001b[39m \u001b[43m    \u001b[49m\u001b[43maddress\u001b[49m\u001b[43m=\u001b[49m\u001b[43maddress\u001b[49m\u001b[43m,\u001b[49m\n\u001b[32m   2033\u001b[39m \u001b[43m    \u001b[49m\u001b[43mread_pref\u001b[49m\u001b[43m=\u001b[49m\u001b[43mread_pref\u001b[49m\u001b[43m,\u001b[49m\n\u001b[32m   2034\u001b[39m \u001b[43m    \u001b[49m\u001b[43mretryable\u001b[49m\u001b[43m=\u001b[49m\u001b[43mretryable\u001b[49m\u001b[43m,\u001b[49m\n\u001b[32m   2035\u001b[39m \u001b[43m    \u001b[49m\u001b[43moperation_id\u001b[49m\u001b[43m=\u001b[49m\u001b[43moperation_id\u001b[49m\u001b[43m,\u001b[49m\n\u001b[32m   2036\u001b[39m \u001b[43m\u001b[49m\u001b[43m)\u001b[49m\n",
            "\u001b[36mFile \u001b[39m\u001b[32mc:\\Users\\Bruno\\AppData\\Local\\Programs\\Python\\Python311\\Lib\\site-packages\\pymongo\\_csot.py:119\u001b[39m, in \u001b[36mapply.<locals>.csot_wrapper\u001b[39m\u001b[34m(self, *args, **kwargs)\u001b[39m\n\u001b[32m    117\u001b[39m         \u001b[38;5;28;01mwith\u001b[39;00m _TimeoutContext(timeout):\n\u001b[32m    118\u001b[39m             \u001b[38;5;28;01mreturn\u001b[39;00m func(\u001b[38;5;28mself\u001b[39m, *args, **kwargs)\n\u001b[32m--> \u001b[39m\u001b[32m119\u001b[39m \u001b[38;5;28;01mreturn\u001b[39;00m \u001b[43mfunc\u001b[49m\u001b[43m(\u001b[49m\u001b[38;5;28;43mself\u001b[39;49m\u001b[43m,\u001b[49m\u001b[43m \u001b[49m\u001b[43m*\u001b[49m\u001b[43margs\u001b[49m\u001b[43m,\u001b[49m\u001b[43m \u001b[49m\u001b[43m*\u001b[49m\u001b[43m*\u001b[49m\u001b[43mkwargs\u001b[49m\u001b[43m)\u001b[49m\n",
            "\u001b[36mFile \u001b[39m\u001b[32mc:\\Users\\Bruno\\AppData\\Local\\Programs\\Python\\Python311\\Lib\\site-packages\\pymongo\\synchronous\\mongo_client.py:1993\u001b[39m, in \u001b[36mMongoClient._retry_internal\u001b[39m\u001b[34m(self, func, session, bulk, operation, is_read, address, read_pref, retryable, operation_id)\u001b[39m\n\u001b[32m   1956\u001b[39m \u001b[38;5;129m@_csot\u001b[39m.apply\n\u001b[32m   1957\u001b[39m \u001b[38;5;28;01mdef\u001b[39;00m\u001b[38;5;250m \u001b[39m\u001b[34m_retry_internal\u001b[39m(\n\u001b[32m   1958\u001b[39m     \u001b[38;5;28mself\u001b[39m,\n\u001b[32m   (...)\u001b[39m\u001b[32m   1967\u001b[39m     operation_id: Optional[\u001b[38;5;28mint\u001b[39m] = \u001b[38;5;28;01mNone\u001b[39;00m,\n\u001b[32m   1968\u001b[39m ) -> T:\n\u001b[32m   1969\u001b[39m \u001b[38;5;250m    \u001b[39m\u001b[33;03m\"\"\"Internal retryable helper for all client transactions.\u001b[39;00m\n\u001b[32m   1970\u001b[39m \n\u001b[32m   1971\u001b[39m \u001b[33;03m    :param func: Callback function we want to retry\u001b[39;00m\n\u001b[32m   (...)\u001b[39m\u001b[32m   1980\u001b[39m \u001b[33;03m    :return: Output of the calling func()\u001b[39;00m\n\u001b[32m   1981\u001b[39m \u001b[33;03m    \"\"\"\u001b[39;00m\n\u001b[32m   1982\u001b[39m     \u001b[38;5;28;01mreturn\u001b[39;00m \u001b[43m_ClientConnectionRetryable\u001b[49m\u001b[43m(\u001b[49m\n\u001b[32m   1983\u001b[39m \u001b[43m        \u001b[49m\u001b[43mmongo_client\u001b[49m\u001b[43m=\u001b[49m\u001b[38;5;28;43mself\u001b[39;49m\u001b[43m,\u001b[49m\n\u001b[32m   1984\u001b[39m \u001b[43m        \u001b[49m\u001b[43mfunc\u001b[49m\u001b[43m=\u001b[49m\u001b[43mfunc\u001b[49m\u001b[43m,\u001b[49m\n\u001b[32m   1985\u001b[39m \u001b[43m        \u001b[49m\u001b[43mbulk\u001b[49m\u001b[43m=\u001b[49m\u001b[43mbulk\u001b[49m\u001b[43m,\u001b[49m\n\u001b[32m   1986\u001b[39m \u001b[43m        \u001b[49m\u001b[43moperation\u001b[49m\u001b[43m=\u001b[49m\u001b[43moperation\u001b[49m\u001b[43m,\u001b[49m\n\u001b[32m   1987\u001b[39m \u001b[43m        \u001b[49m\u001b[43mis_read\u001b[49m\u001b[43m=\u001b[49m\u001b[43mis_read\u001b[49m\u001b[43m,\u001b[49m\n\u001b[32m   1988\u001b[39m \u001b[43m        \u001b[49m\u001b[43msession\u001b[49m\u001b[43m=\u001b[49m\u001b[43msession\u001b[49m\u001b[43m,\u001b[49m\n\u001b[32m   1989\u001b[39m \u001b[43m        \u001b[49m\u001b[43mread_pref\u001b[49m\u001b[43m=\u001b[49m\u001b[43mread_pref\u001b[49m\u001b[43m,\u001b[49m\n\u001b[32m   1990\u001b[39m \u001b[43m        \u001b[49m\u001b[43maddress\u001b[49m\u001b[43m=\u001b[49m\u001b[43maddress\u001b[49m\u001b[43m,\u001b[49m\n\u001b[32m   1991\u001b[39m \u001b[43m        \u001b[49m\u001b[43mretryable\u001b[49m\u001b[43m=\u001b[49m\u001b[43mretryable\u001b[49m\u001b[43m,\u001b[49m\n\u001b[32m   1992\u001b[39m \u001b[43m        \u001b[49m\u001b[43moperation_id\u001b[49m\u001b[43m=\u001b[49m\u001b[43moperation_id\u001b[49m\u001b[43m,\u001b[49m\n\u001b[32m-> \u001b[39m\u001b[32m1993\u001b[39m \u001b[43m    \u001b[49m\u001b[43m)\u001b[49m\u001b[43m.\u001b[49m\u001b[43mrun\u001b[49m\u001b[43m(\u001b[49m\u001b[43m)\u001b[49m\n",
            "\u001b[36mFile \u001b[39m\u001b[32mc:\\Users\\Bruno\\AppData\\Local\\Programs\\Python\\Python311\\Lib\\site-packages\\pymongo\\synchronous\\mongo_client.py:2730\u001b[39m, in \u001b[36m_ClientConnectionRetryable.run\u001b[39m\u001b[34m(self)\u001b[39m\n\u001b[32m   2728\u001b[39m \u001b[38;5;28mself\u001b[39m._check_last_error(check_csot=\u001b[38;5;28;01mTrue\u001b[39;00m)\n\u001b[32m   2729\u001b[39m \u001b[38;5;28;01mtry\u001b[39;00m:\n\u001b[32m-> \u001b[39m\u001b[32m2730\u001b[39m     \u001b[38;5;28;01mreturn\u001b[39;00m \u001b[38;5;28;43mself\u001b[39;49m\u001b[43m.\u001b[49m\u001b[43m_read\u001b[49m\u001b[43m(\u001b[49m\u001b[43m)\u001b[49m \u001b[38;5;28;01mif\u001b[39;00m \u001b[38;5;28mself\u001b[39m._is_read \u001b[38;5;28;01melse\u001b[39;00m \u001b[38;5;28mself\u001b[39m._write()\n\u001b[32m   2731\u001b[39m \u001b[38;5;28;01mexcept\u001b[39;00m ServerSelectionTimeoutError:\n\u001b[32m   2732\u001b[39m     \u001b[38;5;66;03m# The application may think the write was never attempted\u001b[39;00m\n\u001b[32m   2733\u001b[39m     \u001b[38;5;66;03m# if we raise ServerSelectionTimeoutError on the retry\u001b[39;00m\n\u001b[32m   2734\u001b[39m     \u001b[38;5;66;03m# attempt. Raise the original exception instead.\u001b[39;00m\n\u001b[32m   2735\u001b[39m     \u001b[38;5;28mself\u001b[39m._check_last_error()\n",
            "\u001b[36mFile \u001b[39m\u001b[32mc:\\Users\\Bruno\\AppData\\Local\\Programs\\Python\\Python311\\Lib\\site-packages\\pymongo\\synchronous\\mongo_client.py:2891\u001b[39m, in \u001b[36m_ClientConnectionRetryable._read\u001b[39m\u001b[34m(self)\u001b[39m\n\u001b[32m   2883\u001b[39m \u001b[38;5;28;01mif\u001b[39;00m \u001b[38;5;28mself\u001b[39m._retrying:\n\u001b[32m   2884\u001b[39m     _debug_log(\n\u001b[32m   2885\u001b[39m         _COMMAND_LOGGER,\n\u001b[32m   2886\u001b[39m         message=\u001b[33mf\u001b[39m\u001b[33m\"\u001b[39m\u001b[33mRetrying read attempt number \u001b[39m\u001b[38;5;132;01m{\u001b[39;00m\u001b[38;5;28mself\u001b[39m._attempt_number\u001b[38;5;132;01m}\u001b[39;00m\u001b[33m\"\u001b[39m,\n\u001b[32m   (...)\u001b[39m\u001b[32m   2889\u001b[39m         operationId=\u001b[38;5;28mself\u001b[39m._operation_id,\n\u001b[32m   2890\u001b[39m     )\n\u001b[32m-> \u001b[39m\u001b[32m2891\u001b[39m \u001b[38;5;28;01mreturn\u001b[39;00m \u001b[38;5;28;43mself\u001b[39;49m\u001b[43m.\u001b[49m\u001b[43m_func\u001b[49m\u001b[43m(\u001b[49m\u001b[38;5;28;43mself\u001b[39;49m\u001b[43m.\u001b[49m\u001b[43m_session\u001b[49m\u001b[43m,\u001b[49m\u001b[43m \u001b[49m\u001b[38;5;28;43mself\u001b[39;49m\u001b[43m.\u001b[49m\u001b[43m_server\u001b[49m\u001b[43m,\u001b[49m\u001b[43m \u001b[49m\u001b[43mconn\u001b[49m\u001b[43m,\u001b[49m\u001b[43m \u001b[49m\u001b[43mread_pref\u001b[49m\u001b[43m)\u001b[49m\n",
            "\u001b[36mFile \u001b[39m\u001b[32mc:\\Users\\Bruno\\AppData\\Local\\Programs\\Python\\Python311\\Lib\\site-packages\\pymongo\\synchronous\\collection.py:2149\u001b[39m, in \u001b[36mCollection.count_documents.<locals>._cmd\u001b[39m\u001b[34m(session, _server, conn, read_preference)\u001b[39m\n\u001b[32m   2143\u001b[39m \u001b[38;5;28;01mdef\u001b[39;00m\u001b[38;5;250m \u001b[39m\u001b[34m_cmd\u001b[39m(\n\u001b[32m   2144\u001b[39m     session: Optional[ClientSession],\n\u001b[32m   2145\u001b[39m     _server: Server,\n\u001b[32m   2146\u001b[39m     conn: Connection,\n\u001b[32m   2147\u001b[39m     read_preference: Optional[_ServerMode],\n\u001b[32m   2148\u001b[39m ) -> \u001b[38;5;28mint\u001b[39m:\n\u001b[32m-> \u001b[39m\u001b[32m2149\u001b[39m     result = \u001b[38;5;28;43mself\u001b[39;49m\u001b[43m.\u001b[49m\u001b[43m_aggregate_one_result\u001b[49m\u001b[43m(\u001b[49m\u001b[43mconn\u001b[49m\u001b[43m,\u001b[49m\u001b[43m \u001b[49m\u001b[43mread_preference\u001b[49m\u001b[43m,\u001b[49m\u001b[43m \u001b[49m\u001b[43mcmd\u001b[49m\u001b[43m,\u001b[49m\u001b[43m \u001b[49m\u001b[43mcollation\u001b[49m\u001b[43m,\u001b[49m\u001b[43m \u001b[49m\u001b[43msession\u001b[49m\u001b[43m)\u001b[49m\n\u001b[32m   2150\u001b[39m     \u001b[38;5;28;01mif\u001b[39;00m \u001b[38;5;129;01mnot\u001b[39;00m result:\n\u001b[32m   2151\u001b[39m         \u001b[38;5;28;01mreturn\u001b[39;00m \u001b[32m0\u001b[39m\n",
            "\u001b[36mFile \u001b[39m\u001b[32mc:\\Users\\Bruno\\AppData\\Local\\Programs\\Python\\Python311\\Lib\\site-packages\\pymongo\\synchronous\\collection.py:2007\u001b[39m, in \u001b[36mCollection._aggregate_one_result\u001b[39m\u001b[34m(self, conn, read_preference, cmd, collation, session)\u001b[39m\n\u001b[32m   1998\u001b[39m \u001b[38;5;28;01mdef\u001b[39;00m\u001b[38;5;250m \u001b[39m\u001b[34m_aggregate_one_result\u001b[39m(\n\u001b[32m   1999\u001b[39m     \u001b[38;5;28mself\u001b[39m,\n\u001b[32m   2000\u001b[39m     conn: Connection,\n\u001b[32m   (...)\u001b[39m\u001b[32m   2004\u001b[39m     session: Optional[ClientSession],\n\u001b[32m   2005\u001b[39m ) -> Optional[Mapping[\u001b[38;5;28mstr\u001b[39m, Any]]:\n\u001b[32m   2006\u001b[39m \u001b[38;5;250m    \u001b[39m\u001b[33;03m\"\"\"Internal helper to run an aggregate that returns a single result.\"\"\"\u001b[39;00m\n\u001b[32m-> \u001b[39m\u001b[32m2007\u001b[39m     result = \u001b[38;5;28;43mself\u001b[39;49m\u001b[43m.\u001b[49m\u001b[43m_command\u001b[49m\u001b[43m(\u001b[49m\n\u001b[32m   2008\u001b[39m \u001b[43m        \u001b[49m\u001b[43mconn\u001b[49m\u001b[43m,\u001b[49m\n\u001b[32m   2009\u001b[39m \u001b[43m        \u001b[49m\u001b[43mcmd\u001b[49m\u001b[43m,\u001b[49m\n\u001b[32m   2010\u001b[39m \u001b[43m        \u001b[49m\u001b[43mread_preference\u001b[49m\u001b[43m,\u001b[49m\n\u001b[32m   2011\u001b[39m \u001b[43m        \u001b[49m\u001b[43mallowable_errors\u001b[49m\u001b[43m=\u001b[49m\u001b[43m[\u001b[49m\u001b[32;43m26\u001b[39;49m\u001b[43m]\u001b[49m\u001b[43m,\u001b[49m\u001b[43m  \u001b[49m\u001b[38;5;66;43;03m# Ignore NamespaceNotFound.\u001b[39;49;00m\n\u001b[32m   2012\u001b[39m \u001b[43m        \u001b[49m\u001b[43mcodec_options\u001b[49m\u001b[43m=\u001b[49m\u001b[38;5;28;43mself\u001b[39;49m\u001b[43m.\u001b[49m\u001b[43m_write_response_codec_options\u001b[49m\u001b[43m,\u001b[49m\n\u001b[32m   2013\u001b[39m \u001b[43m        \u001b[49m\u001b[43mread_concern\u001b[49m\u001b[43m=\u001b[49m\u001b[38;5;28;43mself\u001b[39;49m\u001b[43m.\u001b[49m\u001b[43mread_concern\u001b[49m\u001b[43m,\u001b[49m\n\u001b[32m   2014\u001b[39m \u001b[43m        \u001b[49m\u001b[43mcollation\u001b[49m\u001b[43m=\u001b[49m\u001b[43mcollation\u001b[49m\u001b[43m,\u001b[49m\n\u001b[32m   2015\u001b[39m \u001b[43m        \u001b[49m\u001b[43msession\u001b[49m\u001b[43m=\u001b[49m\u001b[43msession\u001b[49m\u001b[43m,\u001b[49m\n\u001b[32m   2016\u001b[39m \u001b[43m    \u001b[49m\u001b[43m)\u001b[49m\n\u001b[32m   2017\u001b[39m     \u001b[38;5;66;03m# cursor will not be present for NamespaceNotFound errors.\u001b[39;00m\n\u001b[32m   2018\u001b[39m     \u001b[38;5;28;01mif\u001b[39;00m \u001b[33m\"\u001b[39m\u001b[33mcursor\u001b[39m\u001b[33m\"\u001b[39m \u001b[38;5;129;01mnot\u001b[39;00m \u001b[38;5;129;01min\u001b[39;00m result:\n",
            "\u001b[36mFile \u001b[39m\u001b[32mc:\\Users\\Bruno\\AppData\\Local\\Programs\\Python\\Python311\\Lib\\site-packages\\pymongo\\synchronous\\collection.py:621\u001b[39m, in \u001b[36mCollection._command\u001b[39m\u001b[34m(self, conn, command, read_preference, codec_options, check, allowable_errors, read_concern, write_concern, collation, session, retryable_write, user_fields)\u001b[39m\n\u001b[32m    595\u001b[39m \u001b[38;5;250m\u001b[39m\u001b[33;03m\"\"\"Internal command helper.\u001b[39;00m\n\u001b[32m    596\u001b[39m \n\u001b[32m    597\u001b[39m \u001b[33;03m:param conn` - A Connection instance.\u001b[39;00m\n\u001b[32m   (...)\u001b[39m\u001b[32m    618\u001b[39m \u001b[33;03m:return: The result document.\u001b[39;00m\n\u001b[32m    619\u001b[39m \u001b[33;03m\"\"\"\u001b[39;00m\n\u001b[32m    620\u001b[39m \u001b[38;5;28;01mwith\u001b[39;00m \u001b[38;5;28mself\u001b[39m._database.client._tmp_session(session) \u001b[38;5;28;01mas\u001b[39;00m s:\n\u001b[32m--> \u001b[39m\u001b[32m621\u001b[39m     \u001b[38;5;28;01mreturn\u001b[39;00m \u001b[43mconn\u001b[49m\u001b[43m.\u001b[49m\u001b[43mcommand\u001b[49m\u001b[43m(\u001b[49m\n\u001b[32m    622\u001b[39m \u001b[43m        \u001b[49m\u001b[38;5;28;43mself\u001b[39;49m\u001b[43m.\u001b[49m\u001b[43m_database\u001b[49m\u001b[43m.\u001b[49m\u001b[43mname\u001b[49m\u001b[43m,\u001b[49m\n\u001b[32m    623\u001b[39m \u001b[43m        \u001b[49m\u001b[43mcommand\u001b[49m\u001b[43m,\u001b[49m\n\u001b[32m    624\u001b[39m \u001b[43m        \u001b[49m\u001b[43mread_preference\u001b[49m\u001b[43m \u001b[49m\u001b[38;5;129;43;01mor\u001b[39;49;00m\u001b[43m \u001b[49m\u001b[38;5;28;43mself\u001b[39;49m\u001b[43m.\u001b[49m\u001b[43m_read_preference_for\u001b[49m\u001b[43m(\u001b[49m\u001b[43msession\u001b[49m\u001b[43m)\u001b[49m\u001b[43m,\u001b[49m\n\u001b[32m    625\u001b[39m \u001b[43m        \u001b[49m\u001b[43mcodec_options\u001b[49m\u001b[43m \u001b[49m\u001b[38;5;129;43;01mor\u001b[39;49;00m\u001b[43m \u001b[49m\u001b[38;5;28;43mself\u001b[39;49m\u001b[43m.\u001b[49m\u001b[43mcodec_options\u001b[49m\u001b[43m,\u001b[49m\n\u001b[32m    626\u001b[39m \u001b[43m        \u001b[49m\u001b[43mcheck\u001b[49m\u001b[43m,\u001b[49m\n\u001b[32m    627\u001b[39m \u001b[43m        \u001b[49m\u001b[43mallowable_errors\u001b[49m\u001b[43m,\u001b[49m\n\u001b[32m    628\u001b[39m \u001b[43m        \u001b[49m\u001b[43mread_concern\u001b[49m\u001b[43m=\u001b[49m\u001b[43mread_concern\u001b[49m\u001b[43m,\u001b[49m\n\u001b[32m    629\u001b[39m \u001b[43m        \u001b[49m\u001b[43mwrite_concern\u001b[49m\u001b[43m=\u001b[49m\u001b[43mwrite_concern\u001b[49m\u001b[43m,\u001b[49m\n\u001b[32m    630\u001b[39m \u001b[43m        \u001b[49m\u001b[43mparse_write_concern_error\u001b[49m\u001b[43m=\u001b[49m\u001b[38;5;28;43;01mTrue\u001b[39;49;00m\u001b[43m,\u001b[49m\n\u001b[32m    631\u001b[39m \u001b[43m        \u001b[49m\u001b[43mcollation\u001b[49m\u001b[43m=\u001b[49m\u001b[43mcollation\u001b[49m\u001b[43m,\u001b[49m\n\u001b[32m    632\u001b[39m \u001b[43m        \u001b[49m\u001b[43msession\u001b[49m\u001b[43m=\u001b[49m\u001b[43ms\u001b[49m\u001b[43m,\u001b[49m\n\u001b[32m    633\u001b[39m \u001b[43m        \u001b[49m\u001b[43mclient\u001b[49m\u001b[43m=\u001b[49m\u001b[38;5;28;43mself\u001b[39;49m\u001b[43m.\u001b[49m\u001b[43m_database\u001b[49m\u001b[43m.\u001b[49m\u001b[43mclient\u001b[49m\u001b[43m,\u001b[49m\n\u001b[32m    634\u001b[39m \u001b[43m        \u001b[49m\u001b[43mretryable_write\u001b[49m\u001b[43m=\u001b[49m\u001b[43mretryable_write\u001b[49m\u001b[43m,\u001b[49m\n\u001b[32m    635\u001b[39m \u001b[43m        \u001b[49m\u001b[43muser_fields\u001b[49m\u001b[43m=\u001b[49m\u001b[43muser_fields\u001b[49m\u001b[43m,\u001b[49m\n\u001b[32m    636\u001b[39m \u001b[43m    \u001b[49m\u001b[43m)\u001b[49m\n",
            "\u001b[36mFile \u001b[39m\u001b[32mc:\\Users\\Bruno\\AppData\\Local\\Programs\\Python\\Python311\\Lib\\site-packages\\pymongo\\synchronous\\helpers.py:47\u001b[39m, in \u001b[36m_handle_reauth.<locals>.inner\u001b[39m\u001b[34m(*args, **kwargs)\u001b[39m\n\u001b[32m     44\u001b[39m \u001b[38;5;28;01mfrom\u001b[39;00m\u001b[38;5;250m \u001b[39m\u001b[34;01mpymongo\u001b[39;00m\u001b[34;01m.\u001b[39;00m\u001b[34;01msynchronous\u001b[39;00m\u001b[34;01m.\u001b[39;00m\u001b[34;01mpool\u001b[39;00m\u001b[38;5;250m \u001b[39m\u001b[38;5;28;01mimport\u001b[39;00m Connection\n\u001b[32m     46\u001b[39m \u001b[38;5;28;01mtry\u001b[39;00m:\n\u001b[32m---> \u001b[39m\u001b[32m47\u001b[39m     \u001b[38;5;28;01mreturn\u001b[39;00m \u001b[43mfunc\u001b[49m\u001b[43m(\u001b[49m\u001b[43m*\u001b[49m\u001b[43margs\u001b[49m\u001b[43m,\u001b[49m\u001b[43m \u001b[49m\u001b[43m*\u001b[49m\u001b[43m*\u001b[49m\u001b[43mkwargs\u001b[49m\u001b[43m)\u001b[49m\n\u001b[32m     48\u001b[39m \u001b[38;5;28;01mexcept\u001b[39;00m OperationFailure \u001b[38;5;28;01mas\u001b[39;00m exc:\n\u001b[32m     49\u001b[39m     \u001b[38;5;28;01mif\u001b[39;00m no_reauth:\n",
            "\u001b[36mFile \u001b[39m\u001b[32mc:\\Users\\Bruno\\AppData\\Local\\Programs\\Python\\Python311\\Lib\\site-packages\\pymongo\\synchronous\\pool.py:442\u001b[39m, in \u001b[36mConnection.command\u001b[39m\u001b[34m(self, dbname, spec, read_preference, codec_options, check, allowable_errors, read_concern, write_concern, parse_write_concern_error, collation, session, client, retryable_write, publish_events, user_fields, exhaust_allowed)\u001b[39m\n\u001b[32m    440\u001b[39m \u001b[38;5;66;03m# Catch socket.error, KeyboardInterrupt, CancelledError, etc. and close ourselves.\u001b[39;00m\n\u001b[32m    441\u001b[39m \u001b[38;5;28;01mexcept\u001b[39;00m \u001b[38;5;167;01mBaseException\u001b[39;00m \u001b[38;5;28;01mas\u001b[39;00m error:\n\u001b[32m--> \u001b[39m\u001b[32m442\u001b[39m     \u001b[38;5;28;43mself\u001b[39;49m\u001b[43m.\u001b[49m\u001b[43m_raise_connection_failure\u001b[49m\u001b[43m(\u001b[49m\u001b[43merror\u001b[49m\u001b[43m)\u001b[49m\n",
            "\u001b[36mFile \u001b[39m\u001b[32mc:\\Users\\Bruno\\AppData\\Local\\Programs\\Python\\Python311\\Lib\\site-packages\\pymongo\\synchronous\\pool.py:414\u001b[39m, in \u001b[36mConnection.command\u001b[39m\u001b[34m(self, dbname, spec, read_preference, codec_options, check, allowable_errors, read_concern, write_concern, parse_write_concern_error, collation, session, client, retryable_write, publish_events, user_fields, exhaust_allowed)\u001b[39m\n\u001b[32m    412\u001b[39m     \u001b[38;5;28mself\u001b[39m._raise_if_not_writable(unacknowledged)\n\u001b[32m    413\u001b[39m \u001b[38;5;28;01mtry\u001b[39;00m:\n\u001b[32m--> \u001b[39m\u001b[32m414\u001b[39m     \u001b[38;5;28;01mreturn\u001b[39;00m \u001b[43mcommand\u001b[49m\u001b[43m(\u001b[49m\n\u001b[32m    415\u001b[39m \u001b[43m        \u001b[49m\u001b[38;5;28;43mself\u001b[39;49m\u001b[43m,\u001b[49m\n\u001b[32m    416\u001b[39m \u001b[43m        \u001b[49m\u001b[43mdbname\u001b[49m\u001b[43m,\u001b[49m\n\u001b[32m    417\u001b[39m \u001b[43m        \u001b[49m\u001b[43mspec\u001b[49m\u001b[43m,\u001b[49m\n\u001b[32m    418\u001b[39m \u001b[43m        \u001b[49m\u001b[38;5;28;43mself\u001b[39;49m\u001b[43m.\u001b[49m\u001b[43mis_mongos\u001b[49m\u001b[43m,\u001b[49m\n\u001b[32m    419\u001b[39m \u001b[43m        \u001b[49m\u001b[43mread_preference\u001b[49m\u001b[43m,\u001b[49m\n\u001b[32m    420\u001b[39m \u001b[43m        \u001b[49m\u001b[43mcodec_options\u001b[49m\u001b[43m,\u001b[49m\n\u001b[32m    421\u001b[39m \u001b[43m        \u001b[49m\u001b[43msession\u001b[49m\u001b[43m,\u001b[49m\n\u001b[32m    422\u001b[39m \u001b[43m        \u001b[49m\u001b[43mclient\u001b[49m\u001b[43m,\u001b[49m\n\u001b[32m    423\u001b[39m \u001b[43m        \u001b[49m\u001b[43mcheck\u001b[49m\u001b[43m,\u001b[49m\n\u001b[32m    424\u001b[39m \u001b[43m        \u001b[49m\u001b[43mallowable_errors\u001b[49m\u001b[43m,\u001b[49m\n\u001b[32m    425\u001b[39m \u001b[43m        \u001b[49m\u001b[38;5;28;43mself\u001b[39;49m\u001b[43m.\u001b[49m\u001b[43maddress\u001b[49m\u001b[43m,\u001b[49m\n\u001b[32m    426\u001b[39m \u001b[43m        \u001b[49m\u001b[43mlisteners\u001b[49m\u001b[43m,\u001b[49m\n\u001b[32m    427\u001b[39m \u001b[43m        \u001b[49m\u001b[38;5;28;43mself\u001b[39;49m\u001b[43m.\u001b[49m\u001b[43mmax_bson_size\u001b[49m\u001b[43m,\u001b[49m\n\u001b[32m    428\u001b[39m \u001b[43m        \u001b[49m\u001b[43mread_concern\u001b[49m\u001b[43m,\u001b[49m\n\u001b[32m    429\u001b[39m \u001b[43m        \u001b[49m\u001b[43mparse_write_concern_error\u001b[49m\u001b[43m=\u001b[49m\u001b[43mparse_write_concern_error\u001b[49m\u001b[43m,\u001b[49m\n\u001b[32m    430\u001b[39m \u001b[43m        \u001b[49m\u001b[43mcollation\u001b[49m\u001b[43m=\u001b[49m\u001b[43mcollation\u001b[49m\u001b[43m,\u001b[49m\n\u001b[32m    431\u001b[39m \u001b[43m        \u001b[49m\u001b[43mcompression_ctx\u001b[49m\u001b[43m=\u001b[49m\u001b[38;5;28;43mself\u001b[39;49m\u001b[43m.\u001b[49m\u001b[43mcompression_context\u001b[49m\u001b[43m,\u001b[49m\n\u001b[32m    432\u001b[39m \u001b[43m        \u001b[49m\u001b[43muse_op_msg\u001b[49m\u001b[43m=\u001b[49m\u001b[38;5;28;43mself\u001b[39;49m\u001b[43m.\u001b[49m\u001b[43mop_msg_enabled\u001b[49m\u001b[43m,\u001b[49m\n\u001b[32m    433\u001b[39m \u001b[43m        \u001b[49m\u001b[43munacknowledged\u001b[49m\u001b[43m=\u001b[49m\u001b[43munacknowledged\u001b[49m\u001b[43m,\u001b[49m\n\u001b[32m    434\u001b[39m \u001b[43m        \u001b[49m\u001b[43muser_fields\u001b[49m\u001b[43m=\u001b[49m\u001b[43muser_fields\u001b[49m\u001b[43m,\u001b[49m\n\u001b[32m    435\u001b[39m \u001b[43m        \u001b[49m\u001b[43mexhaust_allowed\u001b[49m\u001b[43m=\u001b[49m\u001b[43mexhaust_allowed\u001b[49m\u001b[43m,\u001b[49m\n\u001b[32m    436\u001b[39m \u001b[43m        \u001b[49m\u001b[43mwrite_concern\u001b[49m\u001b[43m=\u001b[49m\u001b[43mwrite_concern\u001b[49m\u001b[43m,\u001b[49m\n\u001b[32m    437\u001b[39m \u001b[43m    \u001b[49m\u001b[43m)\u001b[49m\n\u001b[32m    438\u001b[39m \u001b[38;5;28;01mexcept\u001b[39;00m (OperationFailure, NotPrimaryError):\n\u001b[32m    439\u001b[39m     \u001b[38;5;28;01mraise\u001b[39;00m\n",
            "\u001b[36mFile \u001b[39m\u001b[32mc:\\Users\\Bruno\\AppData\\Local\\Programs\\Python\\Python311\\Lib\\site-packages\\pymongo\\synchronous\\network.py:198\u001b[39m, in \u001b[36mcommand\u001b[39m\u001b[34m(conn, dbname, spec, is_mongos, read_preference, codec_options, session, client, check, allowable_errors, address, listeners, max_bson_size, read_concern, parse_write_concern_error, collation, compression_ctx, use_op_msg, unacknowledged, user_fields, exhaust_allowed, write_concern)\u001b[39m\n\u001b[32m    196\u001b[39m     response_doc: _DocumentOut = {\u001b[33m\"\u001b[39m\u001b[33mok\u001b[39m\u001b[33m\"\u001b[39m: \u001b[32m1\u001b[39m}\n\u001b[32m    197\u001b[39m \u001b[38;5;28;01melse\u001b[39;00m:\n\u001b[32m--> \u001b[39m\u001b[32m198\u001b[39m     reply = \u001b[43mreceive_message\u001b[49m\u001b[43m(\u001b[49m\u001b[43mconn\u001b[49m\u001b[43m,\u001b[49m\u001b[43m \u001b[49m\u001b[43mrequest_id\u001b[49m\u001b[43m)\u001b[49m\n\u001b[32m    199\u001b[39m     conn.more_to_come = reply.more_to_come\n\u001b[32m    200\u001b[39m     unpacked_docs = reply.unpack_response(\n\u001b[32m    201\u001b[39m         codec_options=codec_options, user_fields=user_fields\n\u001b[32m    202\u001b[39m     )\n",
            "\u001b[36mFile \u001b[39m\u001b[32mc:\\Users\\Bruno\\AppData\\Local\\Programs\\Python\\Python311\\Lib\\site-packages\\pymongo\\network_layer.py:756\u001b[39m, in \u001b[36mreceive_message\u001b[39m\u001b[34m(conn, request_id, max_message_size)\u001b[39m\n\u001b[32m    754\u001b[39m         deadline = \u001b[38;5;28;01mNone\u001b[39;00m\n\u001b[32m    755\u001b[39m \u001b[38;5;66;03m# Ignore the response's request id.\u001b[39;00m\n\u001b[32m--> \u001b[39m\u001b[32m756\u001b[39m length, _, response_to, op_code = _UNPACK_HEADER(\u001b[43mreceive_data\u001b[49m\u001b[43m(\u001b[49m\u001b[43mconn\u001b[49m\u001b[43m,\u001b[49m\u001b[43m \u001b[49m\u001b[32;43m16\u001b[39;49m\u001b[43m,\u001b[49m\u001b[43m \u001b[49m\u001b[43mdeadline\u001b[49m\u001b[43m)\u001b[49m)\n\u001b[32m    757\u001b[39m \u001b[38;5;66;03m# No request_id for exhaust cursor \"getMore\".\u001b[39;00m\n\u001b[32m    758\u001b[39m \u001b[38;5;28;01mif\u001b[39;00m request_id \u001b[38;5;129;01mis\u001b[39;00m \u001b[38;5;129;01mnot\u001b[39;00m \u001b[38;5;28;01mNone\u001b[39;00m:\n",
            "\u001b[36mFile \u001b[39m\u001b[32mc:\\Users\\Bruno\\AppData\\Local\\Programs\\Python\\Python311\\Lib\\site-packages\\pymongo\\network_layer.py:359\u001b[39m, in \u001b[36mreceive_data\u001b[39m\u001b[34m(conn, length, deadline)\u001b[39m\n\u001b[32m    357\u001b[39m \u001b[38;5;28;01mexcept\u001b[39;00m socket.timeout:\n\u001b[32m    358\u001b[39m     \u001b[38;5;28;01mif\u001b[39;00m conn.cancel_context.cancelled:\n\u001b[32m--> \u001b[39m\u001b[32m359\u001b[39m         \u001b[38;5;28;01mraise\u001b[39;00m _OperationCancelled(\u001b[33m\"\u001b[39m\u001b[33moperation cancelled\u001b[39m\u001b[33m\"\u001b[39m) \u001b[38;5;28;01mfrom\u001b[39;00m\u001b[38;5;250m \u001b[39m\u001b[38;5;28;01mNone\u001b[39;00m\n\u001b[32m    360\u001b[39m     \u001b[38;5;28;01mif\u001b[39;00m (\n\u001b[32m    361\u001b[39m         _PYPY\n\u001b[32m    362\u001b[39m         \u001b[38;5;129;01mor\u001b[39;00m \u001b[38;5;129;01mnot\u001b[39;00m conn.is_sdam\n\u001b[32m   (...)\u001b[39m\u001b[32m    365\u001b[39m     ):\n\u001b[32m    366\u001b[39m         \u001b[38;5;66;03m# We reached the true deadline.\u001b[39;00m\n\u001b[32m    367\u001b[39m         \u001b[38;5;28;01mraise\u001b[39;00m\n",
            "\u001b[31m_OperationCancelled\u001b[39m: operation cancelled"
          ]
        }
      ],
      "source": [
        "import json\n",
        "from tqdm import tqdm # Para mostrar una barra de progreso\n",
        "\n",
        "# Cargar y procesar el archivo JSON\n",
        "print(\"Iniciando carga de datos a MongoDB...\")\n",
        "\n",
        "# Carga por lotes de 1000 en 1000\n",
        "def load_data_batch(batch_size=1000):\n",
        "    batch = []\n",
        "    total_docs = 0\n",
        "    \n",
        "    # Primero contamos las lineas para la barra de progreso\n",
        "    with open('arxiv-metadata-oai-snapshot.json', 'r', encoding='utf-8') as f:\n",
        "        total_lines = sum(1 for _ in f)\n",
        "    \n",
        "    # Insertamos los datos en el batch\n",
        "    with open('arxiv-metadata-oai-snapshot.json', 'r', encoding='utf-8') as f:\n",
        "        for line in tqdm(f, total=total_lines, desc=\"Cargando datos\"):\n",
        "            batch.append(json.loads(line)) # Parseamos la linea a un JSON\n",
        "            \n",
        "            # Si el batch excede el maximo, lo vaciamos e insertamos los datos en la BD\n",
        "            if len(batch) >= batch_size:\n",
        "                collection.insert_many(batch)\n",
        "                total_docs += len(batch)\n",
        "                batch = []\n",
        "        \n",
        "        # Insertar el ultimo lote, en caso de que el ultimo lote sean menos de 1000\n",
        "        if batch:\n",
        "            collection.insert_many(batch)\n",
        "            total_docs += len(batch)\n",
        "    \n",
        "    print(f\"\\nTotal de documentos insertados: {total_docs}\")\n",
        "\n",
        "load_data_batch() # Llamamos la funcion creada anteriormente\n",
        "\n",
        "# 3. Verificacion final\n",
        "print(\"\\nResumen de la base de datos:\")\n",
        "print(f\"- Colección: {collection.name}\")    \n",
        "print(f\"- Ejemplo de documento: {collection.find_one()}\")\n"
      ]
    },
    {
      "cell_type": "code",
      "execution_count": 12,
      "metadata": {},
      "outputs": [
        {
          "name": "stdout",
          "output_type": "stream",
          "text": [
            "📦 Documentos estimados en mongo1: 2744489\n",
            "📦 Documentos estimados en mongo2: 2744489\n",
            "📦 Documentos estimados en mongo3: 2744489\n"
          ]
        }
      ],
      "source": [
        "ports = [27017, 27018, 27019]\n",
        "for i, port in enumerate(ports, start=1):\n",
        "    client = MongoClient(f\"mongodb://localhost:{port}\")\n",
        "    count = client[\"arxiv_db\"][\"articles\"].estimated_document_count()\n",
        "    print(f\"📦 Documentos estimados en mongo{i}: {count}\")"
      ]
    },
    {
      "cell_type": "markdown",
      "metadata": {},
      "source": [
        "## Cuarta etapa: Consultas"
      ]
    },
    {
      "cell_type": "markdown",
      "metadata": {},
      "source": [
        "Consulta test"
      ]
    },
    {
      "cell_type": "code",
      "execution_count": 4,
      "metadata": {},
      "outputs": [
        {
          "name": "stdout",
          "output_type": "stream",
          "text": [
            "🟢 mongo1 (27017) - Artículos con 'Software':\n",
            "   🔹 Solar Magnetic Tracking. I. Software Comparison and Recommended\n",
            "  Practices\n",
            "   🔹 On How Developers Test Open Source Software Systems\n",
            "   🔹 Experiences of Engineering Grid-Based Medical Software\n",
            "--------------------------------------------------\n",
            "🟢 mongo2 (27018) - Artículos con 'Software':\n",
            "   🔹 Solar Magnetic Tracking. I. Software Comparison and Recommended\n",
            "  Practices\n",
            "   🔹 On How Developers Test Open Source Software Systems\n",
            "   🔹 Experiences of Engineering Grid-Based Medical Software\n",
            "--------------------------------------------------\n",
            "🟢 mongo3 (27019) - Artículos con 'Software':\n",
            "   🔹 Solar Magnetic Tracking. I. Software Comparison and Recommended\n",
            "  Practices\n",
            "   🔹 On How Developers Test Open Source Software Systems\n",
            "   🔹 Experiences of Engineering Grid-Based Medical Software\n",
            "--------------------------------------------------\n"
          ]
        }
      ],
      "source": [
        "def buscar_software(port, nombre):\n",
        "    try:\n",
        "        client = MongoClient(f\"mongodb://localhost:{port}\", serverSelectionTimeoutMS=5000)\n",
        "        db = client[\"arxiv_db\"]\n",
        "        collection = db[\"articles\"]\n",
        "\n",
        "        resultados = collection.find(\n",
        "            {\"title\": {\"$regex\": \"Software\", \"$options\": \"i\"}},\n",
        "            {\"_id\": 0, \"title\": 1}\n",
        "        ).limit(3)  # solo para mostrar pocos\n",
        "\n",
        "        print(f\"🟢 {nombre} ({port}) - Artículos con 'Software':\")\n",
        "        encontrados = False\n",
        "        for doc in resultados:\n",
        "            print(f\"   🔹 {doc['title']}\")\n",
        "            encontrados = True\n",
        "        if not encontrados:\n",
        "            print(\"   ⚠️ No se encontraron artículos.\")\n",
        "        print(\"-\" * 50)\n",
        "    except Exception as e:\n",
        "        print(f\"🔴 Error en {nombre} ({port}): {e}\")\n",
        "\n",
        "# Ejecutar búsqueda en los tres nodos\n",
        "buscar_software(27017, \"mongo1\")\n",
        "buscar_software(27018, \"mongo2\")\n",
        "buscar_software(27019, \"mongo3\")\n"
      ]
    },
    {
      "cell_type": "markdown",
      "metadata": {},
      "source": [
        "Consulta 1"
      ]
    },
    {
      "cell_type": "code",
      "execution_count": null,
      "metadata": {},
      "outputs": [
        {
          "name": "stdout",
          "output_type": "stream",
          "text": [
            "📦 Leyendo datos desde: mongo2:27017 (PRIMARY)\n",
            "🔎 Se encontraron 20 artículos con versión creada en 2025:\n",
            "{'titulo': 'Hamiltonian Graphs and the Traveling Salesman Problem', 'fecha_creacion': datetime.datetime(2025, 2, 25, 17, 59, 4)}\n",
            "{'titulo': 'Proof of Riemann Hypothesis', 'fecha_creacion': datetime.datetime(2025, 3, 19, 3, 35, 48)}\n",
            "{'titulo': 'The nature of electromagnetic energy', 'fecha_creacion': datetime.datetime(2025, 5, 14, 18, 20, 15)}\n",
            "{'titulo': 'Periodic relativity: the theory of gravity in flat space time', 'fecha_creacion': datetime.datetime(2025, 1, 15, 6, 50, 35)}\n",
            "{'titulo': 'Rationalization of EPR Coincidence Experiments', 'fecha_creacion': datetime.datetime(2025, 4, 1, 18, 36, 55)}\n",
            "{'titulo': 'Generating functions for borders', 'fecha_creacion': datetime.datetime(2025, 3, 2, 18, 13, 43)}\n",
            "{'titulo': 'Data Tables for Lorentz and CPT Violation', 'fecha_creacion': datetime.datetime(2025, 1, 13, 15, 37, 10)}\n",
            "{'titulo': 'On Two Related Questions of Wilf Concerning Standard Young Tableaux', 'fecha_creacion': datetime.datetime(2025, 4, 28, 19, 9, 23)}\n",
            "{'titulo': 'The Kohn Algorithm on Denjoy-Carleman Classes', 'fecha_creacion': datetime.datetime(2025, 5, 16, 14, 35, 45)}\n",
            "{'titulo': 'A proof of the Riemann hypothesis', 'fecha_creacion': datetime.datetime(2025, 2, 12, 23, 35, 59)}\n",
            "{'titulo': 'Nonlinear Operator Superalgebras and BFV-BRST Operators for Lagrangian\\n  Description of Mixed-symmetry HS Fields in AdS Spaces', 'fecha_creacion': datetime.datetime(2025, 3, 18, 23, 48, 21)}\n",
            "{'titulo': 'Combinatorics of double cosets and fundamental domains for the subgroups\\n  of the modular group', 'fecha_creacion': datetime.datetime(2025, 5, 13, 13, 27, 6)}\n",
            "{'titulo': 'Explicit compactifications of moduli spaces of Campedelli and Burniat\\n  surfaces', 'fecha_creacion': datetime.datetime(2025, 5, 13, 18, 18, 59)}\n",
            "{'titulo': 'From Dirac Notation to Probability Bracket Notation: Time Evolution and\\n  Path Integral under Wick Rotations', 'fecha_creacion': datetime.datetime(2025, 5, 5, 23, 32, 12)}\n",
            "{'titulo': 'The Cavity Approach to Parallel Dynamics of Ising Spins on a Graph', 'fecha_creacion': datetime.datetime(2025, 4, 22, 16, 39, 5)}\n",
            "{'titulo': 'PIGTIKAL (puzzles in geometry that I know and love)', 'fecha_creacion': datetime.datetime(2025, 2, 1, 3, 58, 18)}\n",
            "{'titulo': 'Design of Pulse Shapes Based on Sampling with Gaussian Prefilter', 'fecha_creacion': datetime.datetime(2025, 2, 1, 11, 58, 28)}\n",
            "{'titulo': 'The shortest way to the geodesics of spheres', 'fecha_creacion': datetime.datetime(2025, 1, 3, 23, 33, 35)}\n",
            "{'titulo': 'A Localization Theorem for Finite W-algebras', 'fecha_creacion': datetime.datetime(2025, 1, 21, 17, 39, 53)}\n",
            "{'titulo': 'On the formalist account of an arbitrary first-order theory', 'fecha_creacion': datetime.datetime(2025, 5, 14, 3, 14, 37)}\n",
            "Total encontrados: 20\n"
          ]
        }
      ],
      "source": [
        "from datetime import datetime\n",
        "\n",
        "def leer_articulos_2025(collection, client):\n",
        "    try:\n",
        "        primary_info = client.primary\n",
        "        print(f\"📦 Leyendo datos desde: {primary_info[0]}:{primary_info[1]} (PRIMARY)\")\n",
        "\n",
        "        articulos_2025 = []\n",
        "\n",
        "        cursor = collection.find(\n",
        "            {\"versions.created\": {\"$exists\": True}},\n",
        "            {\"_id\": 0, \"title\": 1, \"versions\": 1}\n",
        "        )\n",
        "\n",
        "        for doc in cursor:\n",
        "            versions = doc.get(\"versions\", [])\n",
        "            fecha = None\n",
        "\n",
        "            for v in versions:\n",
        "                fecha_str = v.get(\"created\")\n",
        "                if fecha_str:\n",
        "                    try:\n",
        "                        # Intenta parsear fecha (ajusta el formato según tus datos)\n",
        "                        fecha = datetime.strptime(fecha_str, \"%a, %d %b %Y %H:%M:%S %Z\")\n",
        "                    except Exception as e:\n",
        "                        # Si no pudo parsear, omite esa versión\n",
        "                        continue\n",
        "                    if fecha.year == 2025:\n",
        "                        articulos_2025.append({\n",
        "                            \"titulo\": doc.get(\"title\", \"Sin título\"),\n",
        "                            \"fecha_creacion\": fecha\n",
        "                        })\n",
        "                        break  # Sólo la primera versión con fecha 2025 importa\n",
        "\n",
        "            if len(articulos_2025) >= 20:\n",
        "                break\n",
        "\n",
        "        print(f\"🔎 Se encontraron {len(articulos_2025)} artículos con versión creada en 2025:\")\n",
        "        for art in articulos_2025:\n",
        "            print(art)\n",
        "\n",
        "        return articulos_2025\n",
        "\n",
        "    except Exception as e:\n",
        "        print(f\"❌ Error al leer artículos de 2025: {e}\")\n",
        "        return []\n",
        "    \n",
        "articulos_encontrados = leer_articulos_2025(collection, client)"
      ]
    },
    {
      "cell_type": "markdown",
      "metadata": {},
      "source": [
        "Consulta 2"
      ]
    },
    {
      "cell_type": "code",
      "execution_count": 17,
      "metadata": {},
      "outputs": [
        {
          "name": "stdout",
          "output_type": "stream",
          "text": [
            "Artículos en cs.AI o stat.ML con al menos 3 autores:\n",
            "- Calculating Valid Domains for BDD-Based Interactive Configuration\n",
            "  Autores: ['Tarik Hadzic', 'Rune Moller Jensen', 'Henrik Reif Andersen']\n",
            "----------------------------------------\n",
            "- Personalizing Image Search Results on Flickr\n",
            "  Autores: ['Kristina Lerman', 'Anon Plangprasopchok', 'Chio Wong']\n",
            "----------------------------------------\n",
            "- Unicast and Multicast Qos Routing with Soft Constraint Logic Programming\n",
            "  Autores: ['Stefano Bistarelli', 'Ugo Montanari', 'Francesca Rossi', 'Francesco Santini']\n",
            "----------------------------------------\n",
            "- A study of structural properties on profiles HMMs\n",
            "  Autores: ['Juliana S Bernardes', 'Alberto Davila', 'Vitor Santos Costa', 'Gerson\\n  Zaverucha']\n",
            "----------------------------------------\n",
            "- Introduction to Arabic Speech Recognition Using CMUSphinx System\n",
            "  Autores: ['H. Satori', 'M. Harti', 'N. Chenfour']\n",
            "----------------------------------------\n",
            "- Arabic Speech Recognition System using CMU-Sphinx4\n",
            "  Autores: ['H. Satori', 'M. Harti', 'N. Chenfour']\n",
            "----------------------------------------\n",
            "- Experimenting with recursive queries in database and logic programming\n",
            "  systems\n",
            "  Autores: ['Giorgio Terracina', 'Nicola Leone', 'Vincenzino Lio', 'Claudio Panetta']\n",
            "----------------------------------------\n",
            "- An Adaptive Strategy for the Classification of G-Protein Coupled\n",
            "  Receptors\n",
            "  Autores: ['S. Mohamed', 'D. Rubin', 'and T. Marwala']\n",
            "----------------------------------------\n",
            "- Comparing Robustness of Pairwise and Multiclass Neural-Network Systems\n",
            "  for Face Recognition\n",
            "  Autores: ['J. Uglov', 'V. Schetinin', 'C. Maple']\n",
            "----------------------------------------\n",
            "- Ensemble Learning for Free with Evolutionary Algorithms ?\n",
            "  Autores: [\"Christian Gagn\\\\'e (INFORMATIQUE WGZ INC.)\", 'Mich\\\\`ele Sebag (INRIA\\n  Futurs)', 'Marc Schoenauer (INRIA Futurs)', 'Marco Tomassini (ISI)']\n",
            "----------------------------------------\n"
          ]
        }
      ],
      "source": [
        "def buscar_articulos_csai_statml_3autores(collection):\n",
        "    try:\n",
        "        cursor = collection.find(\n",
        "            {\n",
        "                \"$or\": [\n",
        "                    {\"categories\": {\"$regex\": r\"cs\\.AI\"}},\n",
        "                    {\"categories\": {\"$regex\": r\"stat\\.ML\"}}\n",
        "                ]\n",
        "            },\n",
        "            {\"_id\": 0, \"title\": 1, \"authors\": 1}\n",
        "        ).limit(100)  # buscamos más para filtrar en Python\n",
        "\n",
        "        resultados = []\n",
        "\n",
        "        for doc in cursor:\n",
        "            authors_str = doc.get(\"authors\", \"\")\n",
        "            # separar autores por coma o \"and\"\n",
        "            autores = []\n",
        "            if authors_str:\n",
        "                # primero separar por comas\n",
        "                partes = [a.strip() for a in authors_str.split(\",\")]\n",
        "                # cada parte puede contener 'and', dividirlas también\n",
        "                for parte in partes:\n",
        "                    autores.extend([x.strip() for x in parte.split(\" and \") if x.strip() != \"\"])\n",
        "\n",
        "            if len(autores) >= 3:\n",
        "                resultados.append({\"title\": doc.get(\"title\"), \"authors\": autores})\n",
        "\n",
        "            if len(resultados) == 10:\n",
        "                break\n",
        "\n",
        "        if resultados:\n",
        "            print(\"Artículos en cs.AI o stat.ML con al menos 3 autores:\")\n",
        "            for art in resultados:\n",
        "                print(f\"- {art['title']}\")\n",
        "                print(f\"  Autores: {art['authors']}\")\n",
        "                print(\"-\" * 40)\n",
        "        else:\n",
        "            print(\"No se encontraron artículos con al menos 3 autores en las categorías dadas.\")\n",
        "\n",
        "        return resultados\n",
        "\n",
        "    except Exception as e:\n",
        "        print(f\"Error al buscar artículos: {e}\")\n",
        "        return []\n",
        "\n",
        "# Ejecutar función\n",
        "articulos_encontrados = buscar_articulos_csai_statml_3autores(collection)\n",
        "\n"
      ]
    },
    {
      "cell_type": "markdown",
      "metadata": {},
      "source": [
        "Consulta 3"
      ]
    },
    {
      "cell_type": "code",
      "execution_count": 18,
      "metadata": {},
      "outputs": [
        {
          "name": "stdout",
          "output_type": "stream",
          "text": [
            "Artículos en hep-ph con DOI:\n",
            "Título: Calculation of prompt diphoton production cross sections at Tevatron and\n",
            "  LHC energies\n",
            "Categorías: hep-ph\n",
            "PDF: No disponible\n",
            "----------------------------------------\n",
            "Título: Lifetime of doubly charmed baryons\n",
            "Categorías: hep-ph\n",
            "PDF: No disponible\n",
            "----------------------------------------\n",
            "Título: Understanding the Flavor Symmetry Breaking and Nucleon Flavor-Spin\n",
            "  Structure within Chiral Quark Model\n",
            "Categorías: hep-ph\n",
            "PDF: No disponible\n",
            "----------------------------------------\n",
            "Título: Crystal channeling of LHC forward protons with preserved distribution in\n",
            "  phase space\n",
            "Categorías: hep-ph\n",
            "PDF: No disponible\n",
            "----------------------------------------\n",
            "Título: Probing non-standard neutrino interactions with supernova neutrinos\n",
            "Categorías: hep-ph\n",
            "PDF: No disponible\n",
            "----------------------------------------\n",
            "Título: Experimental efforts in search of 76Ge Neutrinoless Double Beta Decay\n",
            "Categorías: hep-ph\n",
            "PDF: No disponible\n",
            "----------------------------------------\n",
            "Título: Towards self-consistent definition of instanton liquid parameters\n",
            "Categorías: hep-ph\n",
            "PDF: No disponible\n",
            "----------------------------------------\n",
            "Título: Instanton Liquid at Finite Temperature and Chemical Potential of Quarks\n",
            "Categorías: hep-ph\n",
            "PDF: No disponible\n",
            "----------------------------------------\n",
            "Título: Low Energy Aspects of Heavy Meson Decays\n",
            "Categorías: hep-ph\n",
            "PDF: No disponible\n",
            "----------------------------------------\n",
            "Título: Very strong and slowly varying magnetic fields as source of axions\n",
            "Categorías: hep-ph\n",
            "PDF: No disponible\n",
            "----------------------------------------\n",
            "Título: Dark energy and neutrino model in SUSY -- Remarks on active and sterile\n",
            "  neutrinos mixing --\n",
            "Categorías: hep-ph\n",
            "PDF: No disponible\n",
            "----------------------------------------\n",
            "Título: Remarks on N_c dependence of decays of exotic baryons\n",
            "Categorías: hep-ph\n",
            "PDF: No disponible\n",
            "----------------------------------------\n",
            "Título: Does the present data on B_s - bar B_s mixing rule out a large\n",
            "  enhancement in the branching ratio of B_s --> mu+ mu- ?\n",
            "Categorías: hep-ph\n",
            "PDF: No disponible\n",
            "----------------------------------------\n",
            "Título: Unravelling the sbottom spin at the CERN LHC\n",
            "Categorías: hep-ph\n",
            "PDF: No disponible\n",
            "----------------------------------------\n",
            "Título: A practical Seedless Infrared-Safe Cone jet algorithm\n",
            "Categorías: hep-ph\n",
            "PDF: No disponible\n",
            "----------------------------------------\n"
          ]
        }
      ],
      "source": [
        "def leer_hep_ph_con_doi(collection):\n",
        "    \"\"\"\n",
        "    Devuelve títulos, categorías y enlace PDF de artículos en 'hep-ph' con DOI.\n",
        "    Limita a 15 resultados.\n",
        "    \"\"\"\n",
        "    try:\n",
        "        cursor = collection.find(\n",
        "            {\n",
        "                \"categories\": \"hep-ph\",\n",
        "                \"doi\": {\"$exists\": True, \"$ne\": \"\"}\n",
        "            },\n",
        "            {\n",
        "                \"_id\": 0,\n",
        "                \"title\": 1,\n",
        "                \"categories\": 1,\n",
        "                \"pdf_url\": 1\n",
        "            }\n",
        "        ).limit(15)\n",
        "\n",
        "        resultados = []\n",
        "        for doc in cursor:\n",
        "            resultados.append({\n",
        "                \"titulo\": doc.get(\"title\", \"Sin título\"),\n",
        "                \"categorias\": doc.get(\"categories\", []),\n",
        "                \"pdf_url\": doc.get(\"pdf_url\", \"No disponible\")\n",
        "            })\n",
        "\n",
        "        if resultados:\n",
        "            print(\"Artículos en hep-ph con DOI:\")\n",
        "            for art in resultados:\n",
        "                print(f\"Título: {art['titulo']}\")\n",
        "                print(f\"Categorías: {art['categorias']}\")\n",
        "                print(f\"PDF: {art['pdf_url']}\")\n",
        "                print(\"-\" * 40)\n",
        "        else:\n",
        "            print(\"No se encontraron artículos en hep-ph con DOI.\")\n",
        "\n",
        "        return resultados\n",
        "\n",
        "    except Exception as e:\n",
        "        print(f\"Error al buscar artículos hep-ph con DOI: {e}\")\n",
        "        return []\n",
        "\n",
        "articulos_encontrados = leer_hep_ph_con_doi(collection)"
      ]
    },
    {
      "cell_type": "markdown",
      "metadata": {},
      "source": [
        "Consulta 4"
      ]
    },
    {
      "cell_type": "code",
      "execution_count": 19,
      "metadata": {},
      "outputs": [
        {
          "name": "stdout",
          "output_type": "stream",
          "text": [
            "Artículos con DOI:\n",
            "Título: !-Graphs with Trivial Overlap are Context-Free\n",
            "Autores: Aleks Kissinger (University of Oxford), Vladimir Zamdzhiev (University\n",
            "  of Oxford)\n",
            "Referencia publicación: EPTCS 181, 2015, pp. 16-31\n",
            "----------------------------------------\n",
            "Título: !Qu\\'e maravilla! Multimodal Sarcasm Detection in Spanish: a Dataset and\n",
            "  a Baseline\n",
            "Autores: Khalid Alnajjar and Mika H\\\"am\\\"al\\\"ainen\n",
            "Referencia publicación: None\n",
            "----------------------------------------\n",
            "Título: \"$1k_F$\" Singularities and Finite Density ABJM Theory at Strong Coupling\n",
            "Autores: Oscar Henriksson and Christopher Rosen\n",
            "Referencia publicación: None\n",
            "----------------------------------------\n",
            "Título: \"$\\mathbf{{\\textit K^-}{\\textit p}{\\textit p}}$\", a\n",
            "  ${\\overline{K}}$-Meson Nuclear Bound State, Observed in $^{3}{\\rm He}({K^-},\n",
            "  {\\Lambda} p)n$ Reactions\n",
            "Autores: J-PARC E15 collaboration, S. Ajimura, H. Asano, G. Beer, C. Berucci,\n",
            "  H. Bhang, M. Bragadireanu, P. Buehler, L. Busso, M. Cargnelli, S. Choi, C.\n",
            "  Curceanu, S. Enomoto, H. Fujioka, Y. Fujiwara, T. Fukuda, C. Guaraldo, T.\n",
            "  Hashimoto, R. S. Hayano, T. Hiraiwa, M. Iio, M. Iliescu, K. Inoue, Y.\n",
            "  Ishiguro, T. Ishikawa, S. Ishimoto, K. Itahashi, M. Iwasaki, K. Kanno, K.\n",
            "  Kato, Y. Kato, S. Kawasaki, P. Kienle, H. Kou, Y. Ma, J. Marton, Y. Matsuda,\n",
            "  Y. Mizoi, O. Morra, T. Nagae, H. Noumi, H. Ohnishi, S. Okada, H. Outa, K.\n",
            "  Piscicchia, Y. Sada, A. Sakaguchi, F. Sakuma, M. Sato, A. Scordo, M.\n",
            "  Sekimoto, H. Shi, K. Shirotori, D. Sirghi, F. Sirghi, K. Suzuki, S. Suzuki,\n",
            "  T. Suzuki, K. Tanida, H. Tatsuno, M. Tokuda, D. Tomono, A. Toyoda, K.\n",
            "  Tsukada, O. Vazquez Doce, E. Widmann, T. Yamaga, T. Yamazaki, Q. Zhang, and\n",
            "  J. Zmeskal\n",
            "Referencia publicación: None\n",
            "----------------------------------------\n",
            "Título: \"'Formal' vs. 'Empirical' Approaches to Quantum-Classical Reduction\"\n",
            "Autores: Joshua Rosaler\n",
            "Referencia publicación: Topoi Volume 34, Issue 2, pp 325-338, 2015\n",
            "----------------------------------------\n",
            "Título: \"(Weitergeleitet von Journalistin)\": The Gendered Presentation of\n",
            "  Professions on Wikipedia\n",
            "Autores: Olga Zagovora (1), Fabian Fl\\\"ock (1), Claudia Wagner (1 and 2) ((1)\n",
            "  GESIS - Leibniz Institute for the Social Sciences, (2) University of\n",
            "  Koblenz-Landau)\n",
            "Referencia publicación: None\n",
            "----------------------------------------\n",
            "Título: \"+-+\" Brane Model Phenomenology\n",
            "Autores: Stavros Mouslopoulos and Antonios Papazoglou (Oxford University)\n",
            "Referencia publicación: JHEP 0011 (2000) 018\n",
            "----------------------------------------\n",
            "Título: \".. I didn't reflect much on what I was doing..\" How Planck discovered\n",
            "  his radiation formula\n",
            "Autores: Domenico Giulini and Norbert Straumann (Univ. of Zuerich, Switzerland)\n",
            "Referencia publicación: None\n",
            "----------------------------------------\n",
            "Título: \"0.7 anomaly\" and magnetic impurity formation in quantum point contacts\n",
            "Autores: S. Ihnatsenka and I. V. Zozoulenko\n",
            "Referencia publicación: None\n",
            "----------------------------------------\n",
            "Título: \"23andMe confirms: I'm super white\" -- Analyzing Twitter Discourse On\n",
            "  Genetic Testing\n",
            "Autores: Alexandros Mittos, Jeremy Blackburn, Emiliano De Cristofaro\n",
            "Referencia publicación: None\n",
            "----------------------------------------\n",
            "Título: \"420 Friendly\": Revealing Marijuana Use via Craigslist Rental Ads\n",
            "Autores: Anh Nguyen, Long Nguyen, Dong Nguyen, Uyen Le and Tuan Tran\n",
            "Referencia publicación: None\n",
            "----------------------------------------\n",
            "Título: \"4n multipole periodicity\" of the Galaxy image in the WMAP data\n",
            "Autores: Pavel D. Naselsky, Igor D. Novikov (NBI)\n",
            "Referencia publicación: None\n",
            "----------------------------------------\n",
            "Título: \"6 choose 4\": A framework to understand and facilitate discussion of\n",
            "  strategies for overall survival safety monitoring\n",
            "Autores: Godwin Yung, Kaspar Rufibach, Marcel Wolbers, Mark Yan, Jue Wang\n",
            "Referencia publicación: None\n",
            "----------------------------------------\n",
            "Título: \"A Good Bot Always Knows Its Limitations\": Assessing Autonomous System\n",
            "  Decision-making Competencies through Factorized Machine Self-confidence\n",
            "Autores: Brett W. Israelsen, Nisar R. Ahmed, Matthew Aitken, Eric W. Frew, Dale\n",
            "  A. Lawrence, Brian M. Argrow\n",
            "Referencia publicación: None\n",
            "----------------------------------------\n",
            "Título: \"A Great Start, But...\": Evaluating LLM-Generated Mind Maps for\n",
            "  Information Mapping in Video-Based Design\n",
            "Autores: Tianhao He, Karthi Saravanan, Evangelos Niforatos, Gerd Kortuem\n",
            "Referencia publicación: None\n",
            "----------------------------------------\n",
            "Título: \"A Handbook of Integer Sequences\" Fifty Years Later\n",
            "Autores: N. J. A. Sloane\n",
            "Referencia publicación: None\n",
            "----------------------------------------\n",
            "Título: \"A Hint From the Inter-Family Mass Hierarchy: Two Vector-Like Families\n",
            "  in the TeV range\"\n",
            "Autores: K.S. Babu, Jogesh C. Pati and Hanns Stremnitzer\n",
            "Referencia publicación: Phys.Rev.D51:2451-2462,1995\n",
            "----------------------------------------\n",
            "Título: \"A Little is Enough\": Few-Shot Quality Estimation based Corpus Filtering\n",
            "  improves Machine Translation\n",
            "Autores: Akshay Batheja, Pushpak Bhattacharyya\n",
            "Referencia publicación: None\n",
            "----------------------------------------\n",
            "Título: \"A Lot of Moving Parts\": A Case Study of Open-Source Hardware Design\n",
            "  Collaboration in the Thingiverse Community\n",
            "Autores: Kathy Cheng, Shurui Zhou, Alison Olechowski\n",
            "Referencia publicación: None\n",
            "----------------------------------------\n",
            "Título: \"A Nova Eletricidade: Aplica\\c{c}\\~oes, Riscos e Tend\\^encias da IA\n",
            "  Moderna -- \"The New Electricity\": Applications, Risks, and Trends in Current\n",
            "  AI\n",
            "Autores: Ana L.C. Bazzan, Anderson R. Tavares, Andr\\'e G. Pereira, Cl\\'audio R.\n",
            "  Jung, Jacob Scharcanski, Joel Luis Carbonera, Lu\\'is C. Lamb, Mariana\n",
            "  Recamonde-Mendoza, Thiago L.T. da Silveira, Viviane Moreira\n",
            "Referencia publicación: None\n",
            "----------------------------------------\n"
          ]
        }
      ],
      "source": [
        "def leer_articulos_con_doi(collection):\n",
        "    \"\"\"\n",
        "    Devuelve títulos, autores y referencia de publicación de artículos con DOI.\n",
        "    Ordena alfabéticamente por título y limita a 20 resultados.\n",
        "    \"\"\"\n",
        "    try:\n",
        "        cursor = collection.find(\n",
        "            {\"doi\": {\"$exists\": True, \"$ne\": \"\"}},\n",
        "            {\n",
        "                \"_id\": 0,\n",
        "                \"title\": 1,\n",
        "                \"authors\": 1,\n",
        "                \"journal-ref\": 1\n",
        "            }\n",
        "        ).sort(\"title\", 1).limit(20)\n",
        "\n",
        "        resultados = []\n",
        "        for doc in cursor:\n",
        "            resultados.append({\n",
        "                \"titulo\": doc.get(\"title\", \"Sin título\"),\n",
        "                \"autores\": doc.get(\"authors\", []),\n",
        "                \"referencia_publicacion\": doc.get(\"journal-ref\", \"No disponible\")\n",
        "            })\n",
        "\n",
        "        if resultados:\n",
        "            print(\"Artículos con DOI:\")\n",
        "            for art in resultados:\n",
        "                print(f\"Título: {art['titulo']}\")\n",
        "                print(f\"Autores: {art['autores']}\")\n",
        "                print(f\"Referencia publicación: {art['referencia_publicacion']}\")\n",
        "                print(\"-\" * 40)\n",
        "        else:\n",
        "            print(\"No se encontraron artículos con DOI.\")\n",
        "\n",
        "        return resultados\n",
        "\n",
        "    except Exception as e:\n",
        "        print(f\"Error al buscar artículos con DOI: {e}\")\n",
        "        return []\n",
        "\n",
        "articulos_encontrados = leer_articulos_con_doi(collection)"
      ]
    }
  ],
  "metadata": {
    "colab": {
      "provenance": []
    },
    "kernelspec": {
      "display_name": "Python 3",
      "name": "python3"
    },
    "language_info": {
      "codemirror_mode": {
        "name": "ipython",
        "version": 3
      },
      "file_extension": ".py",
      "mimetype": "text/x-python",
      "name": "python",
      "nbconvert_exporter": "python",
      "pygments_lexer": "ipython3",
      "version": "3.11.4"
    }
  },
  "nbformat": 4,
  "nbformat_minor": 0
}
