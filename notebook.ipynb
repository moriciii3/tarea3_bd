{
  "cells": [
    {
      "cell_type": "markdown",
      "metadata": {},
      "source": [
        "# Tarea 3 MongoDB, arXiv\n",
        "##### Integrantes:\n",
        "Bruno Morici, ROL: 202373555-8,\n",
        "Martin Aranda, ROL: 202373021-1"
      ]
    },
    {
      "cell_type": "markdown",
      "metadata": {
        "id": "OLP_JWcpkpxb"
      },
      "source": [
        "## Primera Etapa\n",
        "Instalación de dependencias"
      ]
    },
    {
      "cell_type": "code",
      "execution_count": 1,
      "metadata": {
        "colab": {
          "base_uri": "https://localhost:8080/"
        },
        "id": "CjQ3LC2IKV5T",
        "outputId": "49b89894-2894-495c-8130-73fbc4804ab7"
      },
      "outputs": [
        {
          "name": "stdout",
          "output_type": "stream",
          "text": [
            "Requirement already satisfied: pymongo in c:\\users\\bruno\\appdata\\local\\programs\\python\\python311\\lib\\site-packages (4.13.0)\n",
            "Requirement already satisfied: dnspython<3.0.0,>=1.16.0 in c:\\users\\bruno\\appdata\\local\\programs\\python\\python311\\lib\\site-packages (from pymongo) (2.7.0)\n"
          ]
        },
        {
          "name": "stderr",
          "output_type": "stream",
          "text": [
            "\n",
            "[notice] A new release of pip is available: 24.3.1 -> 25.1.1\n",
            "[notice] To update, run: python.exe -m pip install --upgrade pip\n"
          ]
        },
        {
          "name": "stdout",
          "output_type": "stream",
          "text": [
            "Requirement already satisfied: tqdm in c:\\users\\bruno\\appdata\\local\\programs\\python\\python311\\lib\\site-packages (4.67.1)\n",
            "Requirement already satisfied: colorama in c:\\users\\bruno\\appdata\\local\\programs\\python\\python311\\lib\\site-packages (from tqdm) (0.4.6)\n"
          ]
        },
        {
          "name": "stderr",
          "output_type": "stream",
          "text": [
            "\n",
            "[notice] A new release of pip is available: 24.3.1 -> 25.1.1\n",
            "[notice] To update, run: python.exe -m pip install --upgrade pip\n"
          ]
        }
      ],
      "source": [
        "# Instalamos dependencias\n",
        "!pip install pymongo\n",
        "!pip install tqdm"
      ]
    },
    {
      "cell_type": "markdown",
      "metadata": {},
      "source": [
        "## Segunda Etapa\n",
        "Conexión a la BD \"arxiv_db\" y creación de colección \"articles\""
      ]
    },
    {
      "cell_type": "code",
      "execution_count": 3,
      "metadata": {},
      "outputs": [
        {
          "name": "stdout",
          "output_type": "stream",
          "text": [
            "Conexión exitosa a MongoDB!\n",
            "Versión de MongoDB: 8.0.9\n",
            "Dirección de conexión: ('mongo2', 27017)\n"
          ]
        }
      ],
      "source": [
        "from pymongo import MongoClient\n",
        "\n",
        "# Conectamos la BD usando localhost y los puertos mapeados\n",
        "client = MongoClient(\n",
        "    \"mongodb://localhost:27017,localhost:27018,localhost:27019/?replicaSet=rs0&readPreference=primary\")\n",
        "\n",
        "db = client[\"arxiv_db\"] # Nombre de la BD\n",
        "collection = db[\"articles\"] # Nombre de la coleccion\n",
        "\n",
        "try:\n",
        "    # Intenta obtener información del servidor\n",
        "    server_info = client.server_info()\n",
        "    print(\"Conexión exitosa a MongoDB!\")\n",
        "    print(f\"Versión de MongoDB: {server_info['version']}\")\n",
        "    print(f\"Dirección de conexión: {client.primary}\") # Puedes usar client.primary para ver el primario después de la inicialización\n",
        "except Exception as e:\n",
        "    print(f\"Error de conexión: {e}\")"
      ]
    },
    {
      "cell_type": "markdown",
      "metadata": {},
      "source": [
        "## Tercera Etapa\n",
        "Procesamiento del dataset hacia la BD (ejecutar una sola vez, luego los datos quedan en la BD)"
      ]
    },
    {
      "cell_type": "markdown",
      "metadata": {},
      "source": [
        "Observación: El dataset tiene un JSON en cada línea, no es una lista de JSON's. Recorremos cada JSON, lo parseamos y guardamos en una lista de data (demora unos 6 minutos)"
      ]
    },
    {
      "cell_type": "code",
      "execution_count": null,
      "metadata": {
        "colab": {
          "base_uri": "https://localhost:8080/",
          "height": 356
        },
        "id": "GU00dCWikwRA",
        "outputId": "7a5a8ae0-4d89-4ede-9fe9-3383a567aca6"
      },
      "outputs": [
        {
          "name": "stdout",
          "output_type": "stream",
          "text": [
            "Iniciando carga de datos a MongoDB...\n"
          ]
        },
        {
          "name": "stderr",
          "output_type": "stream",
          "text": [
            "Cargando datos:  83%|████████▎ | 2283999/2744489 [30:16<06:06, 1257.43it/s] \n"
          ]
        },
        {
          "ename": "KeyboardInterrupt",
          "evalue": "",
          "output_type": "error",
          "traceback": [
            "\u001b[31m---------------------------------------------------------------------------\u001b[39m",
            "\u001b[31mTimeoutError\u001b[39m                              Traceback (most recent call last)",
            "\u001b[36mFile \u001b[39m\u001b[32mc:\\Users\\Bruno\\AppData\\Local\\Programs\\Python\\Python311\\Lib\\site-packages\\pymongo\\network_layer.py:351\u001b[39m, in \u001b[36mreceive_data\u001b[39m\u001b[34m(conn, length, deadline)\u001b[39m\n\u001b[32m    349\u001b[39m         conn.set_conn_timeout(short_timeout)\n\u001b[32m--> \u001b[39m\u001b[32m351\u001b[39m     chunk_length = \u001b[43mconn\u001b[49m\u001b[43m.\u001b[49m\u001b[43mconn\u001b[49m\u001b[43m.\u001b[49m\u001b[43mrecv_into\u001b[49m\u001b[43m(\u001b[49m\u001b[43mmv\u001b[49m\u001b[43m[\u001b[49m\u001b[43mbytes_read\u001b[49m\u001b[43m:\u001b[49m\u001b[43m]\u001b[49m\u001b[43m)\u001b[49m\n\u001b[32m    352\u001b[39m \u001b[38;5;28;01mexcept\u001b[39;00m BLOCKING_IO_ERRORS:\n",
            "\u001b[36mFile \u001b[39m\u001b[32mc:\\Users\\Bruno\\AppData\\Local\\Programs\\Python\\Python311\\Lib\\site-packages\\pymongo\\network_layer.py:466\u001b[39m, in \u001b[36mNetworkingInterface.recv_into\u001b[39m\u001b[34m(self, buffer)\u001b[39m\n\u001b[32m    465\u001b[39m \u001b[38;5;28;01mdef\u001b[39;00m\u001b[38;5;250m \u001b[39m\u001b[34mrecv_into\u001b[39m(\u001b[38;5;28mself\u001b[39m, buffer: \u001b[38;5;28mbytes\u001b[39m) -> \u001b[38;5;28mint\u001b[39m:\n\u001b[32m--> \u001b[39m\u001b[32m466\u001b[39m     \u001b[38;5;28;01mreturn\u001b[39;00m \u001b[38;5;28;43mself\u001b[39;49m\u001b[43m.\u001b[49m\u001b[43mconn\u001b[49m\u001b[43m.\u001b[49m\u001b[43mrecv_into\u001b[49m\u001b[43m(\u001b[49m\u001b[43mbuffer\u001b[49m\u001b[43m)\u001b[49m\n",
            "\u001b[31mTimeoutError\u001b[39m: timed out",
            "\nDuring handling of the above exception, another exception occurred:\n",
            "\u001b[31mKeyboardInterrupt\u001b[39m                         Traceback (most recent call last)",
            "\u001b[36mCell\u001b[39m\u001b[36m \u001b[39m\u001b[32mIn[3]\u001b[39m\u001b[32m, line 34\u001b[39m\n\u001b[32m     30\u001b[39m             total_docs += \u001b[38;5;28mlen\u001b[39m(batch)\n\u001b[32m     32\u001b[39m     \u001b[38;5;28mprint\u001b[39m(\u001b[33mf\u001b[39m\u001b[33m\"\u001b[39m\u001b[38;5;130;01m\\n\u001b[39;00m\u001b[33mTotal de documentos insertados: \u001b[39m\u001b[38;5;132;01m{\u001b[39;00mtotal_docs\u001b[38;5;132;01m}\u001b[39;00m\u001b[33m\"\u001b[39m)\n\u001b[32m---> \u001b[39m\u001b[32m34\u001b[39m \u001b[43mload_data_batch\u001b[49m\u001b[43m(\u001b[49m\u001b[43m)\u001b[49m \u001b[38;5;66;03m# Llamamos la funcion creada anteriormente\u001b[39;00m\n\u001b[32m     36\u001b[39m \u001b[38;5;66;03m# 3. Verificacion final\u001b[39;00m\n\u001b[32m     37\u001b[39m \u001b[38;5;28mprint\u001b[39m(\u001b[33m\"\u001b[39m\u001b[38;5;130;01m\\n\u001b[39;00m\u001b[33mResumen de la base de datos:\u001b[39m\u001b[33m\"\u001b[39m)\n",
            "\u001b[36mCell\u001b[39m\u001b[36m \u001b[39m\u001b[32mIn[3]\u001b[39m\u001b[32m, line 23\u001b[39m, in \u001b[36mload_data_batch\u001b[39m\u001b[34m(batch_size)\u001b[39m\n\u001b[32m     21\u001b[39m \u001b[38;5;66;03m# Si el batch excede el maximo, lo vaciamos e insertamos los datos en la BD\u001b[39;00m\n\u001b[32m     22\u001b[39m \u001b[38;5;28;01mif\u001b[39;00m \u001b[38;5;28mlen\u001b[39m(batch) >= batch_size:\n\u001b[32m---> \u001b[39m\u001b[32m23\u001b[39m     \u001b[43mcollection\u001b[49m\u001b[43m.\u001b[49m\u001b[43minsert_many\u001b[49m\u001b[43m(\u001b[49m\u001b[43mbatch\u001b[49m\u001b[43m)\u001b[49m\n\u001b[32m     24\u001b[39m     total_docs += \u001b[38;5;28mlen\u001b[39m(batch)\n\u001b[32m     25\u001b[39m     batch = []\n",
            "\u001b[36mFile \u001b[39m\u001b[32mc:\\Users\\Bruno\\AppData\\Local\\Programs\\Python\\Python311\\Lib\\site-packages\\pymongo\\_csot.py:119\u001b[39m, in \u001b[36mapply.<locals>.csot_wrapper\u001b[39m\u001b[34m(self, *args, **kwargs)\u001b[39m\n\u001b[32m    117\u001b[39m         \u001b[38;5;28;01mwith\u001b[39;00m _TimeoutContext(timeout):\n\u001b[32m    118\u001b[39m             \u001b[38;5;28;01mreturn\u001b[39;00m func(\u001b[38;5;28mself\u001b[39m, *args, **kwargs)\n\u001b[32m--> \u001b[39m\u001b[32m119\u001b[39m \u001b[38;5;28;01mreturn\u001b[39;00m \u001b[43mfunc\u001b[49m\u001b[43m(\u001b[49m\u001b[38;5;28;43mself\u001b[39;49m\u001b[43m,\u001b[49m\u001b[43m \u001b[49m\u001b[43m*\u001b[49m\u001b[43margs\u001b[49m\u001b[43m,\u001b[49m\u001b[43m \u001b[49m\u001b[43m*\u001b[49m\u001b[43m*\u001b[49m\u001b[43mkwargs\u001b[49m\u001b[43m)\u001b[49m\n",
            "\u001b[36mFile \u001b[39m\u001b[32mc:\\Users\\Bruno\\AppData\\Local\\Programs\\Python\\Python311\\Lib\\site-packages\\pymongo\\synchronous\\collection.py:975\u001b[39m, in \u001b[36mCollection.insert_many\u001b[39m\u001b[34m(self, documents, ordered, bypass_document_validation, session, comment)\u001b[39m\n\u001b[32m    973\u001b[39m blk = _Bulk(\u001b[38;5;28mself\u001b[39m, ordered, bypass_document_validation, comment=comment)\n\u001b[32m    974\u001b[39m blk.ops = \u001b[38;5;28mlist\u001b[39m(gen())\n\u001b[32m--> \u001b[39m\u001b[32m975\u001b[39m \u001b[43mblk\u001b[49m\u001b[43m.\u001b[49m\u001b[43mexecute\u001b[49m\u001b[43m(\u001b[49m\u001b[43mwrite_concern\u001b[49m\u001b[43m,\u001b[49m\u001b[43m \u001b[49m\u001b[43msession\u001b[49m\u001b[43m,\u001b[49m\u001b[43m \u001b[49m\u001b[43m_Op\u001b[49m\u001b[43m.\u001b[49m\u001b[43mINSERT\u001b[49m\u001b[43m)\u001b[49m\n\u001b[32m    976\u001b[39m \u001b[38;5;28;01mreturn\u001b[39;00m InsertManyResult(inserted_ids, write_concern.acknowledged)\n",
            "\u001b[36mFile \u001b[39m\u001b[32mc:\\Users\\Bruno\\AppData\\Local\\Programs\\Python\\Python311\\Lib\\site-packages\\pymongo\\synchronous\\bulk.py:751\u001b[39m, in \u001b[36m_Bulk.execute\u001b[39m\u001b[34m(self, write_concern, session, operation)\u001b[39m\n\u001b[32m    749\u001b[39m         \u001b[38;5;28;01mreturn\u001b[39;00m \u001b[38;5;28;01mNone\u001b[39;00m\n\u001b[32m    750\u001b[39m \u001b[38;5;28;01melse\u001b[39;00m:\n\u001b[32m--> \u001b[39m\u001b[32m751\u001b[39m     \u001b[38;5;28;01mreturn\u001b[39;00m \u001b[38;5;28;43mself\u001b[39;49m\u001b[43m.\u001b[49m\u001b[43mexecute_command\u001b[49m\u001b[43m(\u001b[49m\u001b[43mgenerator\u001b[49m\u001b[43m,\u001b[49m\u001b[43m \u001b[49m\u001b[43mwrite_concern\u001b[49m\u001b[43m,\u001b[49m\u001b[43m \u001b[49m\u001b[43msession\u001b[49m\u001b[43m,\u001b[49m\u001b[43m \u001b[49m\u001b[43moperation\u001b[49m\u001b[43m)\u001b[49m\n",
            "\u001b[36mFile \u001b[39m\u001b[32mc:\\Users\\Bruno\\AppData\\Local\\Programs\\Python\\Python311\\Lib\\site-packages\\pymongo\\synchronous\\bulk.py:604\u001b[39m, in \u001b[36m_Bulk.execute_command\u001b[39m\u001b[34m(self, generator, write_concern, session, operation)\u001b[39m\n\u001b[32m    593\u001b[39m     \u001b[38;5;28mself\u001b[39m._execute_command(\n\u001b[32m    594\u001b[39m         generator,\n\u001b[32m    595\u001b[39m         write_concern,\n\u001b[32m   (...)\u001b[39m\u001b[32m    600\u001b[39m         full_result,\n\u001b[32m    601\u001b[39m     )\n\u001b[32m    603\u001b[39m client = \u001b[38;5;28mself\u001b[39m.collection.database.client\n\u001b[32m--> \u001b[39m\u001b[32m604\u001b[39m _ = \u001b[43mclient\u001b[49m\u001b[43m.\u001b[49m\u001b[43m_retryable_write\u001b[49m\u001b[43m(\u001b[49m\n\u001b[32m    605\u001b[39m \u001b[43m    \u001b[49m\u001b[38;5;28;43mself\u001b[39;49m\u001b[43m.\u001b[49m\u001b[43mis_retryable\u001b[49m\u001b[43m,\u001b[49m\n\u001b[32m    606\u001b[39m \u001b[43m    \u001b[49m\u001b[43mretryable_bulk\u001b[49m\u001b[43m,\u001b[49m\n\u001b[32m    607\u001b[39m \u001b[43m    \u001b[49m\u001b[43msession\u001b[49m\u001b[43m,\u001b[49m\n\u001b[32m    608\u001b[39m \u001b[43m    \u001b[49m\u001b[43moperation\u001b[49m\u001b[43m,\u001b[49m\n\u001b[32m    609\u001b[39m \u001b[43m    \u001b[49m\u001b[43mbulk\u001b[49m\u001b[43m=\u001b[49m\u001b[38;5;28;43mself\u001b[39;49m\u001b[43m,\u001b[49m\u001b[43m  \u001b[49m\u001b[38;5;66;43;03m# type: ignore[arg-type]\u001b[39;49;00m\n\u001b[32m    610\u001b[39m \u001b[43m    \u001b[49m\u001b[43moperation_id\u001b[49m\u001b[43m=\u001b[49m\u001b[43mop_id\u001b[49m\u001b[43m,\u001b[49m\n\u001b[32m    611\u001b[39m \u001b[43m\u001b[49m\u001b[43m)\u001b[49m\n\u001b[32m    613\u001b[39m \u001b[38;5;28;01mif\u001b[39;00m full_result[\u001b[33m\"\u001b[39m\u001b[33mwriteErrors\u001b[39m\u001b[33m\"\u001b[39m] \u001b[38;5;129;01mor\u001b[39;00m full_result[\u001b[33m\"\u001b[39m\u001b[33mwriteConcernErrors\u001b[39m\u001b[33m\"\u001b[39m]:\n\u001b[32m    614\u001b[39m     _raise_bulk_write_error(full_result)\n",
            "\u001b[36mFile \u001b[39m\u001b[32mc:\\Users\\Bruno\\AppData\\Local\\Programs\\Python\\Python311\\Lib\\site-packages\\pymongo\\synchronous\\mongo_client.py:2061\u001b[39m, in \u001b[36mMongoClient._retryable_write\u001b[39m\u001b[34m(self, retryable, func, session, operation, bulk, operation_id)\u001b[39m\n\u001b[32m   2047\u001b[39m \u001b[38;5;250m\u001b[39m\u001b[33;03m\"\"\"Execute an operation with consecutive retries if possible\u001b[39;00m\n\u001b[32m   2048\u001b[39m \n\u001b[32m   2049\u001b[39m \u001b[33;03mReturns func()'s return value on success. On error retries the same\u001b[39;00m\n\u001b[32m   (...)\u001b[39m\u001b[32m   2058\u001b[39m \u001b[33;03m:param bulk: bulk abstraction to execute operations in bulk, defaults to None\u001b[39;00m\n\u001b[32m   2059\u001b[39m \u001b[33;03m\"\"\"\u001b[39;00m\n\u001b[32m   2060\u001b[39m \u001b[38;5;28;01mwith\u001b[39;00m \u001b[38;5;28mself\u001b[39m._tmp_session(session) \u001b[38;5;28;01mas\u001b[39;00m s:\n\u001b[32m-> \u001b[39m\u001b[32m2061\u001b[39m     \u001b[38;5;28;01mreturn\u001b[39;00m \u001b[38;5;28;43mself\u001b[39;49m\u001b[43m.\u001b[49m\u001b[43m_retry_with_session\u001b[49m\u001b[43m(\u001b[49m\u001b[43mretryable\u001b[49m\u001b[43m,\u001b[49m\u001b[43m \u001b[49m\u001b[43mfunc\u001b[49m\u001b[43m,\u001b[49m\u001b[43m \u001b[49m\u001b[43ms\u001b[49m\u001b[43m,\u001b[49m\u001b[43m \u001b[49m\u001b[43mbulk\u001b[49m\u001b[43m,\u001b[49m\u001b[43m \u001b[49m\u001b[43moperation\u001b[49m\u001b[43m,\u001b[49m\u001b[43m \u001b[49m\u001b[43moperation_id\u001b[49m\u001b[43m)\u001b[49m\n",
            "\u001b[36mFile \u001b[39m\u001b[32mc:\\Users\\Bruno\\AppData\\Local\\Programs\\Python\\Python311\\Lib\\site-packages\\pymongo\\synchronous\\mongo_client.py:1947\u001b[39m, in \u001b[36mMongoClient._retry_with_session\u001b[39m\u001b[34m(self, retryable, func, session, bulk, operation, operation_id)\u001b[39m\n\u001b[32m   1942\u001b[39m \u001b[38;5;66;03m# Ensure that the options supports retry_writes and there is a valid session not in\u001b[39;00m\n\u001b[32m   1943\u001b[39m \u001b[38;5;66;03m# transaction, otherwise, we will not support retry behavior for this txn.\u001b[39;00m\n\u001b[32m   1944\u001b[39m retryable = \u001b[38;5;28mbool\u001b[39m(\n\u001b[32m   1945\u001b[39m     retryable \u001b[38;5;129;01mand\u001b[39;00m \u001b[38;5;28mself\u001b[39m.options.retry_writes \u001b[38;5;129;01mand\u001b[39;00m session \u001b[38;5;129;01mand\u001b[39;00m \u001b[38;5;129;01mnot\u001b[39;00m session.in_transaction\n\u001b[32m   1946\u001b[39m )\n\u001b[32m-> \u001b[39m\u001b[32m1947\u001b[39m \u001b[38;5;28;01mreturn\u001b[39;00m \u001b[38;5;28;43mself\u001b[39;49m\u001b[43m.\u001b[49m\u001b[43m_retry_internal\u001b[49m\u001b[43m(\u001b[49m\n\u001b[32m   1948\u001b[39m \u001b[43m    \u001b[49m\u001b[43mfunc\u001b[49m\u001b[43m=\u001b[49m\u001b[43mfunc\u001b[49m\u001b[43m,\u001b[49m\n\u001b[32m   1949\u001b[39m \u001b[43m    \u001b[49m\u001b[43msession\u001b[49m\u001b[43m=\u001b[49m\u001b[43msession\u001b[49m\u001b[43m,\u001b[49m\n\u001b[32m   1950\u001b[39m \u001b[43m    \u001b[49m\u001b[43mbulk\u001b[49m\u001b[43m=\u001b[49m\u001b[43mbulk\u001b[49m\u001b[43m,\u001b[49m\n\u001b[32m   1951\u001b[39m \u001b[43m    \u001b[49m\u001b[43moperation\u001b[49m\u001b[43m=\u001b[49m\u001b[43moperation\u001b[49m\u001b[43m,\u001b[49m\n\u001b[32m   1952\u001b[39m \u001b[43m    \u001b[49m\u001b[43mretryable\u001b[49m\u001b[43m=\u001b[49m\u001b[43mretryable\u001b[49m\u001b[43m,\u001b[49m\n\u001b[32m   1953\u001b[39m \u001b[43m    \u001b[49m\u001b[43moperation_id\u001b[49m\u001b[43m=\u001b[49m\u001b[43moperation_id\u001b[49m\u001b[43m,\u001b[49m\n\u001b[32m   1954\u001b[39m \u001b[43m\u001b[49m\u001b[43m)\u001b[49m\n",
            "\u001b[36mFile \u001b[39m\u001b[32mc:\\Users\\Bruno\\AppData\\Local\\Programs\\Python\\Python311\\Lib\\site-packages\\pymongo\\_csot.py:119\u001b[39m, in \u001b[36mapply.<locals>.csot_wrapper\u001b[39m\u001b[34m(self, *args, **kwargs)\u001b[39m\n\u001b[32m    117\u001b[39m         \u001b[38;5;28;01mwith\u001b[39;00m _TimeoutContext(timeout):\n\u001b[32m    118\u001b[39m             \u001b[38;5;28;01mreturn\u001b[39;00m func(\u001b[38;5;28mself\u001b[39m, *args, **kwargs)\n\u001b[32m--> \u001b[39m\u001b[32m119\u001b[39m \u001b[38;5;28;01mreturn\u001b[39;00m \u001b[43mfunc\u001b[49m\u001b[43m(\u001b[49m\u001b[38;5;28;43mself\u001b[39;49m\u001b[43m,\u001b[49m\u001b[43m \u001b[49m\u001b[43m*\u001b[49m\u001b[43margs\u001b[49m\u001b[43m,\u001b[49m\u001b[43m \u001b[49m\u001b[43m*\u001b[49m\u001b[43m*\u001b[49m\u001b[43mkwargs\u001b[49m\u001b[43m)\u001b[49m\n",
            "\u001b[36mFile \u001b[39m\u001b[32mc:\\Users\\Bruno\\AppData\\Local\\Programs\\Python\\Python311\\Lib\\site-packages\\pymongo\\synchronous\\mongo_client.py:1993\u001b[39m, in \u001b[36mMongoClient._retry_internal\u001b[39m\u001b[34m(self, func, session, bulk, operation, is_read, address, read_pref, retryable, operation_id)\u001b[39m\n\u001b[32m   1956\u001b[39m \u001b[38;5;129m@_csot\u001b[39m.apply\n\u001b[32m   1957\u001b[39m \u001b[38;5;28;01mdef\u001b[39;00m\u001b[38;5;250m \u001b[39m\u001b[34m_retry_internal\u001b[39m(\n\u001b[32m   1958\u001b[39m     \u001b[38;5;28mself\u001b[39m,\n\u001b[32m   (...)\u001b[39m\u001b[32m   1967\u001b[39m     operation_id: Optional[\u001b[38;5;28mint\u001b[39m] = \u001b[38;5;28;01mNone\u001b[39;00m,\n\u001b[32m   1968\u001b[39m ) -> T:\n\u001b[32m   1969\u001b[39m \u001b[38;5;250m    \u001b[39m\u001b[33;03m\"\"\"Internal retryable helper for all client transactions.\u001b[39;00m\n\u001b[32m   1970\u001b[39m \n\u001b[32m   1971\u001b[39m \u001b[33;03m    :param func: Callback function we want to retry\u001b[39;00m\n\u001b[32m   (...)\u001b[39m\u001b[32m   1980\u001b[39m \u001b[33;03m    :return: Output of the calling func()\u001b[39;00m\n\u001b[32m   1981\u001b[39m \u001b[33;03m    \"\"\"\u001b[39;00m\n\u001b[32m   1982\u001b[39m     \u001b[38;5;28;01mreturn\u001b[39;00m \u001b[43m_ClientConnectionRetryable\u001b[49m\u001b[43m(\u001b[49m\n\u001b[32m   1983\u001b[39m \u001b[43m        \u001b[49m\u001b[43mmongo_client\u001b[49m\u001b[43m=\u001b[49m\u001b[38;5;28;43mself\u001b[39;49m\u001b[43m,\u001b[49m\n\u001b[32m   1984\u001b[39m \u001b[43m        \u001b[49m\u001b[43mfunc\u001b[49m\u001b[43m=\u001b[49m\u001b[43mfunc\u001b[49m\u001b[43m,\u001b[49m\n\u001b[32m   1985\u001b[39m \u001b[43m        \u001b[49m\u001b[43mbulk\u001b[49m\u001b[43m=\u001b[49m\u001b[43mbulk\u001b[49m\u001b[43m,\u001b[49m\n\u001b[32m   1986\u001b[39m \u001b[43m        \u001b[49m\u001b[43moperation\u001b[49m\u001b[43m=\u001b[49m\u001b[43moperation\u001b[49m\u001b[43m,\u001b[49m\n\u001b[32m   1987\u001b[39m \u001b[43m        \u001b[49m\u001b[43mis_read\u001b[49m\u001b[43m=\u001b[49m\u001b[43mis_read\u001b[49m\u001b[43m,\u001b[49m\n\u001b[32m   1988\u001b[39m \u001b[43m        \u001b[49m\u001b[43msession\u001b[49m\u001b[43m=\u001b[49m\u001b[43msession\u001b[49m\u001b[43m,\u001b[49m\n\u001b[32m   1989\u001b[39m \u001b[43m        \u001b[49m\u001b[43mread_pref\u001b[49m\u001b[43m=\u001b[49m\u001b[43mread_pref\u001b[49m\u001b[43m,\u001b[49m\n\u001b[32m   1990\u001b[39m \u001b[43m        \u001b[49m\u001b[43maddress\u001b[49m\u001b[43m=\u001b[49m\u001b[43maddress\u001b[49m\u001b[43m,\u001b[49m\n\u001b[32m   1991\u001b[39m \u001b[43m        \u001b[49m\u001b[43mretryable\u001b[49m\u001b[43m=\u001b[49m\u001b[43mretryable\u001b[49m\u001b[43m,\u001b[49m\n\u001b[32m   1992\u001b[39m \u001b[43m        \u001b[49m\u001b[43moperation_id\u001b[49m\u001b[43m=\u001b[49m\u001b[43moperation_id\u001b[49m\u001b[43m,\u001b[49m\n\u001b[32m-> \u001b[39m\u001b[32m1993\u001b[39m \u001b[43m    \u001b[49m\u001b[43m)\u001b[49m\u001b[43m.\u001b[49m\u001b[43mrun\u001b[49m\u001b[43m(\u001b[49m\u001b[43m)\u001b[49m\n",
            "\u001b[36mFile \u001b[39m\u001b[32mc:\\Users\\Bruno\\AppData\\Local\\Programs\\Python\\Python311\\Lib\\site-packages\\pymongo\\synchronous\\mongo_client.py:2730\u001b[39m, in \u001b[36m_ClientConnectionRetryable.run\u001b[39m\u001b[34m(self)\u001b[39m\n\u001b[32m   2728\u001b[39m \u001b[38;5;28mself\u001b[39m._check_last_error(check_csot=\u001b[38;5;28;01mTrue\u001b[39;00m)\n\u001b[32m   2729\u001b[39m \u001b[38;5;28;01mtry\u001b[39;00m:\n\u001b[32m-> \u001b[39m\u001b[32m2730\u001b[39m     \u001b[38;5;28;01mreturn\u001b[39;00m \u001b[38;5;28mself\u001b[39m._read() \u001b[38;5;28;01mif\u001b[39;00m \u001b[38;5;28mself\u001b[39m._is_read \u001b[38;5;28;01melse\u001b[39;00m \u001b[38;5;28;43mself\u001b[39;49m\u001b[43m.\u001b[49m\u001b[43m_write\u001b[49m\u001b[43m(\u001b[49m\u001b[43m)\u001b[49m\n\u001b[32m   2731\u001b[39m \u001b[38;5;28;01mexcept\u001b[39;00m ServerSelectionTimeoutError:\n\u001b[32m   2732\u001b[39m     \u001b[38;5;66;03m# The application may think the write was never attempted\u001b[39;00m\n\u001b[32m   2733\u001b[39m     \u001b[38;5;66;03m# if we raise ServerSelectionTimeoutError on the retry\u001b[39;00m\n\u001b[32m   2734\u001b[39m     \u001b[38;5;66;03m# attempt. Raise the original exception instead.\u001b[39;00m\n\u001b[32m   2735\u001b[39m     \u001b[38;5;28mself\u001b[39m._check_last_error()\n",
            "\u001b[36mFile \u001b[39m\u001b[32mc:\\Users\\Bruno\\AppData\\Local\\Programs\\Python\\Python311\\Lib\\site-packages\\pymongo\\synchronous\\mongo_client.py:2862\u001b[39m, in \u001b[36m_ClientConnectionRetryable._write\u001b[39m\u001b[34m(self)\u001b[39m\n\u001b[32m   2854\u001b[39m         \u001b[38;5;28;01mif\u001b[39;00m \u001b[38;5;28mself\u001b[39m._retrying:\n\u001b[32m   2855\u001b[39m             _debug_log(\n\u001b[32m   2856\u001b[39m                 _COMMAND_LOGGER,\n\u001b[32m   2857\u001b[39m                 message=\u001b[33mf\u001b[39m\u001b[33m\"\u001b[39m\u001b[33mRetrying write attempt number \u001b[39m\u001b[38;5;132;01m{\u001b[39;00m\u001b[38;5;28mself\u001b[39m._attempt_number\u001b[38;5;132;01m}\u001b[39;00m\u001b[33m\"\u001b[39m,\n\u001b[32m   (...)\u001b[39m\u001b[32m   2860\u001b[39m                 operationId=\u001b[38;5;28mself\u001b[39m._operation_id,\n\u001b[32m   2861\u001b[39m             )\n\u001b[32m-> \u001b[39m\u001b[32m2862\u001b[39m         \u001b[38;5;28;01mreturn\u001b[39;00m \u001b[38;5;28;43mself\u001b[39;49m\u001b[43m.\u001b[49m\u001b[43m_func\u001b[49m\u001b[43m(\u001b[49m\u001b[38;5;28;43mself\u001b[39;49m\u001b[43m.\u001b[49m\u001b[43m_session\u001b[49m\u001b[43m,\u001b[49m\u001b[43m \u001b[49m\u001b[43mconn\u001b[49m\u001b[43m,\u001b[49m\u001b[43m \u001b[49m\u001b[38;5;28;43mself\u001b[39;49m\u001b[43m.\u001b[49m\u001b[43m_retryable\u001b[49m\u001b[43m)\u001b[49m  \u001b[38;5;66;03m# type: ignore\u001b[39;00m\n\u001b[32m   2863\u001b[39m \u001b[38;5;28;01mexcept\u001b[39;00m PyMongoError \u001b[38;5;28;01mas\u001b[39;00m exc:\n\u001b[32m   2864\u001b[39m     \u001b[38;5;28;01mif\u001b[39;00m \u001b[38;5;129;01mnot\u001b[39;00m \u001b[38;5;28mself\u001b[39m._retryable:\n",
            "\u001b[36mFile \u001b[39m\u001b[32mc:\\Users\\Bruno\\AppData\\Local\\Programs\\Python\\Python311\\Lib\\site-packages\\pymongo\\synchronous\\bulk.py:593\u001b[39m, in \u001b[36m_Bulk.execute_command.<locals>.retryable_bulk\u001b[39m\u001b[34m(session, conn, retryable)\u001b[39m\n\u001b[32m    590\u001b[39m \u001b[38;5;28;01mdef\u001b[39;00m\u001b[38;5;250m \u001b[39m\u001b[34mretryable_bulk\u001b[39m(\n\u001b[32m    591\u001b[39m     session: Optional[ClientSession], conn: Connection, retryable: \u001b[38;5;28mbool\u001b[39m\n\u001b[32m    592\u001b[39m ) -> \u001b[38;5;28;01mNone\u001b[39;00m:\n\u001b[32m--> \u001b[39m\u001b[32m593\u001b[39m     \u001b[38;5;28;43mself\u001b[39;49m\u001b[43m.\u001b[49m\u001b[43m_execute_command\u001b[49m\u001b[43m(\u001b[49m\n\u001b[32m    594\u001b[39m \u001b[43m        \u001b[49m\u001b[43mgenerator\u001b[49m\u001b[43m,\u001b[49m\n\u001b[32m    595\u001b[39m \u001b[43m        \u001b[49m\u001b[43mwrite_concern\u001b[49m\u001b[43m,\u001b[49m\n\u001b[32m    596\u001b[39m \u001b[43m        \u001b[49m\u001b[43msession\u001b[49m\u001b[43m,\u001b[49m\n\u001b[32m    597\u001b[39m \u001b[43m        \u001b[49m\u001b[43mconn\u001b[49m\u001b[43m,\u001b[49m\n\u001b[32m    598\u001b[39m \u001b[43m        \u001b[49m\u001b[43mop_id\u001b[49m\u001b[43m,\u001b[49m\n\u001b[32m    599\u001b[39m \u001b[43m        \u001b[49m\u001b[43mretryable\u001b[49m\u001b[43m,\u001b[49m\n\u001b[32m    600\u001b[39m \u001b[43m        \u001b[49m\u001b[43mfull_result\u001b[49m\u001b[43m,\u001b[49m\n\u001b[32m    601\u001b[39m \u001b[43m    \u001b[49m\u001b[43m)\u001b[49m\n",
            "\u001b[36mFile \u001b[39m\u001b[32mc:\\Users\\Bruno\\AppData\\Local\\Programs\\Python\\Python311\\Lib\\site-packages\\pymongo\\synchronous\\bulk.py:538\u001b[39m, in \u001b[36m_Bulk._execute_command\u001b[39m\u001b[34m(self, generator, write_concern, session, conn, op_id, retryable, full_result, final_write_concern)\u001b[39m\n\u001b[32m    536\u001b[39m \u001b[38;5;66;03m# Run as many ops as possible in one command.\u001b[39;00m\n\u001b[32m    537\u001b[39m \u001b[38;5;28;01mif\u001b[39;00m write_concern.acknowledged:\n\u001b[32m--> \u001b[39m\u001b[32m538\u001b[39m     result, to_send = \u001b[38;5;28;43mself\u001b[39;49m\u001b[43m.\u001b[49m\u001b[43m_execute_batch\u001b[49m\u001b[43m(\u001b[49m\u001b[43mbwc\u001b[49m\u001b[43m,\u001b[49m\u001b[43m \u001b[49m\u001b[43mcmd\u001b[49m\u001b[43m,\u001b[49m\u001b[43m \u001b[49m\u001b[43mops\u001b[49m\u001b[43m,\u001b[49m\u001b[43m \u001b[49m\u001b[43mclient\u001b[49m\u001b[43m)\u001b[49m\n\u001b[32m    540\u001b[39m     \u001b[38;5;66;03m# Retryable writeConcernErrors halt the execution of this run.\u001b[39;00m\n\u001b[32m    541\u001b[39m     wce = result.get(\u001b[33m\"\u001b[39m\u001b[33mwriteConcernError\u001b[39m\u001b[33m\"\u001b[39m, {})\n",
            "\u001b[36mFile \u001b[39m\u001b[32mc:\\Users\\Bruno\\AppData\\Local\\Programs\\Python\\Python311\\Lib\\site-packages\\pymongo\\synchronous\\bulk.py:462\u001b[39m, in \u001b[36m_Bulk._execute_batch\u001b[39m\u001b[34m(self, bwc, cmd, ops, client)\u001b[39m\n\u001b[32m    460\u001b[39m \u001b[38;5;28;01melse\u001b[39;00m:\n\u001b[32m    461\u001b[39m     request_id, msg, to_send = bwc.batch_command(cmd, ops)\n\u001b[32m--> \u001b[39m\u001b[32m462\u001b[39m     result = \u001b[38;5;28;43mself\u001b[39;49m\u001b[43m.\u001b[49m\u001b[43mwrite_command\u001b[49m\u001b[43m(\u001b[49m\u001b[43mbwc\u001b[49m\u001b[43m,\u001b[49m\u001b[43m \u001b[49m\u001b[43mcmd\u001b[49m\u001b[43m,\u001b[49m\u001b[43m \u001b[49m\u001b[43mrequest_id\u001b[49m\u001b[43m,\u001b[49m\u001b[43m \u001b[49m\u001b[43mmsg\u001b[49m\u001b[43m,\u001b[49m\u001b[43m \u001b[49m\u001b[43mto_send\u001b[49m\u001b[43m,\u001b[49m\u001b[43m \u001b[49m\u001b[43mclient\u001b[49m\u001b[43m)\u001b[49m  \u001b[38;5;66;03m# type: ignore[arg-type]\u001b[39;00m\n\u001b[32m    464\u001b[39m \u001b[38;5;28;01mreturn\u001b[39;00m result, to_send\n",
            "\u001b[36mFile \u001b[39m\u001b[32mc:\\Users\\Bruno\\AppData\\Local\\Programs\\Python\\Python311\\Lib\\site-packages\\pymongo\\synchronous\\helpers.py:47\u001b[39m, in \u001b[36m_handle_reauth.<locals>.inner\u001b[39m\u001b[34m(*args, **kwargs)\u001b[39m\n\u001b[32m     44\u001b[39m \u001b[38;5;28;01mfrom\u001b[39;00m\u001b[38;5;250m \u001b[39m\u001b[34;01mpymongo\u001b[39;00m\u001b[34;01m.\u001b[39;00m\u001b[34;01msynchronous\u001b[39;00m\u001b[34;01m.\u001b[39;00m\u001b[34;01mpool\u001b[39;00m\u001b[38;5;250m \u001b[39m\u001b[38;5;28;01mimport\u001b[39;00m Connection\n\u001b[32m     46\u001b[39m \u001b[38;5;28;01mtry\u001b[39;00m:\n\u001b[32m---> \u001b[39m\u001b[32m47\u001b[39m     \u001b[38;5;28;01mreturn\u001b[39;00m \u001b[43mfunc\u001b[49m\u001b[43m(\u001b[49m\u001b[43m*\u001b[49m\u001b[43margs\u001b[49m\u001b[43m,\u001b[49m\u001b[43m \u001b[49m\u001b[43m*\u001b[49m\u001b[43m*\u001b[49m\u001b[43mkwargs\u001b[49m\u001b[43m)\u001b[49m\n\u001b[32m     48\u001b[39m \u001b[38;5;28;01mexcept\u001b[39;00m OperationFailure \u001b[38;5;28;01mas\u001b[39;00m exc:\n\u001b[32m     49\u001b[39m     \u001b[38;5;28;01mif\u001b[39;00m no_reauth:\n",
            "\u001b[36mFile \u001b[39m\u001b[32mc:\\Users\\Bruno\\AppData\\Local\\Programs\\Python\\Python311\\Lib\\site-packages\\pymongo\\synchronous\\bulk.py:274\u001b[39m, in \u001b[36m_Bulk.write_command\u001b[39m\u001b[34m(self, bwc, cmd, request_id, msg, docs, client)\u001b[39m\n\u001b[32m    272\u001b[39m     bwc._start(cmd, request_id, docs)\n\u001b[32m    273\u001b[39m \u001b[38;5;28;01mtry\u001b[39;00m:\n\u001b[32m--> \u001b[39m\u001b[32m274\u001b[39m     reply = \u001b[43mbwc\u001b[49m\u001b[43m.\u001b[49m\u001b[43mconn\u001b[49m\u001b[43m.\u001b[49m\u001b[43mwrite_command\u001b[49m\u001b[43m(\u001b[49m\u001b[43mrequest_id\u001b[49m\u001b[43m,\u001b[49m\u001b[43m \u001b[49m\u001b[43mmsg\u001b[49m\u001b[43m,\u001b[49m\u001b[43m \u001b[49m\u001b[43mbwc\u001b[49m\u001b[43m.\u001b[49m\u001b[43mcodec\u001b[49m\u001b[43m)\u001b[49m  \u001b[38;5;66;03m# type: ignore[misc]\u001b[39;00m\n\u001b[32m    275\u001b[39m     duration = datetime.datetime.now() - bwc.start_time\n\u001b[32m    276\u001b[39m     \u001b[38;5;28;01mif\u001b[39;00m _COMMAND_LOGGER.isEnabledFor(logging.DEBUG):\n",
            "\u001b[36mFile \u001b[39m\u001b[32mc:\\Users\\Bruno\\AppData\\Local\\Programs\\Python\\Python311\\Lib\\site-packages\\pymongo\\synchronous\\pool.py:502\u001b[39m, in \u001b[36mConnection.write_command\u001b[39m\u001b[34m(self, request_id, msg, codec_options)\u001b[39m\n\u001b[32m    494\u001b[39m \u001b[38;5;250m\u001b[39m\u001b[33;03m\"\"\"Send \"insert\" etc. command, returning response as a dict.\u001b[39;00m\n\u001b[32m    495\u001b[39m \n\u001b[32m    496\u001b[39m \u001b[33;03mCan raise ConnectionFailure or OperationFailure.\u001b[39;00m\n\u001b[32m   (...)\u001b[39m\u001b[32m    499\u001b[39m \u001b[33;03m:param msg: bytes, the command message.\u001b[39;00m\n\u001b[32m    500\u001b[39m \u001b[33;03m\"\"\"\u001b[39;00m\n\u001b[32m    501\u001b[39m \u001b[38;5;28mself\u001b[39m.send_message(msg, \u001b[32m0\u001b[39m)\n\u001b[32m--> \u001b[39m\u001b[32m502\u001b[39m reply = \u001b[38;5;28;43mself\u001b[39;49m\u001b[43m.\u001b[49m\u001b[43mreceive_message\u001b[49m\u001b[43m(\u001b[49m\u001b[43mrequest_id\u001b[49m\u001b[43m)\u001b[49m\n\u001b[32m    503\u001b[39m result = reply.command_response(codec_options)\n\u001b[32m    505\u001b[39m \u001b[38;5;66;03m# Raises NotPrimaryError or OperationFailure.\u001b[39;00m\n",
            "\u001b[36mFile \u001b[39m\u001b[32mc:\\Users\\Bruno\\AppData\\Local\\Programs\\Python\\Python311\\Lib\\site-packages\\pymongo\\synchronous\\pool.py:470\u001b[39m, in \u001b[36mConnection.receive_message\u001b[39m\u001b[34m(self, request_id)\u001b[39m\n\u001b[32m    468\u001b[39m \u001b[38;5;66;03m# Catch KeyboardInterrupt, CancelledError, etc. and cleanup.\u001b[39;00m\n\u001b[32m    469\u001b[39m \u001b[38;5;28;01mexcept\u001b[39;00m \u001b[38;5;167;01mBaseException\u001b[39;00m \u001b[38;5;28;01mas\u001b[39;00m error:\n\u001b[32m--> \u001b[39m\u001b[32m470\u001b[39m     \u001b[38;5;28;43mself\u001b[39;49m\u001b[43m.\u001b[49m\u001b[43m_raise_connection_failure\u001b[49m\u001b[43m(\u001b[49m\u001b[43merror\u001b[49m\u001b[43m)\u001b[49m\n",
            "\u001b[36mFile \u001b[39m\u001b[32mc:\\Users\\Bruno\\AppData\\Local\\Programs\\Python\\Python311\\Lib\\site-packages\\pymongo\\synchronous\\pool.py:467\u001b[39m, in \u001b[36mConnection.receive_message\u001b[39m\u001b[34m(self, request_id)\u001b[39m\n\u001b[32m    462\u001b[39m \u001b[38;5;250m\u001b[39m\u001b[33;03m\"\"\"Receive a raw BSON message or raise ConnectionFailure.\u001b[39;00m\n\u001b[32m    463\u001b[39m \n\u001b[32m    464\u001b[39m \u001b[33;03mIf any exception is raised, the socket is closed.\u001b[39;00m\n\u001b[32m    465\u001b[39m \u001b[33;03m\"\"\"\u001b[39;00m\n\u001b[32m    466\u001b[39m \u001b[38;5;28;01mtry\u001b[39;00m:\n\u001b[32m--> \u001b[39m\u001b[32m467\u001b[39m     \u001b[38;5;28;01mreturn\u001b[39;00m \u001b[43mreceive_message\u001b[49m\u001b[43m(\u001b[49m\u001b[38;5;28;43mself\u001b[39;49m\u001b[43m,\u001b[49m\u001b[43m \u001b[49m\u001b[43mrequest_id\u001b[49m\u001b[43m,\u001b[49m\u001b[43m \u001b[49m\u001b[38;5;28;43mself\u001b[39;49m\u001b[43m.\u001b[49m\u001b[43mmax_message_size\u001b[49m\u001b[43m)\u001b[49m\n\u001b[32m    468\u001b[39m \u001b[38;5;66;03m# Catch KeyboardInterrupt, CancelledError, etc. and cleanup.\u001b[39;00m\n\u001b[32m    469\u001b[39m \u001b[38;5;28;01mexcept\u001b[39;00m \u001b[38;5;167;01mBaseException\u001b[39;00m \u001b[38;5;28;01mas\u001b[39;00m error:\n",
            "\u001b[36mFile \u001b[39m\u001b[32mc:\\Users\\Bruno\\AppData\\Local\\Programs\\Python\\Python311\\Lib\\site-packages\\pymongo\\network_layer.py:756\u001b[39m, in \u001b[36mreceive_message\u001b[39m\u001b[34m(conn, request_id, max_message_size)\u001b[39m\n\u001b[32m    754\u001b[39m         deadline = \u001b[38;5;28;01mNone\u001b[39;00m\n\u001b[32m    755\u001b[39m \u001b[38;5;66;03m# Ignore the response's request id.\u001b[39;00m\n\u001b[32m--> \u001b[39m\u001b[32m756\u001b[39m length, _, response_to, op_code = _UNPACK_HEADER(\u001b[43mreceive_data\u001b[49m\u001b[43m(\u001b[49m\u001b[43mconn\u001b[49m\u001b[43m,\u001b[49m\u001b[43m \u001b[49m\u001b[32;43m16\u001b[39;49m\u001b[43m,\u001b[49m\u001b[43m \u001b[49m\u001b[43mdeadline\u001b[49m\u001b[43m)\u001b[49m)\n\u001b[32m    757\u001b[39m \u001b[38;5;66;03m# No request_id for exhaust cursor \"getMore\".\u001b[39;00m\n\u001b[32m    758\u001b[39m \u001b[38;5;28;01mif\u001b[39;00m request_id \u001b[38;5;129;01mis\u001b[39;00m \u001b[38;5;129;01mnot\u001b[39;00m \u001b[38;5;28;01mNone\u001b[39;00m:\n",
            "\u001b[36mFile \u001b[39m\u001b[32mc:\\Users\\Bruno\\AppData\\Local\\Programs\\Python\\Python311\\Lib\\site-packages\\pymongo\\network_layer.py:358\u001b[39m, in \u001b[36mreceive_data\u001b[39m\u001b[34m(conn, length, deadline)\u001b[39m\n\u001b[32m    356\u001b[39m     \u001b[38;5;28;01mraise\u001b[39;00m socket.timeout(\u001b[33m\"\u001b[39m\u001b[33mtimed out\u001b[39m\u001b[33m\"\u001b[39m) \u001b[38;5;28;01mfrom\u001b[39;00m\u001b[38;5;250m \u001b[39m\u001b[38;5;28;01mNone\u001b[39;00m\n\u001b[32m    357\u001b[39m \u001b[38;5;28;01mexcept\u001b[39;00m socket.timeout:\n\u001b[32m--> \u001b[39m\u001b[32m358\u001b[39m     \u001b[38;5;28;01mif\u001b[39;00m \u001b[43mconn\u001b[49m\u001b[43m.\u001b[49m\u001b[43mcancel_context\u001b[49m\u001b[43m.\u001b[49m\u001b[43mcancelled\u001b[49m:\n\u001b[32m    359\u001b[39m         \u001b[38;5;28;01mraise\u001b[39;00m _OperationCancelled(\u001b[33m\"\u001b[39m\u001b[33moperation cancelled\u001b[39m\u001b[33m\"\u001b[39m) \u001b[38;5;28;01mfrom\u001b[39;00m\u001b[38;5;250m \u001b[39m\u001b[38;5;28;01mNone\u001b[39;00m\n\u001b[32m    360\u001b[39m     \u001b[38;5;28;01mif\u001b[39;00m (\n\u001b[32m    361\u001b[39m         _PYPY\n\u001b[32m    362\u001b[39m         \u001b[38;5;129;01mor\u001b[39;00m \u001b[38;5;129;01mnot\u001b[39;00m conn.is_sdam\n\u001b[32m   (...)\u001b[39m\u001b[32m    365\u001b[39m     ):\n\u001b[32m    366\u001b[39m         \u001b[38;5;66;03m# We reached the true deadline.\u001b[39;00m\n",
            "\u001b[36mFile \u001b[39m\u001b[32mc:\\Users\\Bruno\\AppData\\Local\\Programs\\Python\\Python311\\Lib\\site-packages\\pymongo\\pool_shared.py:186\u001b[39m, in \u001b[36m_CancellationContext.cancelled\u001b[39m\u001b[34m(self)\u001b[39m\n\u001b[32m    183\u001b[39m \u001b[38;5;250m    \u001b[39m\u001b[33;03m\"\"\"Cancel this context.\"\"\"\u001b[39;00m\n\u001b[32m    184\u001b[39m     \u001b[38;5;28mself\u001b[39m._cancelled = \u001b[38;5;28;01mTrue\u001b[39;00m\n\u001b[32m--> \u001b[39m\u001b[32m186\u001b[39m \u001b[38;5;129m@property\u001b[39m\n\u001b[32m    187\u001b[39m \u001b[38;5;28;01mdef\u001b[39;00m\u001b[38;5;250m \u001b[39m\u001b[34mcancelled\u001b[39m(\u001b[38;5;28mself\u001b[39m) -> \u001b[38;5;28mbool\u001b[39m:\n\u001b[32m    188\u001b[39m \u001b[38;5;250m    \u001b[39m\u001b[33;03m\"\"\"Was cancel called?\"\"\"\u001b[39;00m\n\u001b[32m    189\u001b[39m     \u001b[38;5;28;01mreturn\u001b[39;00m \u001b[38;5;28mself\u001b[39m._cancelled\n",
            "\u001b[31mKeyboardInterrupt\u001b[39m: "
          ]
        },
        {
          "ename": "",
          "evalue": "",
          "output_type": "error",
          "traceback": [
            "\u001b[1;31mThe Kernel crashed while executing code in the current cell or a previous cell. \n",
            "\u001b[1;31mPlease review the code in the cell(s) to identify a possible cause of the failure. \n",
            "\u001b[1;31mClick <a href='https://aka.ms/vscodeJupyterKernelCrash'>here</a> for more info. \n",
            "\u001b[1;31mView Jupyter <a href='command:jupyter.viewOutput'>log</a> for further details."
          ]
        }
      ],
      "source": [
        "import json\n",
        "from tqdm import tqdm # Para mostrar una barra de progreso\n",
        "\n",
        "# Cargar y procesar el archivo JSON\n",
        "print(\"Iniciando carga de datos a MongoDB...\")\n",
        "\n",
        "# Carga por lotes de 1000 en 1000\n",
        "def load_data_batch(batch_size=1000):\n",
        "    batch = []\n",
        "    total_docs = 0\n",
        "    \n",
        "    # Primero contamos las lineas para la barra de progreso\n",
        "    with open('arxiv-metadata-oai-snapshot.json', 'r', encoding='utf-8') as f:\n",
        "        total_lines = sum(1 for _ in f)\n",
        "    \n",
        "    # Insertamos los datos en el batch\n",
        "    with open('arxiv-metadata-oai-snapshot.json', 'r', encoding='utf-8') as f:\n",
        "        for line in tqdm(f, total=total_lines, desc=\"Cargando datos\"):\n",
        "            batch.append(json.loads(line)) # Parseamos la linea a un JSON\n",
        "            \n",
        "            # Si el batch excede el maximo, lo vaciamos e insertamos los datos en la BD\n",
        "            if len(batch) >= batch_size:\n",
        "                collection.insert_many(batch)\n",
        "                total_docs += len(batch)\n",
        "                batch = []\n",
        "        \n",
        "        # Insertar el ultimo lote, en caso de que el ultimo lote sean menos de 1000\n",
        "        if batch:\n",
        "            collection.insert_many(batch)\n",
        "            total_docs += len(batch)\n",
        "    \n",
        "    print(f\"\\nTotal de documentos insertados: {total_docs}\")\n",
        "\n",
        "load_data_batch() # Llamamos la funcion creada anteriormente\n",
        "\n",
        "# 3. Verificacion final\n",
        "print(\"\\nResumen de la base de datos:\")\n",
        "print(f\"- Colección: {collection.name}\")\n",
        "print(f\"- Documentos totales: {collection.count_documents({})}\")\n",
        "print(f\"- Ejemplo de documento: {collection.find_one()}\")\n"
      ]
    }
  ],
  "metadata": {
    "colab": {
      "provenance": []
    },
    "kernelspec": {
      "display_name": "Python 3",
      "name": "python3"
    },
    "language_info": {
      "codemirror_mode": {
        "name": "ipython",
        "version": 3
      },
      "file_extension": ".py",
      "mimetype": "text/x-python",
      "name": "python",
      "nbconvert_exporter": "python",
      "pygments_lexer": "ipython3",
      "version": "3.11.4"
    }
  },
  "nbformat": 4,
  "nbformat_minor": 0
}
