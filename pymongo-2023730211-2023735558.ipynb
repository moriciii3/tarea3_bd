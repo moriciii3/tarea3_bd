{
  "cells": [
    {
      "cell_type": "markdown",
      "metadata": {},
      "source": [
        "# Tarea 3 MongoDB, arXiv\n",
        "##### Integrantes:\n",
        "Bruno Morici, ROL: 202373555-8,\n",
        "Martin Aranda, ROL: 202373021-1"
      ]
    },
    {
      "cell_type": "markdown",
      "metadata": {
        "id": "OLP_JWcpkpxb"
      },
      "source": [
        "## Primera Etapa\n",
        "Instalación de dependencias"
      ]
    },
    {
      "cell_type": "code",
      "execution_count": 2,
      "metadata": {
        "colab": {
          "base_uri": "https://localhost:8080/"
        },
        "id": "CjQ3LC2IKV5T",
        "outputId": "49b89894-2894-495c-8130-73fbc4804ab7"
      },
      "outputs": [
        {
          "name": "stdout",
          "output_type": "stream",
          "text": [
            "Requirement already satisfied: pymongo in c:\\users\\bruno\\appdata\\local\\packages\\pythonsoftwarefoundation.python.3.10_qbz5n2kfra8p0\\localcache\\local-packages\\python310\\site-packages (4.13.0)\n",
            "Requirement already satisfied: dnspython<3.0.0,>=1.16.0 in c:\\users\\bruno\\appdata\\local\\packages\\pythonsoftwarefoundation.python.3.10_qbz5n2kfra8p0\\localcache\\local-packages\\python310\\site-packages (from pymongo) (2.7.0)\n"
          ]
        },
        {
          "name": "stderr",
          "output_type": "stream",
          "text": [
            "\n",
            "[notice] A new release of pip is available: 23.2.1 -> 25.1.1\n",
            "[notice] To update, run: C:\\Users\\Bruno\\AppData\\Local\\Microsoft\\WindowsApps\\PythonSoftwareFoundation.Python.3.10_qbz5n2kfra8p0\\python.exe -m pip install --upgrade pip\n"
          ]
        },
        {
          "name": "stdout",
          "output_type": "stream",
          "text": [
            "Requirement already satisfied: tqdm in c:\\users\\bruno\\appdata\\local\\packages\\pythonsoftwarefoundation.python.3.10_qbz5n2kfra8p0\\localcache\\local-packages\\python310\\site-packages (4.65.0)\n",
            "Requirement already satisfied: colorama in c:\\users\\bruno\\appdata\\local\\packages\\pythonsoftwarefoundation.python.3.10_qbz5n2kfra8p0\\localcache\\local-packages\\python310\\site-packages (from tqdm) (0.4.6)\n"
          ]
        },
        {
          "name": "stderr",
          "output_type": "stream",
          "text": [
            "\n",
            "[notice] A new release of pip is available: 23.2.1 -> 25.1.1\n",
            "[notice] To update, run: C:\\Users\\Bruno\\AppData\\Local\\Microsoft\\WindowsApps\\PythonSoftwareFoundation.Python.3.10_qbz5n2kfra8p0\\python.exe -m pip install --upgrade pip\n",
            "ERROR: Could not find a version that satisfies the requirement json (from versions: none)\n",
            "ERROR: No matching distribution found for json\n",
            "\n",
            "[notice] A new release of pip is available: 23.2.1 -> 25.1.1\n",
            "[notice] To update, run: C:\\Users\\Bruno\\AppData\\Local\\Microsoft\\WindowsApps\\PythonSoftwareFoundation.Python.3.10_qbz5n2kfra8p0\\python.exe -m pip install --upgrade pip\n"
          ]
        }
      ],
      "source": [
        "# Instalamos dependencias\n",
        "!pip install pymongo\n",
        "!pip install tqdm\n",
        "!pip install json"
      ]
    },
    {
      "cell_type": "code",
      "execution_count": 3,
      "metadata": {},
      "outputs": [],
      "source": [
        "import json\n",
        "from pymongo import MongoClient\n",
        "from tqdm import tqdm"
      ]
    },
    {
      "cell_type": "markdown",
      "metadata": {},
      "source": [
        "## Segunda Etapa\n",
        "Conexión a la BD \"arxiv_db\" y creación de colección \"articles\""
      ]
    },
    {
      "cell_type": "code",
      "execution_count": 26,
      "metadata": {},
      "outputs": [
        {
          "name": "stdout",
          "output_type": "stream",
          "text": [
            "✅ Conexión exitosa\n"
          ]
        }
      ],
      "source": [
        "# Conexión a Replica Set con preferencia al primario\n",
        "client = MongoClient(\"mongodb://mongo1:30001,mongo2:30002,mongo3:30003/?replicaSet=my-replica-set&readPreference=primary&appname=MongoDB%20Compass&ssl=false\")\n",
        "\n",
        "db = client[\"arxiv_db\"]\n",
        "collection = db[\"articles\"]\n",
        "\n",
        "try:\n",
        "    print(\"✅ Conexión exitosa\")\n",
        "except Exception as e:\n",
        "    print(f\"❌ Error de conexión: {e}\")"
      ]
    },
    {
      "cell_type": "markdown",
      "metadata": {},
      "source": [
        "## Tercera Etapa\n",
        "Procesamiento del dataset hacia la BD (ejecutar una sola vez, luego los datos quedan en la BD)"
      ]
    },
    {
      "cell_type": "markdown",
      "metadata": {},
      "source": [
        "Observación: El dataset tiene un JSON en cada línea, no es una lista de JSON's. Recorremos cada JSON, lo parseamos y guardamos en una lista de data (demora unos 6 minutos)"
      ]
    },
    {
      "cell_type": "code",
      "execution_count": 27,
      "metadata": {},
      "outputs": [],
      "source": [
        "# === Configuración ===\n",
        "json_file_path = \"uarxiv-202730211-2023735558.json\"\n",
        "batch_size = 2000\n",
        "max_workers = 4  # Ajusta según tu CPU y MongoDB"
      ]
    },
    {
      "cell_type": "code",
      "execution_count": 8,
      "metadata": {},
      "outputs": [],
      "source": [
        "# === Función para insertar lote ===\n",
        "def insert_batch(batch):\n",
        "    try:\n",
        "        collection.insert_many(batch, ordered=False)\n",
        "    except Exception as e:\n",
        "        print(\"Error al insertar batch:\", e)"
      ]
    },
    {
      "cell_type": "code",
      "execution_count": 9,
      "metadata": {},
      "outputs": [],
      "source": [
        "# === Contar líneas para tqdm ===\n",
        "def count_lines(filepath):\n",
        "    with open(filepath, 'r', encoding='utf-8') as f:\n",
        "        return sum(1 for _ in f)\n",
        "\n",
        "total_lines = count_lines(json_file_path)"
      ]
    },
    {
      "cell_type": "code",
      "execution_count": 28,
      "metadata": {
        "colab": {
          "base_uri": "https://localhost:8080/",
          "height": 356
        },
        "id": "GU00dCWikwRA",
        "outputId": "7a5a8ae0-4d89-4ede-9fe9-3383a567aca6"
      },
      "outputs": [
        {
          "name": "stdout",
          "output_type": "stream",
          "text": [
            "Iniciando carga de datos a MongoDB...\n"
          ]
        },
        {
          "name": "stderr",
          "output_type": "stream",
          "text": [
            "Cargando datos:   1%|          | 29999/2744489 [00:07<11:40, 3876.90it/s]\n"
          ]
        },
        {
          "ename": "KeyboardInterrupt",
          "evalue": "",
          "output_type": "error",
          "traceback": [
            "\u001b[1;31m---------------------------------------------------------------------------\u001b[0m",
            "\u001b[1;31mKeyboardInterrupt\u001b[0m                         Traceback (most recent call last)",
            "Cell \u001b[1;32mIn[28], line 36\u001b[0m\n\u001b[0;32m     32\u001b[0m             total_docs \u001b[38;5;241m+\u001b[39m\u001b[38;5;241m=\u001b[39m \u001b[38;5;28mlen\u001b[39m(batch)\n\u001b[0;32m     34\u001b[0m     \u001b[38;5;28mprint\u001b[39m(\u001b[38;5;124mf\u001b[39m\u001b[38;5;124m\"\u001b[39m\u001b[38;5;130;01m\\n\u001b[39;00m\u001b[38;5;124mTotal de documentos insertados: \u001b[39m\u001b[38;5;132;01m{\u001b[39;00mtotal_docs\u001b[38;5;132;01m}\u001b[39;00m\u001b[38;5;124m\"\u001b[39m)\n\u001b[1;32m---> 36\u001b[0m \u001b[43mload_data_batch\u001b[49m\u001b[43m(\u001b[49m\u001b[43m)\u001b[49m \u001b[38;5;66;03m# Llamamos la funcion creada anteriormente\u001b[39;00m\n\u001b[0;32m     38\u001b[0m \u001b[38;5;66;03m# 3. Verificacion final\u001b[39;00m\n\u001b[0;32m     39\u001b[0m \u001b[38;5;28mprint\u001b[39m(\u001b[38;5;124m\"\u001b[39m\u001b[38;5;130;01m\\n\u001b[39;00m\u001b[38;5;124mResumen de la base de datos:\u001b[39m\u001b[38;5;124m\"\u001b[39m)\n",
            "Cell \u001b[1;32mIn[28], line 25\u001b[0m, in \u001b[0;36mload_data_batch\u001b[1;34m(batch_size)\u001b[0m\n\u001b[0;32m     23\u001b[0m \u001b[38;5;66;03m# Si el batch excede el maximo, lo vaciamos e insertamos los datos en la BD\u001b[39;00m\n\u001b[0;32m     24\u001b[0m \u001b[38;5;28;01mif\u001b[39;00m \u001b[38;5;28mlen\u001b[39m(batch) \u001b[38;5;241m>\u001b[39m\u001b[38;5;241m=\u001b[39m batch_size:\n\u001b[1;32m---> 25\u001b[0m     \u001b[43mcollection\u001b[49m\u001b[38;5;241;43m.\u001b[39;49m\u001b[43minsert_many\u001b[49m\u001b[43m(\u001b[49m\u001b[43mbatch\u001b[49m\u001b[43m)\u001b[49m\n\u001b[0;32m     26\u001b[0m     total_docs \u001b[38;5;241m+\u001b[39m\u001b[38;5;241m=\u001b[39m \u001b[38;5;28mlen\u001b[39m(batch)\n\u001b[0;32m     27\u001b[0m     batch \u001b[38;5;241m=\u001b[39m []\n",
            "File \u001b[1;32m~\\AppData\\Local\\Packages\\PythonSoftwareFoundation.Python.3.10_qbz5n2kfra8p0\\LocalCache\\local-packages\\Python310\\site-packages\\pymongo\\_csot.py:119\u001b[0m, in \u001b[0;36mapply.<locals>.csot_wrapper\u001b[1;34m(self, *args, **kwargs)\u001b[0m\n\u001b[0;32m    117\u001b[0m         \u001b[38;5;28;01mwith\u001b[39;00m _TimeoutContext(timeout):\n\u001b[0;32m    118\u001b[0m             \u001b[38;5;28;01mreturn\u001b[39;00m func(\u001b[38;5;28mself\u001b[39m, \u001b[38;5;241m*\u001b[39margs, \u001b[38;5;241m*\u001b[39m\u001b[38;5;241m*\u001b[39mkwargs)\n\u001b[1;32m--> 119\u001b[0m \u001b[38;5;28;01mreturn\u001b[39;00m func(\u001b[38;5;28mself\u001b[39m, \u001b[38;5;241m*\u001b[39margs, \u001b[38;5;241m*\u001b[39m\u001b[38;5;241m*\u001b[39mkwargs)\n",
            "File \u001b[1;32m~\\AppData\\Local\\Packages\\PythonSoftwareFoundation.Python.3.10_qbz5n2kfra8p0\\LocalCache\\local-packages\\Python310\\site-packages\\pymongo\\synchronous\\collection.py:975\u001b[0m, in \u001b[0;36mCollection.insert_many\u001b[1;34m(self, documents, ordered, bypass_document_validation, session, comment)\u001b[0m\n\u001b[0;32m    973\u001b[0m blk \u001b[38;5;241m=\u001b[39m _Bulk(\u001b[38;5;28mself\u001b[39m, ordered, bypass_document_validation, comment\u001b[38;5;241m=\u001b[39mcomment)\n\u001b[0;32m    974\u001b[0m blk\u001b[38;5;241m.\u001b[39mops \u001b[38;5;241m=\u001b[39m \u001b[38;5;28mlist\u001b[39m(gen())\n\u001b[1;32m--> 975\u001b[0m \u001b[43mblk\u001b[49m\u001b[38;5;241;43m.\u001b[39;49m\u001b[43mexecute\u001b[49m\u001b[43m(\u001b[49m\u001b[43mwrite_concern\u001b[49m\u001b[43m,\u001b[49m\u001b[43m \u001b[49m\u001b[43msession\u001b[49m\u001b[43m,\u001b[49m\u001b[43m \u001b[49m\u001b[43m_Op\u001b[49m\u001b[38;5;241;43m.\u001b[39;49m\u001b[43mINSERT\u001b[49m\u001b[43m)\u001b[49m\n\u001b[0;32m    976\u001b[0m \u001b[38;5;28;01mreturn\u001b[39;00m InsertManyResult(inserted_ids, write_concern\u001b[38;5;241m.\u001b[39macknowledged)\n",
            "File \u001b[1;32m~\\AppData\\Local\\Packages\\PythonSoftwareFoundation.Python.3.10_qbz5n2kfra8p0\\LocalCache\\local-packages\\Python310\\site-packages\\pymongo\\synchronous\\bulk.py:751\u001b[0m, in \u001b[0;36m_Bulk.execute\u001b[1;34m(self, write_concern, session, operation)\u001b[0m\n\u001b[0;32m    749\u001b[0m         \u001b[38;5;28;01mreturn\u001b[39;00m \u001b[38;5;28;01mNone\u001b[39;00m\n\u001b[0;32m    750\u001b[0m \u001b[38;5;28;01melse\u001b[39;00m:\n\u001b[1;32m--> 751\u001b[0m     \u001b[38;5;28;01mreturn\u001b[39;00m \u001b[38;5;28;43mself\u001b[39;49m\u001b[38;5;241;43m.\u001b[39;49m\u001b[43mexecute_command\u001b[49m\u001b[43m(\u001b[49m\u001b[43mgenerator\u001b[49m\u001b[43m,\u001b[49m\u001b[43m \u001b[49m\u001b[43mwrite_concern\u001b[49m\u001b[43m,\u001b[49m\u001b[43m \u001b[49m\u001b[43msession\u001b[49m\u001b[43m,\u001b[49m\u001b[43m \u001b[49m\u001b[43moperation\u001b[49m\u001b[43m)\u001b[49m\n",
            "File \u001b[1;32m~\\AppData\\Local\\Packages\\PythonSoftwareFoundation.Python.3.10_qbz5n2kfra8p0\\LocalCache\\local-packages\\Python310\\site-packages\\pymongo\\synchronous\\bulk.py:604\u001b[0m, in \u001b[0;36m_Bulk.execute_command\u001b[1;34m(self, generator, write_concern, session, operation)\u001b[0m\n\u001b[0;32m    593\u001b[0m     \u001b[38;5;28mself\u001b[39m\u001b[38;5;241m.\u001b[39m_execute_command(\n\u001b[0;32m    594\u001b[0m         generator,\n\u001b[0;32m    595\u001b[0m         write_concern,\n\u001b[1;32m   (...)\u001b[0m\n\u001b[0;32m    600\u001b[0m         full_result,\n\u001b[0;32m    601\u001b[0m     )\n\u001b[0;32m    603\u001b[0m client \u001b[38;5;241m=\u001b[39m \u001b[38;5;28mself\u001b[39m\u001b[38;5;241m.\u001b[39mcollection\u001b[38;5;241m.\u001b[39mdatabase\u001b[38;5;241m.\u001b[39mclient\n\u001b[1;32m--> 604\u001b[0m _ \u001b[38;5;241m=\u001b[39m \u001b[43mclient\u001b[49m\u001b[38;5;241;43m.\u001b[39;49m\u001b[43m_retryable_write\u001b[49m\u001b[43m(\u001b[49m\n\u001b[0;32m    605\u001b[0m \u001b[43m    \u001b[49m\u001b[38;5;28;43mself\u001b[39;49m\u001b[38;5;241;43m.\u001b[39;49m\u001b[43mis_retryable\u001b[49m\u001b[43m,\u001b[49m\n\u001b[0;32m    606\u001b[0m \u001b[43m    \u001b[49m\u001b[43mretryable_bulk\u001b[49m\u001b[43m,\u001b[49m\n\u001b[0;32m    607\u001b[0m \u001b[43m    \u001b[49m\u001b[43msession\u001b[49m\u001b[43m,\u001b[49m\n\u001b[0;32m    608\u001b[0m \u001b[43m    \u001b[49m\u001b[43moperation\u001b[49m\u001b[43m,\u001b[49m\n\u001b[0;32m    609\u001b[0m \u001b[43m    \u001b[49m\u001b[43mbulk\u001b[49m\u001b[38;5;241;43m=\u001b[39;49m\u001b[38;5;28;43mself\u001b[39;49m\u001b[43m,\u001b[49m\u001b[43m  \u001b[49m\u001b[38;5;66;43;03m# type: ignore[arg-type]\u001b[39;49;00m\n\u001b[0;32m    610\u001b[0m \u001b[43m    \u001b[49m\u001b[43moperation_id\u001b[49m\u001b[38;5;241;43m=\u001b[39;49m\u001b[43mop_id\u001b[49m\u001b[43m,\u001b[49m\n\u001b[0;32m    611\u001b[0m \u001b[43m\u001b[49m\u001b[43m)\u001b[49m\n\u001b[0;32m    613\u001b[0m \u001b[38;5;28;01mif\u001b[39;00m full_result[\u001b[38;5;124m\"\u001b[39m\u001b[38;5;124mwriteErrors\u001b[39m\u001b[38;5;124m\"\u001b[39m] \u001b[38;5;129;01mor\u001b[39;00m full_result[\u001b[38;5;124m\"\u001b[39m\u001b[38;5;124mwriteConcernErrors\u001b[39m\u001b[38;5;124m\"\u001b[39m]:\n\u001b[0;32m    614\u001b[0m     _raise_bulk_write_error(full_result)\n",
            "File \u001b[1;32m~\\AppData\\Local\\Packages\\PythonSoftwareFoundation.Python.3.10_qbz5n2kfra8p0\\LocalCache\\local-packages\\Python310\\site-packages\\pymongo\\synchronous\\mongo_client.py:2061\u001b[0m, in \u001b[0;36mMongoClient._retryable_write\u001b[1;34m(self, retryable, func, session, operation, bulk, operation_id)\u001b[0m\n\u001b[0;32m   2047\u001b[0m \u001b[38;5;250m\u001b[39m\u001b[38;5;124;03m\"\"\"Execute an operation with consecutive retries if possible\u001b[39;00m\n\u001b[0;32m   2048\u001b[0m \n\u001b[0;32m   2049\u001b[0m \u001b[38;5;124;03mReturns func()'s return value on success. On error retries the same\u001b[39;00m\n\u001b[1;32m   (...)\u001b[0m\n\u001b[0;32m   2058\u001b[0m \u001b[38;5;124;03m:param bulk: bulk abstraction to execute operations in bulk, defaults to None\u001b[39;00m\n\u001b[0;32m   2059\u001b[0m \u001b[38;5;124;03m\"\"\"\u001b[39;00m\n\u001b[0;32m   2060\u001b[0m \u001b[38;5;28;01mwith\u001b[39;00m \u001b[38;5;28mself\u001b[39m\u001b[38;5;241m.\u001b[39m_tmp_session(session) \u001b[38;5;28;01mas\u001b[39;00m s:\n\u001b[1;32m-> 2061\u001b[0m     \u001b[38;5;28;01mreturn\u001b[39;00m \u001b[38;5;28;43mself\u001b[39;49m\u001b[38;5;241;43m.\u001b[39;49m\u001b[43m_retry_with_session\u001b[49m\u001b[43m(\u001b[49m\u001b[43mretryable\u001b[49m\u001b[43m,\u001b[49m\u001b[43m \u001b[49m\u001b[43mfunc\u001b[49m\u001b[43m,\u001b[49m\u001b[43m \u001b[49m\u001b[43ms\u001b[49m\u001b[43m,\u001b[49m\u001b[43m \u001b[49m\u001b[43mbulk\u001b[49m\u001b[43m,\u001b[49m\u001b[43m \u001b[49m\u001b[43moperation\u001b[49m\u001b[43m,\u001b[49m\u001b[43m \u001b[49m\u001b[43moperation_id\u001b[49m\u001b[43m)\u001b[49m\n",
            "File \u001b[1;32m~\\AppData\\Local\\Packages\\PythonSoftwareFoundation.Python.3.10_qbz5n2kfra8p0\\LocalCache\\local-packages\\Python310\\site-packages\\pymongo\\synchronous\\mongo_client.py:1947\u001b[0m, in \u001b[0;36mMongoClient._retry_with_session\u001b[1;34m(self, retryable, func, session, bulk, operation, operation_id)\u001b[0m\n\u001b[0;32m   1942\u001b[0m \u001b[38;5;66;03m# Ensure that the options supports retry_writes and there is a valid session not in\u001b[39;00m\n\u001b[0;32m   1943\u001b[0m \u001b[38;5;66;03m# transaction, otherwise, we will not support retry behavior for this txn.\u001b[39;00m\n\u001b[0;32m   1944\u001b[0m retryable \u001b[38;5;241m=\u001b[39m \u001b[38;5;28mbool\u001b[39m(\n\u001b[0;32m   1945\u001b[0m     retryable \u001b[38;5;129;01mand\u001b[39;00m \u001b[38;5;28mself\u001b[39m\u001b[38;5;241m.\u001b[39moptions\u001b[38;5;241m.\u001b[39mretry_writes \u001b[38;5;129;01mand\u001b[39;00m session \u001b[38;5;129;01mand\u001b[39;00m \u001b[38;5;129;01mnot\u001b[39;00m session\u001b[38;5;241m.\u001b[39min_transaction\n\u001b[0;32m   1946\u001b[0m )\n\u001b[1;32m-> 1947\u001b[0m \u001b[38;5;28;01mreturn\u001b[39;00m \u001b[38;5;28;43mself\u001b[39;49m\u001b[38;5;241;43m.\u001b[39;49m\u001b[43m_retry_internal\u001b[49m\u001b[43m(\u001b[49m\n\u001b[0;32m   1948\u001b[0m \u001b[43m    \u001b[49m\u001b[43mfunc\u001b[49m\u001b[38;5;241;43m=\u001b[39;49m\u001b[43mfunc\u001b[49m\u001b[43m,\u001b[49m\n\u001b[0;32m   1949\u001b[0m \u001b[43m    \u001b[49m\u001b[43msession\u001b[49m\u001b[38;5;241;43m=\u001b[39;49m\u001b[43msession\u001b[49m\u001b[43m,\u001b[49m\n\u001b[0;32m   1950\u001b[0m \u001b[43m    \u001b[49m\u001b[43mbulk\u001b[49m\u001b[38;5;241;43m=\u001b[39;49m\u001b[43mbulk\u001b[49m\u001b[43m,\u001b[49m\n\u001b[0;32m   1951\u001b[0m \u001b[43m    \u001b[49m\u001b[43moperation\u001b[49m\u001b[38;5;241;43m=\u001b[39;49m\u001b[43moperation\u001b[49m\u001b[43m,\u001b[49m\n\u001b[0;32m   1952\u001b[0m \u001b[43m    \u001b[49m\u001b[43mretryable\u001b[49m\u001b[38;5;241;43m=\u001b[39;49m\u001b[43mretryable\u001b[49m\u001b[43m,\u001b[49m\n\u001b[0;32m   1953\u001b[0m \u001b[43m    \u001b[49m\u001b[43moperation_id\u001b[49m\u001b[38;5;241;43m=\u001b[39;49m\u001b[43moperation_id\u001b[49m\u001b[43m,\u001b[49m\n\u001b[0;32m   1954\u001b[0m \u001b[43m\u001b[49m\u001b[43m)\u001b[49m\n",
            "File \u001b[1;32m~\\AppData\\Local\\Packages\\PythonSoftwareFoundation.Python.3.10_qbz5n2kfra8p0\\LocalCache\\local-packages\\Python310\\site-packages\\pymongo\\_csot.py:119\u001b[0m, in \u001b[0;36mapply.<locals>.csot_wrapper\u001b[1;34m(self, *args, **kwargs)\u001b[0m\n\u001b[0;32m    117\u001b[0m         \u001b[38;5;28;01mwith\u001b[39;00m _TimeoutContext(timeout):\n\u001b[0;32m    118\u001b[0m             \u001b[38;5;28;01mreturn\u001b[39;00m func(\u001b[38;5;28mself\u001b[39m, \u001b[38;5;241m*\u001b[39margs, \u001b[38;5;241m*\u001b[39m\u001b[38;5;241m*\u001b[39mkwargs)\n\u001b[1;32m--> 119\u001b[0m \u001b[38;5;28;01mreturn\u001b[39;00m func(\u001b[38;5;28mself\u001b[39m, \u001b[38;5;241m*\u001b[39margs, \u001b[38;5;241m*\u001b[39m\u001b[38;5;241m*\u001b[39mkwargs)\n",
            "File \u001b[1;32m~\\AppData\\Local\\Packages\\PythonSoftwareFoundation.Python.3.10_qbz5n2kfra8p0\\LocalCache\\local-packages\\Python310\\site-packages\\pymongo\\synchronous\\mongo_client.py:1993\u001b[0m, in \u001b[0;36mMongoClient._retry_internal\u001b[1;34m(self, func, session, bulk, operation, is_read, address, read_pref, retryable, operation_id)\u001b[0m\n\u001b[0;32m   1956\u001b[0m \u001b[38;5;129m@_csot\u001b[39m\u001b[38;5;241m.\u001b[39mapply\n\u001b[0;32m   1957\u001b[0m \u001b[38;5;28;01mdef\u001b[39;00m\u001b[38;5;250m \u001b[39m\u001b[38;5;21m_retry_internal\u001b[39m(\n\u001b[0;32m   1958\u001b[0m     \u001b[38;5;28mself\u001b[39m,\n\u001b[1;32m   (...)\u001b[0m\n\u001b[0;32m   1967\u001b[0m     operation_id: Optional[\u001b[38;5;28mint\u001b[39m] \u001b[38;5;241m=\u001b[39m \u001b[38;5;28;01mNone\u001b[39;00m,\n\u001b[0;32m   1968\u001b[0m ) \u001b[38;5;241m-\u001b[39m\u001b[38;5;241m>\u001b[39m T:\n\u001b[0;32m   1969\u001b[0m \u001b[38;5;250m    \u001b[39m\u001b[38;5;124;03m\"\"\"Internal retryable helper for all client transactions.\u001b[39;00m\n\u001b[0;32m   1970\u001b[0m \n\u001b[0;32m   1971\u001b[0m \u001b[38;5;124;03m    :param func: Callback function we want to retry\u001b[39;00m\n\u001b[1;32m   (...)\u001b[0m\n\u001b[0;32m   1980\u001b[0m \u001b[38;5;124;03m    :return: Output of the calling func()\u001b[39;00m\n\u001b[0;32m   1981\u001b[0m \u001b[38;5;124;03m    \"\"\"\u001b[39;00m\n\u001b[0;32m   1982\u001b[0m     \u001b[38;5;28;01mreturn\u001b[39;00m \u001b[43m_ClientConnectionRetryable\u001b[49m\u001b[43m(\u001b[49m\n\u001b[0;32m   1983\u001b[0m \u001b[43m        \u001b[49m\u001b[43mmongo_client\u001b[49m\u001b[38;5;241;43m=\u001b[39;49m\u001b[38;5;28;43mself\u001b[39;49m\u001b[43m,\u001b[49m\n\u001b[0;32m   1984\u001b[0m \u001b[43m        \u001b[49m\u001b[43mfunc\u001b[49m\u001b[38;5;241;43m=\u001b[39;49m\u001b[43mfunc\u001b[49m\u001b[43m,\u001b[49m\n\u001b[0;32m   1985\u001b[0m \u001b[43m        \u001b[49m\u001b[43mbulk\u001b[49m\u001b[38;5;241;43m=\u001b[39;49m\u001b[43mbulk\u001b[49m\u001b[43m,\u001b[49m\n\u001b[0;32m   1986\u001b[0m \u001b[43m        \u001b[49m\u001b[43moperation\u001b[49m\u001b[38;5;241;43m=\u001b[39;49m\u001b[43moperation\u001b[49m\u001b[43m,\u001b[49m\n\u001b[0;32m   1987\u001b[0m \u001b[43m        \u001b[49m\u001b[43mis_read\u001b[49m\u001b[38;5;241;43m=\u001b[39;49m\u001b[43mis_read\u001b[49m\u001b[43m,\u001b[49m\n\u001b[0;32m   1988\u001b[0m \u001b[43m        \u001b[49m\u001b[43msession\u001b[49m\u001b[38;5;241;43m=\u001b[39;49m\u001b[43msession\u001b[49m\u001b[43m,\u001b[49m\n\u001b[0;32m   1989\u001b[0m \u001b[43m        \u001b[49m\u001b[43mread_pref\u001b[49m\u001b[38;5;241;43m=\u001b[39;49m\u001b[43mread_pref\u001b[49m\u001b[43m,\u001b[49m\n\u001b[0;32m   1990\u001b[0m \u001b[43m        \u001b[49m\u001b[43maddress\u001b[49m\u001b[38;5;241;43m=\u001b[39;49m\u001b[43maddress\u001b[49m\u001b[43m,\u001b[49m\n\u001b[0;32m   1991\u001b[0m \u001b[43m        \u001b[49m\u001b[43mretryable\u001b[49m\u001b[38;5;241;43m=\u001b[39;49m\u001b[43mretryable\u001b[49m\u001b[43m,\u001b[49m\n\u001b[0;32m   1992\u001b[0m \u001b[43m        \u001b[49m\u001b[43moperation_id\u001b[49m\u001b[38;5;241;43m=\u001b[39;49m\u001b[43moperation_id\u001b[49m\u001b[43m,\u001b[49m\n\u001b[1;32m-> 1993\u001b[0m \u001b[43m    \u001b[49m\u001b[43m)\u001b[49m\u001b[38;5;241;43m.\u001b[39;49m\u001b[43mrun\u001b[49m\u001b[43m(\u001b[49m\u001b[43m)\u001b[49m\n",
            "File \u001b[1;32m~\\AppData\\Local\\Packages\\PythonSoftwareFoundation.Python.3.10_qbz5n2kfra8p0\\LocalCache\\local-packages\\Python310\\site-packages\\pymongo\\synchronous\\mongo_client.py:2730\u001b[0m, in \u001b[0;36m_ClientConnectionRetryable.run\u001b[1;34m(self)\u001b[0m\n\u001b[0;32m   2728\u001b[0m \u001b[38;5;28mself\u001b[39m\u001b[38;5;241m.\u001b[39m_check_last_error(check_csot\u001b[38;5;241m=\u001b[39m\u001b[38;5;28;01mTrue\u001b[39;00m)\n\u001b[0;32m   2729\u001b[0m \u001b[38;5;28;01mtry\u001b[39;00m:\n\u001b[1;32m-> 2730\u001b[0m     \u001b[38;5;28;01mreturn\u001b[39;00m \u001b[38;5;28mself\u001b[39m\u001b[38;5;241m.\u001b[39m_read() \u001b[38;5;28;01mif\u001b[39;00m \u001b[38;5;28mself\u001b[39m\u001b[38;5;241m.\u001b[39m_is_read \u001b[38;5;28;01melse\u001b[39;00m \u001b[38;5;28;43mself\u001b[39;49m\u001b[38;5;241;43m.\u001b[39;49m\u001b[43m_write\u001b[49m\u001b[43m(\u001b[49m\u001b[43m)\u001b[49m\n\u001b[0;32m   2731\u001b[0m \u001b[38;5;28;01mexcept\u001b[39;00m ServerSelectionTimeoutError:\n\u001b[0;32m   2732\u001b[0m     \u001b[38;5;66;03m# The application may think the write was never attempted\u001b[39;00m\n\u001b[0;32m   2733\u001b[0m     \u001b[38;5;66;03m# if we raise ServerSelectionTimeoutError on the retry\u001b[39;00m\n\u001b[0;32m   2734\u001b[0m     \u001b[38;5;66;03m# attempt. Raise the original exception instead.\u001b[39;00m\n\u001b[0;32m   2735\u001b[0m     \u001b[38;5;28mself\u001b[39m\u001b[38;5;241m.\u001b[39m_check_last_error()\n",
            "File \u001b[1;32m~\\AppData\\Local\\Packages\\PythonSoftwareFoundation.Python.3.10_qbz5n2kfra8p0\\LocalCache\\local-packages\\Python310\\site-packages\\pymongo\\synchronous\\mongo_client.py:2862\u001b[0m, in \u001b[0;36m_ClientConnectionRetryable._write\u001b[1;34m(self)\u001b[0m\n\u001b[0;32m   2854\u001b[0m         \u001b[38;5;28;01mif\u001b[39;00m \u001b[38;5;28mself\u001b[39m\u001b[38;5;241m.\u001b[39m_retrying:\n\u001b[0;32m   2855\u001b[0m             _debug_log(\n\u001b[0;32m   2856\u001b[0m                 _COMMAND_LOGGER,\n\u001b[0;32m   2857\u001b[0m                 message\u001b[38;5;241m=\u001b[39m\u001b[38;5;124mf\u001b[39m\u001b[38;5;124m\"\u001b[39m\u001b[38;5;124mRetrying write attempt number \u001b[39m\u001b[38;5;132;01m{\u001b[39;00m\u001b[38;5;28mself\u001b[39m\u001b[38;5;241m.\u001b[39m_attempt_number\u001b[38;5;132;01m}\u001b[39;00m\u001b[38;5;124m\"\u001b[39m,\n\u001b[1;32m   (...)\u001b[0m\n\u001b[0;32m   2860\u001b[0m                 operationId\u001b[38;5;241m=\u001b[39m\u001b[38;5;28mself\u001b[39m\u001b[38;5;241m.\u001b[39m_operation_id,\n\u001b[0;32m   2861\u001b[0m             )\n\u001b[1;32m-> 2862\u001b[0m         \u001b[38;5;28;01mreturn\u001b[39;00m \u001b[38;5;28;43mself\u001b[39;49m\u001b[38;5;241;43m.\u001b[39;49m\u001b[43m_func\u001b[49m\u001b[43m(\u001b[49m\u001b[38;5;28;43mself\u001b[39;49m\u001b[38;5;241;43m.\u001b[39;49m\u001b[43m_session\u001b[49m\u001b[43m,\u001b[49m\u001b[43m \u001b[49m\u001b[43mconn\u001b[49m\u001b[43m,\u001b[49m\u001b[43m \u001b[49m\u001b[38;5;28;43mself\u001b[39;49m\u001b[38;5;241;43m.\u001b[39;49m\u001b[43m_retryable\u001b[49m\u001b[43m)\u001b[49m  \u001b[38;5;66;03m# type: ignore\u001b[39;00m\n\u001b[0;32m   2863\u001b[0m \u001b[38;5;28;01mexcept\u001b[39;00m PyMongoError \u001b[38;5;28;01mas\u001b[39;00m exc:\n\u001b[0;32m   2864\u001b[0m     \u001b[38;5;28;01mif\u001b[39;00m \u001b[38;5;129;01mnot\u001b[39;00m \u001b[38;5;28mself\u001b[39m\u001b[38;5;241m.\u001b[39m_retryable:\n",
            "File \u001b[1;32m~\\AppData\\Local\\Packages\\PythonSoftwareFoundation.Python.3.10_qbz5n2kfra8p0\\LocalCache\\local-packages\\Python310\\site-packages\\pymongo\\synchronous\\bulk.py:593\u001b[0m, in \u001b[0;36m_Bulk.execute_command.<locals>.retryable_bulk\u001b[1;34m(session, conn, retryable)\u001b[0m\n\u001b[0;32m    590\u001b[0m \u001b[38;5;28;01mdef\u001b[39;00m\u001b[38;5;250m \u001b[39m\u001b[38;5;21mretryable_bulk\u001b[39m(\n\u001b[0;32m    591\u001b[0m     session: Optional[ClientSession], conn: Connection, retryable: \u001b[38;5;28mbool\u001b[39m\n\u001b[0;32m    592\u001b[0m ) \u001b[38;5;241m-\u001b[39m\u001b[38;5;241m>\u001b[39m \u001b[38;5;28;01mNone\u001b[39;00m:\n\u001b[1;32m--> 593\u001b[0m     \u001b[38;5;28;43mself\u001b[39;49m\u001b[38;5;241;43m.\u001b[39;49m\u001b[43m_execute_command\u001b[49m\u001b[43m(\u001b[49m\n\u001b[0;32m    594\u001b[0m \u001b[43m        \u001b[49m\u001b[43mgenerator\u001b[49m\u001b[43m,\u001b[49m\n\u001b[0;32m    595\u001b[0m \u001b[43m        \u001b[49m\u001b[43mwrite_concern\u001b[49m\u001b[43m,\u001b[49m\n\u001b[0;32m    596\u001b[0m \u001b[43m        \u001b[49m\u001b[43msession\u001b[49m\u001b[43m,\u001b[49m\n\u001b[0;32m    597\u001b[0m \u001b[43m        \u001b[49m\u001b[43mconn\u001b[49m\u001b[43m,\u001b[49m\n\u001b[0;32m    598\u001b[0m \u001b[43m        \u001b[49m\u001b[43mop_id\u001b[49m\u001b[43m,\u001b[49m\n\u001b[0;32m    599\u001b[0m \u001b[43m        \u001b[49m\u001b[43mretryable\u001b[49m\u001b[43m,\u001b[49m\n\u001b[0;32m    600\u001b[0m \u001b[43m        \u001b[49m\u001b[43mfull_result\u001b[49m\u001b[43m,\u001b[49m\n\u001b[0;32m    601\u001b[0m \u001b[43m    \u001b[49m\u001b[43m)\u001b[49m\n",
            "File \u001b[1;32m~\\AppData\\Local\\Packages\\PythonSoftwareFoundation.Python.3.10_qbz5n2kfra8p0\\LocalCache\\local-packages\\Python310\\site-packages\\pymongo\\synchronous\\bulk.py:538\u001b[0m, in \u001b[0;36m_Bulk._execute_command\u001b[1;34m(self, generator, write_concern, session, conn, op_id, retryable, full_result, final_write_concern)\u001b[0m\n\u001b[0;32m    536\u001b[0m \u001b[38;5;66;03m# Run as many ops as possible in one command.\u001b[39;00m\n\u001b[0;32m    537\u001b[0m \u001b[38;5;28;01mif\u001b[39;00m write_concern\u001b[38;5;241m.\u001b[39macknowledged:\n\u001b[1;32m--> 538\u001b[0m     result, to_send \u001b[38;5;241m=\u001b[39m \u001b[38;5;28;43mself\u001b[39;49m\u001b[38;5;241;43m.\u001b[39;49m\u001b[43m_execute_batch\u001b[49m\u001b[43m(\u001b[49m\u001b[43mbwc\u001b[49m\u001b[43m,\u001b[49m\u001b[43m \u001b[49m\u001b[43mcmd\u001b[49m\u001b[43m,\u001b[49m\u001b[43m \u001b[49m\u001b[43mops\u001b[49m\u001b[43m,\u001b[49m\u001b[43m \u001b[49m\u001b[43mclient\u001b[49m\u001b[43m)\u001b[49m\n\u001b[0;32m    540\u001b[0m     \u001b[38;5;66;03m# Retryable writeConcernErrors halt the execution of this run.\u001b[39;00m\n\u001b[0;32m    541\u001b[0m     wce \u001b[38;5;241m=\u001b[39m result\u001b[38;5;241m.\u001b[39mget(\u001b[38;5;124m\"\u001b[39m\u001b[38;5;124mwriteConcernError\u001b[39m\u001b[38;5;124m\"\u001b[39m, {})\n",
            "File \u001b[1;32m~\\AppData\\Local\\Packages\\PythonSoftwareFoundation.Python.3.10_qbz5n2kfra8p0\\LocalCache\\local-packages\\Python310\\site-packages\\pymongo\\synchronous\\bulk.py:462\u001b[0m, in \u001b[0;36m_Bulk._execute_batch\u001b[1;34m(self, bwc, cmd, ops, client)\u001b[0m\n\u001b[0;32m    460\u001b[0m \u001b[38;5;28;01melse\u001b[39;00m:\n\u001b[0;32m    461\u001b[0m     request_id, msg, to_send \u001b[38;5;241m=\u001b[39m bwc\u001b[38;5;241m.\u001b[39mbatch_command(cmd, ops)\n\u001b[1;32m--> 462\u001b[0m     result \u001b[38;5;241m=\u001b[39m \u001b[38;5;28;43mself\u001b[39;49m\u001b[38;5;241;43m.\u001b[39;49m\u001b[43mwrite_command\u001b[49m\u001b[43m(\u001b[49m\u001b[43mbwc\u001b[49m\u001b[43m,\u001b[49m\u001b[43m \u001b[49m\u001b[43mcmd\u001b[49m\u001b[43m,\u001b[49m\u001b[43m \u001b[49m\u001b[43mrequest_id\u001b[49m\u001b[43m,\u001b[49m\u001b[43m \u001b[49m\u001b[43mmsg\u001b[49m\u001b[43m,\u001b[49m\u001b[43m \u001b[49m\u001b[43mto_send\u001b[49m\u001b[43m,\u001b[49m\u001b[43m \u001b[49m\u001b[43mclient\u001b[49m\u001b[43m)\u001b[49m  \u001b[38;5;66;03m# type: ignore[arg-type]\u001b[39;00m\n\u001b[0;32m    464\u001b[0m \u001b[38;5;28;01mreturn\u001b[39;00m result, to_send\n",
            "File \u001b[1;32m~\\AppData\\Local\\Packages\\PythonSoftwareFoundation.Python.3.10_qbz5n2kfra8p0\\LocalCache\\local-packages\\Python310\\site-packages\\pymongo\\synchronous\\helpers.py:47\u001b[0m, in \u001b[0;36m_handle_reauth.<locals>.inner\u001b[1;34m(*args, **kwargs)\u001b[0m\n\u001b[0;32m     44\u001b[0m \u001b[38;5;28;01mfrom\u001b[39;00m\u001b[38;5;250m \u001b[39m\u001b[38;5;21;01mpymongo\u001b[39;00m\u001b[38;5;21;01m.\u001b[39;00m\u001b[38;5;21;01msynchronous\u001b[39;00m\u001b[38;5;21;01m.\u001b[39;00m\u001b[38;5;21;01mpool\u001b[39;00m\u001b[38;5;250m \u001b[39m\u001b[38;5;28;01mimport\u001b[39;00m Connection\n\u001b[0;32m     46\u001b[0m \u001b[38;5;28;01mtry\u001b[39;00m:\n\u001b[1;32m---> 47\u001b[0m     \u001b[38;5;28;01mreturn\u001b[39;00m func(\u001b[38;5;241m*\u001b[39margs, \u001b[38;5;241m*\u001b[39m\u001b[38;5;241m*\u001b[39mkwargs)\n\u001b[0;32m     48\u001b[0m \u001b[38;5;28;01mexcept\u001b[39;00m OperationFailure \u001b[38;5;28;01mas\u001b[39;00m exc:\n\u001b[0;32m     49\u001b[0m     \u001b[38;5;28;01mif\u001b[39;00m no_reauth:\n",
            "File \u001b[1;32m~\\AppData\\Local\\Packages\\PythonSoftwareFoundation.Python.3.10_qbz5n2kfra8p0\\LocalCache\\local-packages\\Python310\\site-packages\\pymongo\\synchronous\\bulk.py:274\u001b[0m, in \u001b[0;36m_Bulk.write_command\u001b[1;34m(self, bwc, cmd, request_id, msg, docs, client)\u001b[0m\n\u001b[0;32m    272\u001b[0m     bwc\u001b[38;5;241m.\u001b[39m_start(cmd, request_id, docs)\n\u001b[0;32m    273\u001b[0m \u001b[38;5;28;01mtry\u001b[39;00m:\n\u001b[1;32m--> 274\u001b[0m     reply \u001b[38;5;241m=\u001b[39m \u001b[43mbwc\u001b[49m\u001b[38;5;241;43m.\u001b[39;49m\u001b[43mconn\u001b[49m\u001b[38;5;241;43m.\u001b[39;49m\u001b[43mwrite_command\u001b[49m\u001b[43m(\u001b[49m\u001b[43mrequest_id\u001b[49m\u001b[43m,\u001b[49m\u001b[43m \u001b[49m\u001b[43mmsg\u001b[49m\u001b[43m,\u001b[49m\u001b[43m \u001b[49m\u001b[43mbwc\u001b[49m\u001b[38;5;241;43m.\u001b[39;49m\u001b[43mcodec\u001b[49m\u001b[43m)\u001b[49m  \u001b[38;5;66;03m# type: ignore[misc]\u001b[39;00m\n\u001b[0;32m    275\u001b[0m     duration \u001b[38;5;241m=\u001b[39m datetime\u001b[38;5;241m.\u001b[39mdatetime\u001b[38;5;241m.\u001b[39mnow() \u001b[38;5;241m-\u001b[39m bwc\u001b[38;5;241m.\u001b[39mstart_time\n\u001b[0;32m    276\u001b[0m     \u001b[38;5;28;01mif\u001b[39;00m _COMMAND_LOGGER\u001b[38;5;241m.\u001b[39misEnabledFor(logging\u001b[38;5;241m.\u001b[39mDEBUG):\n",
            "File \u001b[1;32m~\\AppData\\Local\\Packages\\PythonSoftwareFoundation.Python.3.10_qbz5n2kfra8p0\\LocalCache\\local-packages\\Python310\\site-packages\\pymongo\\synchronous\\pool.py:502\u001b[0m, in \u001b[0;36mConnection.write_command\u001b[1;34m(self, request_id, msg, codec_options)\u001b[0m\n\u001b[0;32m    494\u001b[0m \u001b[38;5;250m\u001b[39m\u001b[38;5;124;03m\"\"\"Send \"insert\" etc. command, returning response as a dict.\u001b[39;00m\n\u001b[0;32m    495\u001b[0m \n\u001b[0;32m    496\u001b[0m \u001b[38;5;124;03mCan raise ConnectionFailure or OperationFailure.\u001b[39;00m\n\u001b[1;32m   (...)\u001b[0m\n\u001b[0;32m    499\u001b[0m \u001b[38;5;124;03m:param msg: bytes, the command message.\u001b[39;00m\n\u001b[0;32m    500\u001b[0m \u001b[38;5;124;03m\"\"\"\u001b[39;00m\n\u001b[0;32m    501\u001b[0m \u001b[38;5;28mself\u001b[39m\u001b[38;5;241m.\u001b[39msend_message(msg, \u001b[38;5;241m0\u001b[39m)\n\u001b[1;32m--> 502\u001b[0m reply \u001b[38;5;241m=\u001b[39m \u001b[38;5;28;43mself\u001b[39;49m\u001b[38;5;241;43m.\u001b[39;49m\u001b[43mreceive_message\u001b[49m\u001b[43m(\u001b[49m\u001b[43mrequest_id\u001b[49m\u001b[43m)\u001b[49m\n\u001b[0;32m    503\u001b[0m result \u001b[38;5;241m=\u001b[39m reply\u001b[38;5;241m.\u001b[39mcommand_response(codec_options)\n\u001b[0;32m    505\u001b[0m \u001b[38;5;66;03m# Raises NotPrimaryError or OperationFailure.\u001b[39;00m\n",
            "File \u001b[1;32m~\\AppData\\Local\\Packages\\PythonSoftwareFoundation.Python.3.10_qbz5n2kfra8p0\\LocalCache\\local-packages\\Python310\\site-packages\\pymongo\\synchronous\\pool.py:470\u001b[0m, in \u001b[0;36mConnection.receive_message\u001b[1;34m(self, request_id)\u001b[0m\n\u001b[0;32m    468\u001b[0m \u001b[38;5;66;03m# Catch KeyboardInterrupt, CancelledError, etc. and cleanup.\u001b[39;00m\n\u001b[0;32m    469\u001b[0m \u001b[38;5;28;01mexcept\u001b[39;00m \u001b[38;5;167;01mBaseException\u001b[39;00m \u001b[38;5;28;01mas\u001b[39;00m error:\n\u001b[1;32m--> 470\u001b[0m     \u001b[38;5;28;43mself\u001b[39;49m\u001b[38;5;241;43m.\u001b[39;49m\u001b[43m_raise_connection_failure\u001b[49m\u001b[43m(\u001b[49m\u001b[43merror\u001b[49m\u001b[43m)\u001b[49m\n",
            "File \u001b[1;32m~\\AppData\\Local\\Packages\\PythonSoftwareFoundation.Python.3.10_qbz5n2kfra8p0\\LocalCache\\local-packages\\Python310\\site-packages\\pymongo\\synchronous\\pool.py:467\u001b[0m, in \u001b[0;36mConnection.receive_message\u001b[1;34m(self, request_id)\u001b[0m\n\u001b[0;32m    462\u001b[0m \u001b[38;5;250m\u001b[39m\u001b[38;5;124;03m\"\"\"Receive a raw BSON message or raise ConnectionFailure.\u001b[39;00m\n\u001b[0;32m    463\u001b[0m \n\u001b[0;32m    464\u001b[0m \u001b[38;5;124;03mIf any exception is raised, the socket is closed.\u001b[39;00m\n\u001b[0;32m    465\u001b[0m \u001b[38;5;124;03m\"\"\"\u001b[39;00m\n\u001b[0;32m    466\u001b[0m \u001b[38;5;28;01mtry\u001b[39;00m:\n\u001b[1;32m--> 467\u001b[0m     \u001b[38;5;28;01mreturn\u001b[39;00m \u001b[43mreceive_message\u001b[49m\u001b[43m(\u001b[49m\u001b[38;5;28;43mself\u001b[39;49m\u001b[43m,\u001b[49m\u001b[43m \u001b[49m\u001b[43mrequest_id\u001b[49m\u001b[43m,\u001b[49m\u001b[43m \u001b[49m\u001b[38;5;28;43mself\u001b[39;49m\u001b[38;5;241;43m.\u001b[39;49m\u001b[43mmax_message_size\u001b[49m\u001b[43m)\u001b[49m\n\u001b[0;32m    468\u001b[0m \u001b[38;5;66;03m# Catch KeyboardInterrupt, CancelledError, etc. and cleanup.\u001b[39;00m\n\u001b[0;32m    469\u001b[0m \u001b[38;5;28;01mexcept\u001b[39;00m \u001b[38;5;167;01mBaseException\u001b[39;00m \u001b[38;5;28;01mas\u001b[39;00m error:\n",
            "File \u001b[1;32m~\\AppData\\Local\\Packages\\PythonSoftwareFoundation.Python.3.10_qbz5n2kfra8p0\\LocalCache\\local-packages\\Python310\\site-packages\\pymongo\\network_layer.py:756\u001b[0m, in \u001b[0;36mreceive_message\u001b[1;34m(conn, request_id, max_message_size)\u001b[0m\n\u001b[0;32m    754\u001b[0m         deadline \u001b[38;5;241m=\u001b[39m \u001b[38;5;28;01mNone\u001b[39;00m\n\u001b[0;32m    755\u001b[0m \u001b[38;5;66;03m# Ignore the response's request id.\u001b[39;00m\n\u001b[1;32m--> 756\u001b[0m length, _, response_to, op_code \u001b[38;5;241m=\u001b[39m _UNPACK_HEADER(\u001b[43mreceive_data\u001b[49m\u001b[43m(\u001b[49m\u001b[43mconn\u001b[49m\u001b[43m,\u001b[49m\u001b[43m \u001b[49m\u001b[38;5;241;43m16\u001b[39;49m\u001b[43m,\u001b[49m\u001b[43m \u001b[49m\u001b[43mdeadline\u001b[49m\u001b[43m)\u001b[49m)\n\u001b[0;32m    757\u001b[0m \u001b[38;5;66;03m# No request_id for exhaust cursor \"getMore\".\u001b[39;00m\n\u001b[0;32m    758\u001b[0m \u001b[38;5;28;01mif\u001b[39;00m request_id \u001b[38;5;129;01mis\u001b[39;00m \u001b[38;5;129;01mnot\u001b[39;00m \u001b[38;5;28;01mNone\u001b[39;00m:\n",
            "File \u001b[1;32m~\\AppData\\Local\\Packages\\PythonSoftwareFoundation.Python.3.10_qbz5n2kfra8p0\\LocalCache\\local-packages\\Python310\\site-packages\\pymongo\\network_layer.py:351\u001b[0m, in \u001b[0;36mreceive_data\u001b[1;34m(conn, length, deadline)\u001b[0m\n\u001b[0;32m    348\u001b[0m             short_timeout \u001b[38;5;241m=\u001b[39m _POLL_TIMEOUT\n\u001b[0;32m    349\u001b[0m         conn\u001b[38;5;241m.\u001b[39mset_conn_timeout(short_timeout)\n\u001b[1;32m--> 351\u001b[0m     chunk_length \u001b[38;5;241m=\u001b[39m \u001b[43mconn\u001b[49m\u001b[38;5;241;43m.\u001b[39;49m\u001b[43mconn\u001b[49m\u001b[38;5;241;43m.\u001b[39;49m\u001b[43mrecv_into\u001b[49m\u001b[43m(\u001b[49m\u001b[43mmv\u001b[49m\u001b[43m[\u001b[49m\u001b[43mbytes_read\u001b[49m\u001b[43m:\u001b[49m\u001b[43m]\u001b[49m\u001b[43m)\u001b[49m\n\u001b[0;32m    352\u001b[0m \u001b[38;5;28;01mexcept\u001b[39;00m BLOCKING_IO_ERRORS:\n\u001b[0;32m    353\u001b[0m     \u001b[38;5;28;01mif\u001b[39;00m conn\u001b[38;5;241m.\u001b[39mcancel_context\u001b[38;5;241m.\u001b[39mcancelled:\n",
            "File \u001b[1;32m~\\AppData\\Local\\Packages\\PythonSoftwareFoundation.Python.3.10_qbz5n2kfra8p0\\LocalCache\\local-packages\\Python310\\site-packages\\pymongo\\network_layer.py:466\u001b[0m, in \u001b[0;36mNetworkingInterface.recv_into\u001b[1;34m(self, buffer)\u001b[0m\n\u001b[0;32m    465\u001b[0m \u001b[38;5;28;01mdef\u001b[39;00m\u001b[38;5;250m \u001b[39m\u001b[38;5;21mrecv_into\u001b[39m(\u001b[38;5;28mself\u001b[39m, buffer: \u001b[38;5;28mbytes\u001b[39m) \u001b[38;5;241m-\u001b[39m\u001b[38;5;241m>\u001b[39m \u001b[38;5;28mint\u001b[39m:\n\u001b[1;32m--> 466\u001b[0m     \u001b[38;5;28;01mreturn\u001b[39;00m \u001b[38;5;28;43mself\u001b[39;49m\u001b[38;5;241;43m.\u001b[39;49m\u001b[43mconn\u001b[49m\u001b[38;5;241;43m.\u001b[39;49m\u001b[43mrecv_into\u001b[49m\u001b[43m(\u001b[49m\u001b[43mbuffer\u001b[49m\u001b[43m)\u001b[49m\n",
            "\u001b[1;31mKeyboardInterrupt\u001b[0m: "
          ]
        }
      ],
      "source": [
        "# Cargar y procesar el archivo JSON\n",
        "print(\"Iniciando carga de datos a MongoDB...\")\n",
        "\n",
        "# Carga por lotes de 1000 en 1000\n",
        "def load_data_batch(batch_size=1000):\n",
        "    batch = []\n",
        "    total_docs = 0\n",
        "    \n",
        "    # Primero contamos las lineas para la barra de progreso\n",
        "    with open('uarxiv-202730211-2023735558.json', 'r', encoding='utf-8') as f:\n",
        "        total_lines = sum(1 for _ in f)\n",
        "    \n",
        "    # Insertamos los datos en el batch\n",
        "    with open('uarxiv-202730211-2023735558.json', 'r', encoding='utf-8') as f:\n",
        "        for line in tqdm(f, total=total_lines, desc=\"Cargando datos\"):\n",
        "            record = json.loads(line)\n",
        "            # Agregamos el campo pdf_source\n",
        "            if \"id\" in record:\n",
        "                record[\"pdf_source\"] = f\"https://arxiv.org/pdf/{record['id']}\"\n",
        "\n",
        "            batch.append(record)\n",
        "            \n",
        "            # Si el batch excede el maximo, lo vaciamos e insertamos los datos en la BD\n",
        "            if len(batch) >= batch_size:\n",
        "                collection.insert_many(batch)\n",
        "                total_docs += len(batch)\n",
        "                batch = []\n",
        "        \n",
        "        # Insertar el ultimo lote, en caso de que el ultimo lote sean menos de 1000\n",
        "        if batch:\n",
        "            collection.insert_many(batch)\n",
        "            total_docs += len(batch)\n",
        "    \n",
        "    print(f\"\\nTotal de documentos insertados: {total_docs}\")\n",
        "\n",
        "load_data_batch() # Llamamos la funcion creada anteriormente\n",
        "\n",
        "# 3. Verificacion final\n",
        "print(\"\\nResumen de la base de datos:\")\n",
        "print(f\"- Colección: {collection.name}\")    \n",
        "print(f\"- Ejemplo de documento: {collection.find_one()}\")\n",
        "\n"
      ]
    },
    {
      "cell_type": "markdown",
      "metadata": {},
      "source": [
        "Consultamos por la carga efectiva de datos en las 3 réplicas"
      ]
    },
    {
      "cell_type": "code",
      "execution_count": 29,
      "metadata": {},
      "outputs": [
        {
          "name": "stdout",
          "output_type": "stream",
          "text": [
            "📦 Documentos estimados en mongo1: 30000\n",
            "📦 Documentos estimados en mongo2: 30000\n",
            "📦 Documentos estimados en mongo3: 30000\n"
          ]
        }
      ],
      "source": [
        "ports = [30001, 30002, 30003]\n",
        "for i, port in enumerate(ports, start=1):\n",
        "    client = MongoClient(f\"mongodb://mongo{i}:{port}\")\n",
        "    count = client[\"arxiv_db\"][\"articles\"].estimated_document_count()\n",
        "    print(f\"📦 Documentos estimados en mongo{i}: {count}\")"
      ]
    },
    {
      "cell_type": "markdown",
      "metadata": {},
      "source": [
        "## Cuarta etapa: Consultas"
      ]
    },
    {
      "cell_type": "markdown",
      "metadata": {},
      "source": [
        "Consulta test"
      ]
    },
    {
      "cell_type": "code",
      "execution_count": 30,
      "metadata": {},
      "outputs": [
        {
          "name": "stdout",
          "output_type": "stream",
          "text": [
            "🟢 mongo1 (30001) - Artículos con 'Software':\n",
            "   🔹 Solar Magnetic Tracking. I. Software Comparison and Recommended\n",
            "  Practices\n",
            "   🔹 On How Developers Test Open Source Software Systems\n",
            "   🔹 Experiences of Engineering Grid-Based Medical Software\n",
            "--------------------------------------------------\n",
            "🟢 mongo2 (30002) - Artículos con 'Software':\n",
            "   🔹 Solar Magnetic Tracking. I. Software Comparison and Recommended\n",
            "  Practices\n",
            "   🔹 On How Developers Test Open Source Software Systems\n",
            "   🔹 Experiences of Engineering Grid-Based Medical Software\n",
            "--------------------------------------------------\n",
            "🟢 mongo3 (30003) - Artículos con 'Software':\n",
            "   🔹 Solar Magnetic Tracking. I. Software Comparison and Recommended\n",
            "  Practices\n",
            "   🔹 On How Developers Test Open Source Software Systems\n",
            "   🔹 Experiences of Engineering Grid-Based Medical Software\n",
            "--------------------------------------------------\n"
          ]
        }
      ],
      "source": [
        "def buscar_software(port, nombre):\n",
        "    try:\n",
        "        client = MongoClient(f\"mongodb://localhost:{port}\", serverSelectionTimeoutMS=5000)\n",
        "        db = client[\"arxiv_db\"]\n",
        "        collection = db[\"articles\"]\n",
        "\n",
        "        resultados = collection.find(\n",
        "            {\"title\": {\"$regex\": \"Software\", \"$options\": \"i\"}},\n",
        "            {\"_id\": 0, \"title\": 1}\n",
        "        ).limit(3)  # solo para mostrar pocos\n",
        "\n",
        "        print(f\"🟢 {nombre} ({port}) - Artículos con 'Software':\")\n",
        "        encontrados = False\n",
        "        for doc in resultados:\n",
        "            print(f\"   🔹 {doc['title']}\")\n",
        "            encontrados = True\n",
        "        if not encontrados:\n",
        "            print(\"   ⚠️ No se encontraron artículos.\")\n",
        "        print(\"-\" * 50)\n",
        "    except Exception as e:\n",
        "        print(f\"🔴 Error en {nombre} ({port}): {e}\")\n",
        "\n",
        "# Ejecutar búsqueda en los tres nodos\n",
        "buscar_software(30001, \"mongo1\")\n",
        "buscar_software(30002, \"mongo2\")\n",
        "buscar_software(30003, \"mongo3\")\n"
      ]
    },
    {
      "cell_type": "markdown",
      "metadata": {},
      "source": [
        "Consulta 1"
      ]
    },
    {
      "cell_type": "code",
      "execution_count": null,
      "metadata": {},
      "outputs": [],
      "source": [
        "def leer_articulos_2025(collection):\n",
        "    try:\n",
        "        # Defino lo que queremos buscar en base a la filtro del año 2025\n",
        "        cursor = collection.find(\n",
        "            {\"versions.0.created\": {\"$regex\": r\"2025\"}},\n",
        "            {\"title\": 1, \"versions\": 1}).limit(20)\n",
        "        \n",
        "        art = []\n",
        "\n",
        "        # Agregamos todo lo recolectado en una lista\n",
        "        for doc in cursor:\n",
        "            art.append({\n",
        "                \"title\": doc.get(\"title\", \"No title\"),\n",
        "                \"versions\": doc.get(\"versions\", [])\n",
        "            })\n",
        "        \n",
        "        return art\n",
        "    except Exception as e:\n",
        "        print(f\"Error al leer artículos de 2025: {e}\")\n",
        "        return []\n",
        "    \n",
        "resultado = leer_articulos_2025(collection)\n",
        "i = 1\n",
        "for elem in resultado:\n",
        "    print(f\"{i}. Título: {elem.get('title', '(sin título)')}\")\n",
        "    primera_version = elem.get('versions', [{}])[0]\n",
        "    fecha = primera_version.get('created', '¿sin fecha?')\n",
        "    print(f\"   Primera versión (v1): {fecha}\")\n",
        "    print(\"-\" * 50)\n",
        "    i += 1"
      ]
    },
    {
      "cell_type": "markdown",
      "metadata": {},
      "source": [
        "Consulta 2"
      ]
    },
    {
      "cell_type": "code",
      "execution_count": 15,
      "metadata": {},
      "outputs": [
        {
          "name": "stdout",
          "output_type": "stream",
          "text": [
            "Artículos en cs.AI o stat.ML con al menos 3 autores:\n",
            "1. Título: Calculating Valid Domains for BDD-Based Interactive Configuration\n",
            "   Autores: ['Tarik Hadzic', 'Rune Moller Jensen', 'Henrik Reif Andersen']\n",
            "----------------------------------------\n",
            "2. Título: Personalizing Image Search Results on Flickr\n",
            "   Autores: ['Kristina Lerman', 'Anon Plangprasopchok', 'Chio Wong']\n",
            "----------------------------------------\n",
            "3. Título: Unicast and Multicast Qos Routing with Soft Constraint Logic Programming\n",
            "   Autores: ['Stefano Bistarelli', 'Ugo Montanari', 'Francesca Rossi', 'Francesco Santini']\n",
            "----------------------------------------\n",
            "4. Título: A study of structural properties on profiles HMMs\n",
            "   Autores: ['Juliana S Bernardes', 'Alberto Davila', 'Vitor Santos Costa', 'Gerson\\n  Zaverucha']\n",
            "----------------------------------------\n",
            "5. Título: Introduction to Arabic Speech Recognition Using CMUSphinx System\n",
            "   Autores: ['H. Satori', 'M. Harti', 'N. Chenfour']\n",
            "----------------------------------------\n",
            "6. Título: Arabic Speech Recognition System using CMU-Sphinx4\n",
            "   Autores: ['H. Satori', 'M. Harti', 'N. Chenfour']\n",
            "----------------------------------------\n",
            "7. Título: Experimenting with recursive queries in database and logic programming\n",
            "  systems\n",
            "   Autores: ['Giorgio Terracina', 'Nicola Leone', 'Vincenzino Lio', 'Claudio Panetta']\n",
            "----------------------------------------\n",
            "8. Título: An Adaptive Strategy for the Classification of G-Protein Coupled\n",
            "  Receptors\n",
            "   Autores: ['S. Mohamed', 'D. Rubin', 'and T. Marwala']\n",
            "----------------------------------------\n",
            "9. Título: Comparing Robustness of Pairwise and Multiclass Neural-Network Systems\n",
            "  for Face Recognition\n",
            "   Autores: ['J. Uglov', 'V. Schetinin', 'C. Maple']\n",
            "----------------------------------------\n",
            "10. Título: Ensemble Learning for Free with Evolutionary Algorithms ?\n",
            "   Autores: [\"Christian Gagn\\\\'e (INFORMATIQUE WGZ INC.)\", 'Mich\\\\`ele Sebag (INRIA\\n  Futurs)', 'Marc Schoenauer (INRIA Futurs)', 'Marco Tomassini (ISI)']\n",
            "----------------------------------------\n"
          ]
        }
      ],
      "source": [
        "def buscar_articulos_csai_statml_3autores(collection):\n",
        "    try:\n",
        "        cursor = collection.find(\n",
        "            {\n",
        "                \"$or\": [\n",
        "                    {\"categories\": {\"$regex\": r\"cs\\.AI\"}},\n",
        "                    {\"categories\": {\"$regex\": r\"stat\\.ML\"}}\n",
        "                ]\n",
        "            },\n",
        "            {\"_id\": 0, \"title\": 1, \"authors\": 1}\n",
        "        ).limit(100)  # buscamos más para filtrar en Python\n",
        "\n",
        "        resultados = []\n",
        "\n",
        "        for doc in cursor:\n",
        "            authors_str = doc.get(\"authors\", \"\")\n",
        "            # separar autores por coma o \"and\"\n",
        "            autores = []\n",
        "            if authors_str:\n",
        "                # primero separar por comas\n",
        "                partes = [a.strip() for a in authors_str.split(\",\")]\n",
        "                # cada parte puede contener 'and', dividirlas también\n",
        "                for parte in partes:\n",
        "                    autores.extend([x.strip() for x in parte.split(\" and \") if x.strip() != \"\"])\n",
        "\n",
        "            if len(autores) >= 3:\n",
        "                resultados.append({\"title\": doc.get(\"title\"), \"authors\": autores})\n",
        "\n",
        "            if len(resultados) == 10:\n",
        "                break\n",
        "\n",
        "        if resultados:\n",
        "            print(\"Artículos en cs.AI o stat.ML con al menos 3 autores:\")\n",
        "            i = 1\n",
        "            for art in resultados:\n",
        "                print(f\"{i}. Título: {art['title']}\")\n",
        "                print(f\"   Autores: {art['authors']}\")\n",
        "                print(\"-\" * 40)\n",
        "                i += 1\n",
        "        else:\n",
        "            print(\"No se encontraron artículos con al menos 3 autores en las categorías dadas.\")\n",
        "\n",
        "        return resultados\n",
        "\n",
        "    except Exception as e:\n",
        "        print(f\"Error al buscar artículos: {e}\")\n",
        "        return []\n",
        "\n",
        "# Ejecutar función\n",
        "articulos_encontrados = buscar_articulos_csai_statml_3autores(collection)\n",
        "\n"
      ]
    },
    {
      "cell_type": "markdown",
      "metadata": {},
      "source": [
        "Consulta 3"
      ]
    },
    {
      "cell_type": "code",
      "execution_count": 16,
      "metadata": {},
      "outputs": [
        {
          "name": "stdout",
          "output_type": "stream",
          "text": [
            "Artículos en hep-ph con DOI:\n",
            "\n",
            "1. Título: Calculation of prompt diphoton production cross sections at Tevatron and\n",
            "  LHC energies\n",
            "   Categorías: hep-ph\n",
            "   PDF: https://arxiv.org/pdf/0704.0001\n",
            "----------------------------------------\n",
            "2. Título: Lifetime of doubly charmed baryons\n",
            "   Categorías: hep-ph\n",
            "   PDF: https://arxiv.org/pdf/0704.0016\n",
            "----------------------------------------\n",
            "3. Título: Understanding the Flavor Symmetry Breaking and Nucleon Flavor-Spin\n",
            "  Structure within Chiral Quark Model\n",
            "   Categorías: hep-ph\n",
            "   PDF: https://arxiv.org/pdf/0704.0029\n",
            "----------------------------------------\n",
            "4. Título: Crystal channeling of LHC forward protons with preserved distribution in\n",
            "  phase space\n",
            "   Categorías: hep-ph\n",
            "   PDF: https://arxiv.org/pdf/0704.0031\n",
            "----------------------------------------\n",
            "5. Título: Probing non-standard neutrino interactions with supernova neutrinos\n",
            "   Categorías: hep-ph\n",
            "   PDF: https://arxiv.org/pdf/0704.0032\n",
            "----------------------------------------\n",
            "6. Título: Experimental efforts in search of 76Ge Neutrinoless Double Beta Decay\n",
            "   Categorías: hep-ph\n",
            "   PDF: https://arxiv.org/pdf/0704.0063\n",
            "----------------------------------------\n",
            "7. Título: Towards self-consistent definition of instanton liquid parameters\n",
            "   Categorías: hep-ph\n",
            "   PDF: https://arxiv.org/pdf/0704.0141\n",
            "----------------------------------------\n",
            "8. Título: Instanton Liquid at Finite Temperature and Chemical Potential of Quarks\n",
            "   Categorías: hep-ph\n",
            "   PDF: https://arxiv.org/pdf/0704.0143\n",
            "----------------------------------------\n",
            "9. Título: Low Energy Aspects of Heavy Meson Decays\n",
            "   Categorías: hep-ph\n",
            "   PDF: https://arxiv.org/pdf/0704.0167\n",
            "----------------------------------------\n",
            "10. Título: Very strong and slowly varying magnetic fields as source of axions\n",
            "   Categorías: hep-ph\n",
            "   PDF: https://arxiv.org/pdf/0704.0169\n",
            "----------------------------------------\n",
            "11. Título: Dark energy and neutrino model in SUSY -- Remarks on active and sterile\n",
            "  neutrinos mixing --\n",
            "   Categorías: hep-ph\n",
            "   PDF: https://arxiv.org/pdf/0704.0186\n",
            "----------------------------------------\n",
            "12. Título: Remarks on N_c dependence of decays of exotic baryons\n",
            "   Categorías: hep-ph\n",
            "   PDF: https://arxiv.org/pdf/0704.0196\n",
            "----------------------------------------\n",
            "13. Título: Does the present data on B_s - bar B_s mixing rule out a large\n",
            "  enhancement in the branching ratio of B_s --> mu+ mu- ?\n",
            "   Categorías: hep-ph\n",
            "   PDF: https://arxiv.org/pdf/0704.0252\n",
            "----------------------------------------\n",
            "14. Título: Unravelling the sbottom spin at the CERN LHC\n",
            "   Categorías: hep-ph\n",
            "   PDF: https://arxiv.org/pdf/0704.0254\n",
            "----------------------------------------\n",
            "15. Título: A practical Seedless Infrared-Safe Cone jet algorithm\n",
            "   Categorías: hep-ph\n",
            "   PDF: https://arxiv.org/pdf/0704.0292\n",
            "----------------------------------------\n"
          ]
        }
      ],
      "source": [
        "def leer_hep_ph_con_doi(collection):\n",
        "    try:\n",
        "        cursor = collection.find(\n",
        "            {\"categories\": \"hep-ph\", \"doi\": {\"$exists\": True, \"$ne\": \"\"}},\n",
        "            {\"_id\": 0, \"title\": 1, \"categories\": 1, \"pdf_source\": 1}).limit(15)\n",
        "\n",
        "        resultados = []\n",
        "        for doc in cursor:\n",
        "            resultados.append({\n",
        "                \"titulo\": doc.get(\"title\", \"Sin título\"),\n",
        "                \"categorias\": doc.get(\"categories\", []),\n",
        "                \"pdf_source\": doc.get(\"pdf_source\", \"No disponible\")\n",
        "            })\n",
        "\n",
        "        if resultados:\n",
        "            print(\"Artículos en hep-ph con DOI:\")\n",
        "            print()\n",
        "            i = 1\n",
        "            for art in resultados:\n",
        "                print(f\"{i}. Título: {art['titulo']}\")\n",
        "                print(f\"   Categorías: {art['categorias']}\")\n",
        "                print(f\"   PDF: {art['pdf_source']}\")\n",
        "                print(\"-\" * 40)\n",
        "                i += 1\n",
        "        else:\n",
        "            print(\"No se encontraron artículos en hep-ph con DOI.\")\n",
        "\n",
        "        return resultados\n",
        "\n",
        "    except Exception as e:\n",
        "        print(f\"Error al buscar artículos hep-ph con DOI: {e}\")\n",
        "        return []\n",
        "\n",
        "articulos_encontrados = leer_hep_ph_con_doi(collection)"
      ]
    },
    {
      "cell_type": "markdown",
      "metadata": {},
      "source": [
        "Consulta 4"
      ]
    },
    {
      "cell_type": "code",
      "execution_count": 17,
      "metadata": {},
      "outputs": [
        {
          "name": "stdout",
          "output_type": "stream",
          "text": [
            "Artículos con DOI:\n",
            "\n",
            "1.Título: \"A combinatorial universal $\\star$-product\" is incorrect\n",
            "  Autores: Theo Johnson-Freyd\n",
            "  Referencia publicación: None\n",
            "----------------------------------------\n",
            "2.Título: \"ATLAS Overview and Main Results\"\n",
            "  Autores: Krzysztof Sliwa\n",
            "  Referencia publicación: None\n",
            "----------------------------------------\n",
            "3.Título: \"Ab initio\" models of galaxy formation: successes and open problems\n",
            "  Autores: Gabriella De Lucia\n",
            "  Referencia publicación: None\n",
            "----------------------------------------\n",
            "4.Título: \"Actuation at a distance\" of microelectromechanical systems using\n",
            "  photoelectrowetting: proof-of-concept\n",
            "  Autores: Matthieu Gaudet and Steve Arscott\n",
            "  Referencia publicación: Appl. Phys. Lett. 100, 224103 (2012)\n",
            "----------------------------------------\n",
            "5.Título: \"Additivity\" versus \"Maxitivity\" at the heart of the paradoxical and\n",
            "  efficient nature of Statistics\n",
            "  Autores: M. R\\'emon\n",
            "  Referencia publicación: None\n",
            "----------------------------------------\n",
            "6.Título: \"Advanced\" data reduction for the AMBER instrument\n",
            "  Autores: Florentin Millour (MPIFR), Bruno Valat (FIZEAU), Romain Petrov\n",
            "  (FIZEAU), Martin Vannier (FIZEAU)\n",
            "  Referencia publicación: None\n",
            "----------------------------------------\n",
            "7.Título: \"Alice\" String as Source of the Kerr Spinning Particle\n",
            "  Autores: Alexander Burinskii\n",
            "  Referencia publicación: Geometrical and Topological Ideas in Modern Physics}, Proc. of the\n",
            "  XXV Intern. Workshop on Fundamental Problems of High Energy Physics and Field\n",
            "  Theory, Ed. V.A. Petrov, Protvino, June 25-28, 2002, pp.263-277\n",
            "----------------------------------------\n",
            "8.Título: \"Almost automatic\" and semantic integration of XML Schemas at various\n",
            "  \"severity\" levels\n",
            "  Autores: P. De Meo, G. Quattrone, G. Terracina, D. Ursino\n",
            "  Referencia publicación: Proc. of the International Conference on Cooperative Information\n",
            "  Systems (CoopIS 2003), pages 4 -21, Taormina, Italy, 2003. Lecture Notes in\n",
            "  Computer Science, Springer\n",
            "----------------------------------------\n",
            "9.Título: \"An Era of Precision Astrophysics: Connecting Stars, Galaxies and the\n",
            "  Universe,\" an Astro2010 Science White Paper\n",
            "  Autores: Rob P. Olling, Ron J. Allen, Jay Anderson, Brian C. Chaboyer, Wendy\n",
            "  Freedman, Puragra Guhathakurta, Kenneth Johnston, Shri Kulkarni, Sebastien\n",
            "  Lepine, Valeri V. Makarov, Eric E. Mamajek, Alice C. Quillen, Kailash S.\n",
            "  Sahu, Ata Sarajedini, Ed J. Shaya, Donald Terndrup, Patrick A. Young\n",
            "  Referencia publicación: None\n",
            "----------------------------------------\n",
            "10.Título: \"An effective two dimensionality\" cases bring a new hope to the\n",
            "  Kaluza-Klein[like] theories\n",
            "  Autores: D. Lukman, N.S. Mankoc Borstnik, H.B. Nielsen\n",
            "  Referencia publicación: None\n",
            "----------------------------------------\n",
            "11.Título: \"Annular\" ferroelectric domains in hexagonal manganites\n",
            "  Autores: J.Q. Li, J. Li, H. X. Yang, H. F. Tian, S-W. Cheong, C. Ma, S. Zhang,\n",
            "  and Y. G. Zhao\n",
            "  Referencia publicación: None\n",
            "----------------------------------------\n",
            "12.Título: \"Anomaly\" in n=infinity Alday-Maldacena Duality for Wavy Circle\n",
            "  Autores: H.Itoyama, A.Mironov and A.Morozov\n",
            "  Referencia publicación: JHEP0807:024,2008\n",
            "----------------------------------------\n",
            "13.Título: \"Anti-glitches\" in the Quark-Nova model for AXPs\n",
            "  Autores: Rachid Ouyed, Denis Leahy and Nico Koning (Department of Physics &\n",
            "  Astronomy, University of Calgary, Canada)\n",
            "  Referencia publicación: None\n",
            "----------------------------------------\n",
            "14.Título: \"Astronomy\" or \"astrology\": a brief history of an apparent confusion\n",
            "  Autores: A. Losev\n",
            "  Referencia publicación: J.of Astronomical History and Heritage, v.15(1) p. 42-6 (2012)\n",
            "----------------------------------------\n",
            "15.Título: \"Atlas of Secular Light Curves of Comets\"\n",
            "  Autores: Ignacio Ferrin\n",
            "  Referencia publicación: None\n",
            "----------------------------------------\n",
            "16.Título: \"Audacity or Precision\": The Paradoxes of Henri Villat's Fluid Mechanics\n",
            "  in Interwar France\n",
            "  Autores: Aubin David (IMJ)\n",
            "  Referencia publicación: None\n",
            "----------------------------------------\n",
            "17.Título: \"Bad Metal\" Conductivity of Hard Core Bosons\n",
            "  Autores: Netanel H. Lindner and Assa Auerbach (Technion)\n",
            "  Referencia publicación: Phys. Rev. B 81, 054512 (2010)\n",
            "----------------------------------------\n",
            "18.Título: \"Betweenness Centrality\" as an Indicator of the \"Interdisciplinarity\" of\n",
            "  Scientific Journals\n",
            "  Autores: Loet Leydesdorff\n",
            "  Referencia publicación: Journal of the American Society for Information Science and\n",
            "  Technology 58(9), 1303-1309, 2007\n",
            "----------------------------------------\n",
            "19.Título: \"Big\" Divisor D3/D7 Swiss Cheese Phenomenology\n",
            "  Autores: Aalok Misra\n",
            "  Referencia publicación: Mod.Phys.Lett.A26:1-17,2011\n",
            "----------------------------------------\n",
            "20.Título: \"Birds of a Feather\": Does User Homophily Impact Information Diffusion\n",
            "  in Social Media?\n",
            "  Autores: Munmun De Choudhury, Hari Sundaram, Ajita John, Doree Duncan\n",
            "  Seligmann, Aisling Kelliher\n",
            "  Referencia publicación: None\n",
            "----------------------------------------\n"
          ]
        }
      ],
      "source": [
        "def leer_articulos_con_doi(collection):\n",
        "    \"\"\"\n",
        "    Devuelve títulos, autores y referencia de publicación de artículos con DOI.\n",
        "    Ordena alfabéticamente por título y limita a 20 resultados.\n",
        "    \"\"\"\n",
        "    try:\n",
        "        cursor = collection.find(\n",
        "            {\"doi\": {\"$exists\": True, \"$ne\": \"\"}},\n",
        "            {\"_id\": 0, \"title\": 1, \"authors\": 1, \"journal-ref\": 1}).sort(\"title\", 1).limit(20)\n",
        "\n",
        "        resultados = []\n",
        "        for doc in cursor:\n",
        "            resultados.append({\n",
        "                \"titulo\": doc.get(\"title\", \"Sin título\"),\n",
        "                \"autores\": doc.get(\"authors\", []),\n",
        "                \"referencia_publicacion\": doc.get(\"journal-ref\", \"No disponible\")\n",
        "            })\n",
        "\n",
        "        if resultados:\n",
        "            print(\"Artículos con DOI:\")\n",
        "            print()\n",
        "            i = 1\n",
        "            for art in resultados:\n",
        "                print(f\"{i}.Título: {art['titulo']}\")\n",
        "                print(f\"  Autores: {art['autores']}\")\n",
        "                print(f\"  Referencia publicación: {art['referencia_publicacion']}\")\n",
        "                print(\"-\" * 40)\n",
        "                i += 1\n",
        "        else:\n",
        "            print(\"No se encontraron artículos con DOI.\")\n",
        "\n",
        "        return resultados\n",
        "\n",
        "    except Exception as e:\n",
        "        print(f\"Error al buscar artículos con DOI: {e}\")\n",
        "        return []\n",
        "\n",
        "articulos_encontrados = leer_articulos_con_doi(collection)"
      ]
    },
    {
      "cell_type": "markdown",
      "metadata": {},
      "source": [
        "Consulta 5"
      ]
    },
    {
      "cell_type": "code",
      "execution_count": 18,
      "metadata": {},
      "outputs": [
        {
          "name": "stdout",
          "output_type": "stream",
          "text": [
            "1. Titulo: A landscape of non-supersymmetric AdS vacua on coset manifolds\n",
            "  Primera versión: Mon, 4 Jan 2010 13:51:46 GMT\n",
            "--------------------------------------------------\n",
            "2. Titulo: Jet Shapes and Jet Algorithms in SCET\n",
            "  Primera versión: Mon, 4 Jan 2010 20:56:57 GMT\n",
            "--------------------------------------------------\n",
            "3. Titulo: A Comprehensive Analysis of Uncertainties Affecting the Stellar Mass -\n",
            "  Halo Mass Relation for 0<z<4\n",
            "  Primera versión: Sun, 3 Jan 2010 19:43:29 GMT\n",
            "--------------------------------------------------\n",
            "4. Titulo: Testing product states, quantum Merlin-Arthur games and tensor\n",
            "  optimisation\n",
            "  Primera versión: Mon, 4 Jan 2010 18:01:41 GMT\n",
            "--------------------------------------------------\n",
            "5. Titulo: Mu-Tau Production at Hadron Colliders\n",
            "  Primera versión: Mon, 4 Jan 2010 04:10:52 GMT\n",
            "--------------------------------------------------\n",
            "6. Titulo: New identities involving q-Euler polynomials of higher order\n",
            "  Primera versión: Mon, 4 Jan 2010 15:34:13 GMT\n",
            "--------------------------------------------------\n",
            "7. Titulo: Strong Constraints to the Putative Planet Candidate around VB 10 using\n",
            "  Doppler spectroscopy\n",
            "  Primera versión: Fri, 1 Jan 2010 00:07:58 GMT\n",
            "--------------------------------------------------\n",
            "8. Titulo: Arrested phase separation in reproducing bacteria: a generic route to\n",
            "  pattern formation?\n",
            "  Primera versión: Mon, 4 Jan 2010 19:56:03 GMT\n",
            "--------------------------------------------------\n",
            "9. Titulo: Euclid Imaging Consortium Science Book\n",
            "  Primera versión: Mon, 4 Jan 2010 15:34:42 GMT\n",
            "--------------------------------------------------\n",
            "10. Titulo: Bayesian Methods and Universal Darwinism\n",
            "  Primera versión: Mon, 4 Jan 2010 17:01:57 GMT\n",
            "--------------------------------------------------\n",
            "11. Titulo: News on PHOTOS Monte Carlo: gamma^* -> pi^+ pi^-(gamma) and K^\\pm ->\n",
            "  pi^+ pi^- e^\\pm nu (gamma)\n",
            "  Primera versión: Mon, 4 Jan 2010 15:50:15 GMT\n",
            "--------------------------------------------------\n",
            "12. Titulo: Nonmeasurability in Banach spaces\n",
            "  Primera versión: Mon, 4 Jan 2010 16:31:26 GMT\n",
            "--------------------------------------------------\n",
            "13. Titulo: Rigid Symmetries and Conservation Laws in Non-Lagrangian Field Theory\n",
            "  Primera versión: Mon, 4 Jan 2010 12:30:50 GMT\n",
            "--------------------------------------------------\n",
            "14. Titulo: The quadratic character of 1+\\sqrt{2} and an elliptic curve\n",
            "  Primera versión: Sun, 3 Jan 2010 04:16:44 GMT\n",
            "--------------------------------------------------\n",
            "15. Titulo: Collapsing and Separating Completeness Notions under Average-Case and\n",
            "  Worst-Case Hypotheses\n",
            "  Primera versión: Mon, 4 Jan 2010 20:55:05 GMT\n",
            "--------------------------------------------------\n"
          ]
        }
      ],
      "source": [
        "def obtener_articulos_2010_2015(collection):\n",
        "    try:\n",
        "        # Expresión regular para años del 2010 al 2015 en la fecha creada\n",
        "        regex = {\"$regex\": r\"201[0-5]\"}\n",
        "        \n",
        "        # Solo pedimos los artículos con una primera versión que coincida\n",
        "        cursor = collection.find(\n",
        "            { \"versions.0.created\": regex },\n",
        "            { \"title\": 1, \"versions\": 1 }\n",
        "        ).limit(15)\n",
        "\n",
        "        resultados = []\n",
        "        for doc in cursor:\n",
        "            title = doc.get(\"title\", \"(sin título)\")\n",
        "            versiones = doc.get(\"versions\", [])\n",
        "            if versiones and \"created\" in versiones[0]:\n",
        "                fecha = versiones[0][\"created\"]\n",
        "            else:\n",
        "                fecha = \"¿sin fecha?\"\n",
        "                \n",
        "            resultados.append({\n",
        "                \"title\": title,\n",
        "                \"fecha_primera_version\": fecha\n",
        "            })\n",
        "        i = 1\n",
        "        for r in resultados:\n",
        "            print(f\"{i}. Titulo: {r['title']}\")\n",
        "            print(f\"  Primera versión: {r['fecha_primera_version']}\")\n",
        "            print(\"-\" * 50)\n",
        "            i += 1\n",
        "\n",
        "        return resultados\n",
        "\n",
        "    except Exception as e:\n",
        "        print(f\"Error ejecutando la consulta: {e}\")\n",
        "\n",
        "articulos_encontrados = obtener_articulos_2010_2015(collection)"
      ]
    },
    {
      "cell_type": "markdown",
      "metadata": {},
      "source": [
        "Consulta 6"
      ]
    },
    {
      "cell_type": "code",
      "execution_count": 19,
      "metadata": {},
      "outputs": [
        {
          "name": "stdout",
          "output_type": "stream",
          "text": [
            "1. Título: Computing genus 2 Hilbert-Siegel modular forms over $\\Q(\\sqrt{5})$ via\n",
            "  the Jacquet-Langlands correspondence\n",
            "   Comentarios: 14 pages; title changed; to appear in Experimental Mathematics\n",
            "   Número de reporte: null\n",
            "--------------------------------------------------\n",
            "2. Título: Iterated integral and the loop product\n",
            "   Comentarios: 18 pages, 1 figure\n",
            "   Número de reporte: null\n",
            "--------------------------------------------------\n",
            "3. Título: Bosonic characters of atomic Cooper pairs across resonance\n",
            "   Comentarios: 6 pages, 4 figures, accepted by PRA\n",
            "   Número de reporte: null\n",
            "--------------------------------------------------\n",
            "4. Título: Partial cubes: structures, characterizations, and constructions\n",
            "   Comentarios: 36 pages, 17 figures\n",
            "   Número de reporte: null\n",
            "--------------------------------------------------\n",
            "5. Título: Polymer Quantum Mechanics and its Continuum Limit\n",
            "   Comentarios: 16 pages, no figures. Typos corrected to match published version\n",
            "   Número de reporte: null\n",
            "--------------------------------------------------\n",
            "6. Título: A determinant of Stirling cycle numbers counts unlabeled acyclic\n",
            "  single-source automata\n",
            "   Comentarios: 11 pages\n",
            "   Número de reporte: null\n",
            "--------------------------------------------------\n",
            "7. Título: Sparsity-certifying Graph Decompositions\n",
            "   Comentarios: To appear in Graphs and Combinatorics\n",
            "   Número de reporte: null\n",
            "--------------------------------------------------\n",
            "8. Título: Calculation of prompt diphoton production cross sections at Tevatron and\n",
            "  LHC energies\n",
            "   Comentarios: 37 pages, 15 figures; published version\n",
            "   Número de reporte: null\n",
            "--------------------------------------------------\n",
            "9. Título: The evolution of the Earth-Moon system based on the dark matter field\n",
            "  fluid model\n",
            "   Comentarios: 23 pages, 3 figures\n",
            "   Número de reporte: null\n",
            "--------------------------------------------------\n",
            "10. Título: Numerical solution of shock and ramp compression for general material\n",
            "  properties\n",
            "   Comentarios: Minor corrections\n",
            "   Número de reporte: null\n",
            "--------------------------------------------------\n"
          ]
        }
      ],
      "source": [
        "def obtener_articulos_no_nulos(collection):\n",
        "    try:\n",
        "        cursor = collection.find(\n",
        "            # Filtro para artículos que tienen comentarios no nulos.\n",
        "            {\"comments\": {\"$exists\": True, \"$ne\": None}},\n",
        "            # Buscamos solo por titulo, comentarios y número de reporte.\n",
        "            {\"title\": 1, \"comments\": 1, \"report-no\": 1}\n",
        "        ).sort(\"updated\", -1).limit(10)\n",
        "\n",
        "        resultados = []\n",
        "        for doc in cursor:\n",
        "            resultados.append({\n",
        "                \"title\": doc.get(\"title\", \"Sin título\"),\n",
        "                \"comments\": doc.get(\"comments\", []),\n",
        "                \"report_no\": doc.get(\"doi\", {}).get(\"report-no\", \"null\")\n",
        "            })\n",
        "        \n",
        "        return resultados\n",
        "    \n",
        "    except Exception as e:\n",
        "        print(f\"Error ejecutando la consulta: {e}\")\n",
        "\n",
        "articulos_encontrados = obtener_articulos_no_nulos(collection)\n",
        "i = 1\n",
        "for articulos in articulos_encontrados:\n",
        "    print(f\"{i}. Título: {articulos['title']}\")\n",
        "    print(f\"   Comentarios: {articulos['comments']}\")\n",
        "    print(f\"   Número de reporte: {articulos['report_no']}\")\n",
        "    print(\"-\" * 50)\n",
        "    i += 1"
      ]
    },
    {
      "cell_type": "markdown",
      "metadata": {},
      "source": [
        "Código para asegurar consistencia de los datos"
      ]
    },
    {
      "cell_type": "markdown",
      "metadata": {},
      "source": [
        "Insertamos un dato \"test\" en el contenedor principal."
      ]
    },
    {
      "cell_type": "code",
      "execution_count": 20,
      "metadata": {},
      "outputs": [
        {
          "name": "stdout",
          "output_type": "stream",
          "text": [
            "Documento insertado en mongo1 con ID: 684b83ffa546dbb551bd9e89\n"
          ]
        }
      ],
      "source": [
        "#Con el siguiente código insertamos un documento de prueba en el nodo primario\n",
        "def insertar_en_nodoPrimario(collection, data):\n",
        "    try:\n",
        "        result = collection.insert_one(data)\n",
        "        print(f\"Documento insertado en mongo1 con ID: {result.inserted_id}\")\n",
        "    except Exception as e:\n",
        "        print(f\"Error al insertar en mongo1: {e}\")\n",
        "\n",
        "insertar_en_nodoPrimario(collection, {\"test\": \"replicacion_OK\"})"
      ]
    },
    {
      "cell_type": "markdown",
      "metadata": {},
      "source": [
        "Ahora, consultamos en los tres contenedores si se encuentra el dato \"test\"."
      ]
    },
    {
      "cell_type": "code",
      "execution_count": 21,
      "metadata": {},
      "outputs": [
        {
          "name": "stdout",
          "output_type": "stream",
          "text": [
            "-> Dato encontrado en mongo1: {'_id': ObjectId('684b83ffa546dbb551bd9e89'), 'test': 'replicacion_OK'}\n",
            "-> Dato encontrado en mongo2: {'_id': ObjectId('684b83ffa546dbb551bd9e89'), 'test': 'replicacion_OK'}\n",
            "-> Dato encontrado en mongo3: {'_id': ObjectId('684b83ffa546dbb551bd9e89'), 'test': 'replicacion_OK'}\n"
          ]
        }
      ],
      "source": [
        "#Ahora buscamos el dato insertado en cada nodo del Replica Set\n",
        "def buscar_dato_test_por_nodo(port, contenedor):\n",
        "    try:\n",
        "        client = MongoClient(f\"mongodb://localhost:{port}\", serverSelectionTimeoutMS=5000)\n",
        "        db = client[\"arxiv_db\"]\n",
        "        collection = db[\"articles\"]\n",
        "\n",
        "        result = collection.find_one({\"test\": \"replicacion_OK\"})\n",
        "        if result:\n",
        "            print(f\"-> Dato encontrado en {contenedor}: {result}\")\n",
        "        else:\n",
        "            print(f\"-> Dato no encontrado en {contenedor}.\")\n",
        "    except Exception as e:\n",
        "        print(f\"Error al buscar en {contenedor}: {e}\")\n",
        "\n",
        "#Llamamos por cada nodo si existe el dato insertado\n",
        "buscar_dato_test_por_nodo(30001, \"mongo1\")\n",
        "buscar_dato_test_por_nodo(30002, \"mongo2\")\n",
        "buscar_dato_test_por_nodo(30003, \"mongo3\")"
      ]
    },
    {
      "cell_type": "markdown",
      "metadata": {},
      "source": [
        "En el siguiente paso, actualizamos el dato en el nodo principal y verificamos la replicación en los otros nodos."
      ]
    },
    {
      "cell_type": "code",
      "execution_count": 22,
      "metadata": {},
      "outputs": [
        {
          "name": "stdout",
          "output_type": "stream",
          "text": [
            "-> Dato actualizado correctamente.\n",
            "--------------------------------------------------\n",
            "-> Dato encontrado en mongo1: {'_id': ObjectId('684b83ffa546dbb551bd9e89'), 'test': 'Actualizado!'}\n",
            "-> Dato encontrado en mongo2: {'_id': ObjectId('684b83ffa546dbb551bd9e89'), 'test': 'Actualizado!'}\n",
            "-> Dato encontrado en mongo3: {'_id': ObjectId('684b83ffa546dbb551bd9e89'), 'test': 'Actualizado!'}\n"
          ]
        }
      ],
      "source": [
        "def actualizar_dato_test():\n",
        "    try:\n",
        "        # Actualizamos el campo \"test\" a \"Actualizado!\" en el nodo primario\n",
        "        result = collection.update_one(\n",
        "            {\"test\": \"replicacion_OK\"},\n",
        "            {\"$set\": {\"test\": \"Actualizado!\"}}\n",
        "        )\n",
        "        if result.modified_count > 0:\n",
        "            print(\"-> Dato actualizado correctamente.\")\n",
        "        else:\n",
        "            print(\"-> No se encontró el dato para actualizar.\")\n",
        "    except Exception as e:\n",
        "        print(f\"Error al actualizar el dato: {e}\")\n",
        "\n",
        "def buscar_dato_test_por_nodo(port, contenedor):\n",
        "    try:\n",
        "        client = MongoClient(f\"mongodb://localhost:{port}\", serverSelectionTimeoutMS=5000)\n",
        "        db = client[\"arxiv_db\"]\n",
        "        collection = db[\"articles\"]\n",
        "\n",
        "        result = collection.find_one({\"test\": \"Actualizado!\"})\n",
        "        if result:\n",
        "            print(f\"-> Dato encontrado en {contenedor}: {result}\")\n",
        "        else:\n",
        "            print(f\"-> Dato no encontrado en {contenedor}.\")\n",
        "    except Exception as e:\n",
        "        print(f\"Error al buscar en {contenedor}: {e}\")\n",
        "\n",
        "actualizar_dato_test()\n",
        "print(\"-\"*50)\n",
        "buscar_dato_test_por_nodo(30001, \"mongo1\")\n",
        "buscar_dato_test_por_nodo(30002, \"mongo2\")\n",
        "buscar_dato_test_por_nodo(30003, \"mongo3\")"
      ]
    },
    {
      "cell_type": "markdown",
      "metadata": {},
      "source": [
        "Ahora borramos el dato que hemos actualizado y lo buscamos en los 3 contenedores para verificar efectivamente la consistencia de los datos"
      ]
    },
    {
      "cell_type": "code",
      "execution_count": 23,
      "metadata": {},
      "outputs": [
        {
          "name": "stdout",
          "output_type": "stream",
          "text": [
            "-> Dato borrado correctamente.\n",
            "--------------------------------------------------\n",
            "-> Dato no encontrado en mongo1.\n",
            "-> Dato no encontrado en mongo2.\n",
            "-> Dato no encontrado en mongo3.\n"
          ]
        }
      ],
      "source": [
        "def borrar_dato_test():\n",
        "    try:\n",
        "        result = collection.delete_one({\"test\": \"Actualizado!\"})\n",
        "        if result.deleted_count > 0:\n",
        "            print(\"-> Dato borrado correctamente.\")\n",
        "        else:\n",
        "            print(\"-> No se encontró el dato para borrar.\")\n",
        "    except Exception as e:\n",
        "        print(f\"Error al borrar el dato: {e}\")\n",
        "\n",
        "def buscar_dato_test_por_nodo(port, contenedor):\n",
        "    try:\n",
        "        client = MongoClient(f\"mongodb://localhost:{port}\", serverSelectionTimeoutMS=5000)\n",
        "        db = client[\"arxiv_db\"]\n",
        "        collection = db[\"articles\"]\n",
        "\n",
        "        result = collection.find_one({\"test\": \"Actualizado!\"})\n",
        "        if result:\n",
        "            print(f\"-> Dato encontrado en {contenedor}: {result}\")\n",
        "        else:\n",
        "            print(f\"-> Dato no encontrado en {contenedor}.\")\n",
        "    except Exception as e:\n",
        "        print(f\"Error al buscar en {contenedor}: {e}\")\n",
        "\n",
        "borrar_dato_test()\n",
        "print(\"-\"*50)\n",
        "buscar_dato_test_por_nodo(30001, \"mongo1\")\n",
        "buscar_dato_test_por_nodo(30002, \"mongo2\")\n",
        "buscar_dato_test_por_nodo(30003, \"mongo3\")"
      ]
    }
  ],
  "metadata": {
    "colab": {
      "provenance": []
    },
    "kernelspec": {
      "display_name": "Python 3",
      "name": "python3"
    },
    "language_info": {
      "codemirror_mode": {
        "name": "ipython",
        "version": 3
      },
      "file_extension": ".py",
      "mimetype": "text/x-python",
      "name": "python",
      "nbconvert_exporter": "python",
      "pygments_lexer": "ipython3",
      "version": "3.10.11"
    }
  },
  "nbformat": 4,
  "nbformat_minor": 0
}
